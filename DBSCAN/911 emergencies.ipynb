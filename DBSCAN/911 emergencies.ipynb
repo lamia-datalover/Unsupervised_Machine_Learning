{
 "cells": [
  {
   "cell_type": "markdown",
   "id": "be105693",
   "metadata": {},
   "source": [
    "### A US-county would like to know what are the main cases they need to focus on to protect their citizens, the goal is to get this kind of recommandations . In addition there is a map with all the 911 calls they received over the past years."
   ]
  },
  {
   "cell_type": "code",
   "execution_count": 1,
   "id": "31a058ba",
   "metadata": {
    "scrolled": true
   },
   "outputs": [
    {
     "name": "stderr",
     "output_type": "stream",
     "text": [
      "C:\\Users\\chekk\\anaconda3\\lib\\site-packages\\cupy\\_environment.py:216: UserWarning: CUDA path could not be detected. Set CUDA_PATH environment variable if CuPy fails to load.\n",
      "  warnings.warn(\n"
     ]
    }
   ],
   "source": [
    "import pandas as pd\n",
    "import seaborn as sns\n",
    "import matplotlib.pyplot as plt\n",
    "from sklearn.pipeline import Pipeline\n",
    "from sklearn.impute import SimpleImputer\n",
    "from sklearn.preprocessing import  OneHotEncoder, StandardScaler\n",
    "from sklearn.compose import ColumnTransformer\n",
    "from sklearn.cluster import KMeans, DBSCAN\n",
    "from sklearn.metrics import  silhouette_score\n",
    "\n",
    "import warnings\n",
    "warnings.filterwarnings(\"ignore\", category=DeprecationWarning) \n",
    "\n",
    "import plotly.express as px\n",
    "import plotly.io as pio\n",
    "pio.renderers.default = \"iframe_connected\""
   ]
  },
  {
   "cell_type": "code",
   "execution_count": 5,
   "id": "b72305c7",
   "metadata": {},
   "outputs": [],
   "source": [
    "dataset=pd.read_csv(\"911.csv\")"
   ]
  },
  {
   "cell_type": "code",
   "execution_count": 6,
   "id": "deb68347",
   "metadata": {},
   "outputs": [
    {
     "data": {
      "text/html": [
       "<div>\n",
       "<style scoped>\n",
       "    .dataframe tbody tr th:only-of-type {\n",
       "        vertical-align: middle;\n",
       "    }\n",
       "\n",
       "    .dataframe tbody tr th {\n",
       "        vertical-align: top;\n",
       "    }\n",
       "\n",
       "    .dataframe thead th {\n",
       "        text-align: right;\n",
       "    }\n",
       "</style>\n",
       "<table border=\"1\" class=\"dataframe\">\n",
       "  <thead>\n",
       "    <tr style=\"text-align: right;\">\n",
       "      <th></th>\n",
       "      <th>lat</th>\n",
       "      <th>lng</th>\n",
       "      <th>desc</th>\n",
       "      <th>zip</th>\n",
       "      <th>title</th>\n",
       "      <th>timeStamp</th>\n",
       "      <th>twp</th>\n",
       "      <th>addr</th>\n",
       "      <th>e</th>\n",
       "    </tr>\n",
       "  </thead>\n",
       "  <tbody>\n",
       "    <tr>\n",
       "      <th>625945</th>\n",
       "      <td>40.106293</td>\n",
       "      <td>-75.059001</td>\n",
       "      <td>MORELAND RD &amp; WILLIAMSBURG RD; LOWER MORELAND;...</td>\n",
       "      <td>19006.0</td>\n",
       "      <td>Fire: ELECTRICAL FIRE OUTSIDE</td>\n",
       "      <td>2020-04-06 18:40:28</td>\n",
       "      <td>LOWER MORELAND</td>\n",
       "      <td>MORELAND RD &amp; WILLIAMSBURG RD</td>\n",
       "      <td>1</td>\n",
       "    </tr>\n",
       "    <tr>\n",
       "      <th>245042</th>\n",
       "      <td>40.107709</td>\n",
       "      <td>-75.213634</td>\n",
       "      <td>MILL RD &amp; BETHLEHEM PIKE;  WHITEMARSH; Station...</td>\n",
       "      <td>19031.0</td>\n",
       "      <td>EMS: SUBJECT IN PAIN</td>\n",
       "      <td>2017-09-07 17:04:05</td>\n",
       "      <td>WHITEMARSH</td>\n",
       "      <td>MILL RD &amp; BETHLEHEM PIKE</td>\n",
       "      <td>1</td>\n",
       "    </tr>\n",
       "    <tr>\n",
       "      <th>460293</th>\n",
       "      <td>40.100423</td>\n",
       "      <td>-75.207064</td>\n",
       "      <td>RT309 EXPY &amp; WILLOW GROVE AVE OVERPASS; SPRING...</td>\n",
       "      <td>NaN</td>\n",
       "      <td>Traffic: ROAD OBSTRUCTION -</td>\n",
       "      <td>2019-02-14 13:49:06</td>\n",
       "      <td>SPRINGFIELD</td>\n",
       "      <td>RT309 EXPY &amp; WILLOW GROVE AVE OVERPASS</td>\n",
       "      <td>1</td>\n",
       "    </tr>\n",
       "    <tr>\n",
       "      <th>160352</th>\n",
       "      <td>40.002564</td>\n",
       "      <td>-75.223650</td>\n",
       "      <td>CITY AVE &amp; N 47TH ST; LOWER MERION; 2017-01-27...</td>\n",
       "      <td>19004.0</td>\n",
       "      <td>Fire: VEHICLE FIRE</td>\n",
       "      <td>2017-01-27 11:45:41</td>\n",
       "      <td>LOWER MERION</td>\n",
       "      <td>CITY AVE &amp; N 47TH ST</td>\n",
       "      <td>1</td>\n",
       "    </tr>\n",
       "    <tr>\n",
       "      <th>530095</th>\n",
       "      <td>40.252203</td>\n",
       "      <td>-75.683169</td>\n",
       "      <td>SYLVAN DR &amp; GROSSTOWN RD;  WEST POTTSGROVE; St...</td>\n",
       "      <td>19464.0</td>\n",
       "      <td>EMS: STABBING</td>\n",
       "      <td>2019-08-04 20:31:25</td>\n",
       "      <td>WEST POTTSGROVE</td>\n",
       "      <td>SYLVAN DR &amp; GROSSTOWN RD</td>\n",
       "      <td>1</td>\n",
       "    </tr>\n",
       "  </tbody>\n",
       "</table>\n",
       "</div>"
      ],
      "text/plain": [
       "              lat        lng  \\\n",
       "625945  40.106293 -75.059001   \n",
       "245042  40.107709 -75.213634   \n",
       "460293  40.100423 -75.207064   \n",
       "160352  40.002564 -75.223650   \n",
       "530095  40.252203 -75.683169   \n",
       "\n",
       "                                                     desc      zip  \\\n",
       "625945  MORELAND RD & WILLIAMSBURG RD; LOWER MORELAND;...  19006.0   \n",
       "245042  MILL RD & BETHLEHEM PIKE;  WHITEMARSH; Station...  19031.0   \n",
       "460293  RT309 EXPY & WILLOW GROVE AVE OVERPASS; SPRING...      NaN   \n",
       "160352  CITY AVE & N 47TH ST; LOWER MERION; 2017-01-27...  19004.0   \n",
       "530095  SYLVAN DR & GROSSTOWN RD;  WEST POTTSGROVE; St...  19464.0   \n",
       "\n",
       "                                title            timeStamp              twp  \\\n",
       "625945  Fire: ELECTRICAL FIRE OUTSIDE  2020-04-06 18:40:28   LOWER MORELAND   \n",
       "245042           EMS: SUBJECT IN PAIN  2017-09-07 17:04:05       WHITEMARSH   \n",
       "460293    Traffic: ROAD OBSTRUCTION -  2019-02-14 13:49:06      SPRINGFIELD   \n",
       "160352             Fire: VEHICLE FIRE  2017-01-27 11:45:41     LOWER MERION   \n",
       "530095                  EMS: STABBING  2019-08-04 20:31:25  WEST POTTSGROVE   \n",
       "\n",
       "                                          addr  e  \n",
       "625945           MORELAND RD & WILLIAMSBURG RD  1  \n",
       "245042                MILL RD & BETHLEHEM PIKE  1  \n",
       "460293  RT309 EXPY & WILLOW GROVE AVE OVERPASS  1  \n",
       "160352                    CITY AVE & N 47TH ST  1  \n",
       "530095                SYLVAN DR & GROSSTOWN RD  1  "
      ]
     },
     "execution_count": 6,
     "metadata": {},
     "output_type": "execute_result"
    }
   ],
   "source": [
    "sample = emergency.sample(n=10000)\n",
    "sample.head()"
   ]
  },
  {
   "cell_type": "code",
   "execution_count": 7,
   "id": "6d39a863",
   "metadata": {},
   "outputs": [
    {
     "name": "stdout",
     "output_type": "stream",
     "text": [
      "The shape of the dataset is :\n"
     ]
    },
    {
     "data": {
      "text/plain": [
       "(663522, 9)"
      ]
     },
     "metadata": {},
     "output_type": "display_data"
    },
    {
     "name": "stdout",
     "output_type": "stream",
     "text": [
      "The columns of the dataset :\n"
     ]
    },
    {
     "data": {
      "text/plain": [
       "Index(['lat', 'lng', 'desc', 'zip', 'title', 'timeStamp', 'twp', 'addr', 'e'], dtype='object')"
      ]
     },
     "metadata": {},
     "output_type": "display_data"
    },
    {
     "name": "stdout",
     "output_type": "stream",
     "text": [
      "The Type of columns of the dataset :\n"
     ]
    },
    {
     "data": {
      "text/plain": [
       "lat          float64\n",
       "lng          float64\n",
       "desc          object\n",
       "zip          float64\n",
       "title         object\n",
       "timeStamp     object\n",
       "twp           object\n",
       "addr          object\n",
       "e              int64\n",
       "dtype: object"
      ]
     },
     "metadata": {},
     "output_type": "display_data"
    },
    {
     "name": "stdout",
     "output_type": "stream",
     "text": [
      " Some statistical information about the dataset :\n"
     ]
    },
    {
     "data": {
      "text/html": [
       "<div>\n",
       "<style scoped>\n",
       "    .dataframe tbody tr th:only-of-type {\n",
       "        vertical-align: middle;\n",
       "    }\n",
       "\n",
       "    .dataframe tbody tr th {\n",
       "        vertical-align: top;\n",
       "    }\n",
       "\n",
       "    .dataframe thead th {\n",
       "        text-align: right;\n",
       "    }\n",
       "</style>\n",
       "<table border=\"1\" class=\"dataframe\">\n",
       "  <thead>\n",
       "    <tr style=\"text-align: right;\">\n",
       "      <th></th>\n",
       "      <th>lat</th>\n",
       "      <th>lng</th>\n",
       "      <th>desc</th>\n",
       "      <th>zip</th>\n",
       "      <th>title</th>\n",
       "      <th>timeStamp</th>\n",
       "      <th>twp</th>\n",
       "      <th>addr</th>\n",
       "      <th>e</th>\n",
       "    </tr>\n",
       "  </thead>\n",
       "  <tbody>\n",
       "    <tr>\n",
       "      <th>count</th>\n",
       "      <td>663522.000000</td>\n",
       "      <td>663522.000000</td>\n",
       "      <td>663522</td>\n",
       "      <td>583323.000000</td>\n",
       "      <td>663522</td>\n",
       "      <td>663522</td>\n",
       "      <td>663229</td>\n",
       "      <td>663522</td>\n",
       "      <td>663522.0</td>\n",
       "    </tr>\n",
       "    <tr>\n",
       "      <th>unique</th>\n",
       "      <td>NaN</td>\n",
       "      <td>NaN</td>\n",
       "      <td>663282</td>\n",
       "      <td>NaN</td>\n",
       "      <td>148</td>\n",
       "      <td>640754</td>\n",
       "      <td>68</td>\n",
       "      <td>41292</td>\n",
       "      <td>NaN</td>\n",
       "    </tr>\n",
       "    <tr>\n",
       "      <th>top</th>\n",
       "      <td>NaN</td>\n",
       "      <td>NaN</td>\n",
       "      <td>CITY AVE &amp; CARDINAL AVE;  LOWER MERION; Statio...</td>\n",
       "      <td>NaN</td>\n",
       "      <td>Traffic: VEHICLE ACCIDENT -</td>\n",
       "      <td>2018-10-06 19:26:38</td>\n",
       "      <td>LOWER MERION</td>\n",
       "      <td>SHANNONDELL DR &amp; SHANNONDELL BLVD</td>\n",
       "      <td>NaN</td>\n",
       "    </tr>\n",
       "    <tr>\n",
       "      <th>freq</th>\n",
       "      <td>NaN</td>\n",
       "      <td>NaN</td>\n",
       "      <td>5</td>\n",
       "      <td>NaN</td>\n",
       "      <td>148372</td>\n",
       "      <td>9</td>\n",
       "      <td>55490</td>\n",
       "      <td>7285</td>\n",
       "      <td>NaN</td>\n",
       "    </tr>\n",
       "    <tr>\n",
       "      <th>mean</th>\n",
       "      <td>40.158162</td>\n",
       "      <td>-75.300105</td>\n",
       "      <td>NaN</td>\n",
       "      <td>19236.055791</td>\n",
       "      <td>NaN</td>\n",
       "      <td>NaN</td>\n",
       "      <td>NaN</td>\n",
       "      <td>NaN</td>\n",
       "      <td>1.0</td>\n",
       "    </tr>\n",
       "    <tr>\n",
       "      <th>std</th>\n",
       "      <td>0.220641</td>\n",
       "      <td>1.672884</td>\n",
       "      <td>NaN</td>\n",
       "      <td>298.222637</td>\n",
       "      <td>NaN</td>\n",
       "      <td>NaN</td>\n",
       "      <td>NaN</td>\n",
       "      <td>NaN</td>\n",
       "      <td>0.0</td>\n",
       "    </tr>\n",
       "    <tr>\n",
       "      <th>min</th>\n",
       "      <td>0.000000</td>\n",
       "      <td>-119.698206</td>\n",
       "      <td>NaN</td>\n",
       "      <td>1104.000000</td>\n",
       "      <td>NaN</td>\n",
       "      <td>NaN</td>\n",
       "      <td>NaN</td>\n",
       "      <td>NaN</td>\n",
       "      <td>1.0</td>\n",
       "    </tr>\n",
       "    <tr>\n",
       "      <th>25%</th>\n",
       "      <td>40.100344</td>\n",
       "      <td>-75.392735</td>\n",
       "      <td>NaN</td>\n",
       "      <td>19038.000000</td>\n",
       "      <td>NaN</td>\n",
       "      <td>NaN</td>\n",
       "      <td>NaN</td>\n",
       "      <td>NaN</td>\n",
       "      <td>1.0</td>\n",
       "    </tr>\n",
       "    <tr>\n",
       "      <th>50%</th>\n",
       "      <td>40.143927</td>\n",
       "      <td>-75.305143</td>\n",
       "      <td>NaN</td>\n",
       "      <td>19401.000000</td>\n",
       "      <td>NaN</td>\n",
       "      <td>NaN</td>\n",
       "      <td>NaN</td>\n",
       "      <td>NaN</td>\n",
       "      <td>1.0</td>\n",
       "    </tr>\n",
       "    <tr>\n",
       "      <th>75%</th>\n",
       "      <td>40.229008</td>\n",
       "      <td>-75.211865</td>\n",
       "      <td>NaN</td>\n",
       "      <td>19446.000000</td>\n",
       "      <td>NaN</td>\n",
       "      <td>NaN</td>\n",
       "      <td>NaN</td>\n",
       "      <td>NaN</td>\n",
       "      <td>1.0</td>\n",
       "    </tr>\n",
       "    <tr>\n",
       "      <th>max</th>\n",
       "      <td>51.335390</td>\n",
       "      <td>87.854975</td>\n",
       "      <td>NaN</td>\n",
       "      <td>77316.000000</td>\n",
       "      <td>NaN</td>\n",
       "      <td>NaN</td>\n",
       "      <td>NaN</td>\n",
       "      <td>NaN</td>\n",
       "      <td>1.0</td>\n",
       "    </tr>\n",
       "  </tbody>\n",
       "</table>\n",
       "</div>"
      ],
      "text/plain": [
       "                  lat            lng  \\\n",
       "count   663522.000000  663522.000000   \n",
       "unique            NaN            NaN   \n",
       "top               NaN            NaN   \n",
       "freq              NaN            NaN   \n",
       "mean        40.158162     -75.300105   \n",
       "std          0.220641       1.672884   \n",
       "min          0.000000    -119.698206   \n",
       "25%         40.100344     -75.392735   \n",
       "50%         40.143927     -75.305143   \n",
       "75%         40.229008     -75.211865   \n",
       "max         51.335390      87.854975   \n",
       "\n",
       "                                                     desc            zip  \\\n",
       "count                                              663522  583323.000000   \n",
       "unique                                             663282            NaN   \n",
       "top     CITY AVE & CARDINAL AVE;  LOWER MERION; Statio...            NaN   \n",
       "freq                                                    5            NaN   \n",
       "mean                                                  NaN   19236.055791   \n",
       "std                                                   NaN     298.222637   \n",
       "min                                                   NaN    1104.000000   \n",
       "25%                                                   NaN   19038.000000   \n",
       "50%                                                   NaN   19401.000000   \n",
       "75%                                                   NaN   19446.000000   \n",
       "max                                                   NaN   77316.000000   \n",
       "\n",
       "                              title            timeStamp           twp  \\\n",
       "count                        663522               663522        663229   \n",
       "unique                          148               640754            68   \n",
       "top     Traffic: VEHICLE ACCIDENT -  2018-10-06 19:26:38  LOWER MERION   \n",
       "freq                         148372                    9         55490   \n",
       "mean                            NaN                  NaN           NaN   \n",
       "std                             NaN                  NaN           NaN   \n",
       "min                             NaN                  NaN           NaN   \n",
       "25%                             NaN                  NaN           NaN   \n",
       "50%                             NaN                  NaN           NaN   \n",
       "75%                             NaN                  NaN           NaN   \n",
       "max                             NaN                  NaN           NaN   \n",
       "\n",
       "                                     addr         e  \n",
       "count                              663522  663522.0  \n",
       "unique                              41292       NaN  \n",
       "top     SHANNONDELL DR & SHANNONDELL BLVD       NaN  \n",
       "freq                                 7285       NaN  \n",
       "mean                                  NaN       1.0  \n",
       "std                                   NaN       0.0  \n",
       "min                                   NaN       1.0  \n",
       "25%                                   NaN       1.0  \n",
       "50%                                   NaN       1.0  \n",
       "75%                                   NaN       1.0  \n",
       "max                                   NaN       1.0  "
      ]
     },
     "metadata": {},
     "output_type": "display_data"
    },
    {
     "name": "stdout",
     "output_type": "stream",
     "text": [
      " The pourcentage of missing value in the columns of the dataset:\n"
     ]
    },
    {
     "data": {
      "text/plain": [
       "lat           0.000000\n",
       "lng           0.000000\n",
       "desc          0.000000\n",
       "zip          12.086864\n",
       "title         0.000000\n",
       "timeStamp     0.000000\n",
       "twp           0.044158\n",
       "addr          0.000000\n",
       "e             0.000000\n",
       "dtype: float64"
      ]
     },
     "metadata": {},
     "output_type": "display_data"
    }
   ],
   "source": [
    "#Shape of the dataset\n",
    "print(\"The shape of the dataset is :\")\n",
    "display(dataset.shape)\n",
    "#The columns of the dataset\n",
    "print(\"The columns of the dataset :\")\n",
    "display(dataset.columns)\n",
    "#The type of the columns of the dataset \n",
    "print(\"The Type of columns of the dataset :\")\n",
    "display(dataset.dtypes)\n",
    "#Some statistical information about the dataset\n",
    "print(\" Some statistical information about the dataset :\")\n",
    "display(dataset.describe(include=\"all\"))\n",
    "#The pourcentage of missing value in the columns of the dataset\n",
    "print(\" The pourcentage of missing value in the columns of the dataset:\")\n",
    "display(100*dataset.isnull().sum()/dataset.shape[0])"
   ]
  },
  {
   "cell_type": "code",
   "execution_count": 9,
   "id": "785198b7",
   "metadata": {},
   "outputs": [
    {
     "data": {
      "text/html": [
       "<iframe\n",
       "    scrolling=\"no\"\n",
       "    width=\"100%\"\n",
       "    height=\"545px\"\n",
       "    src=\"iframe_figures/figure_9.html\"\n",
       "    frameborder=\"0\"\n",
       "    allowfullscreen\n",
       "></iframe>\n"
      ]
     },
     "metadata": {},
     "output_type": "display_data"
    }
   ],
   "source": [
    "fig = px.scatter_mapbox(\n",
    "        sample, \n",
    "        lat=\"lat\", \n",
    "        lon=\"lng\",\n",
    "        color=\"title\",\n",
    "        mapbox_style=\"carto-positron\"\n",
    ")\n",
    "\n",
    "fig.show()"
   ]
  },
  {
   "cell_type": "markdown",
   "id": "446624f2",
   "metadata": {},
   "source": [
    "#### The dataset is quite big we only use the following columns"
   ]
  },
  {
   "cell_type": "code",
   "execution_count": 10,
   "id": "b10530bf",
   "metadata": {},
   "outputs": [
    {
     "data": {
      "text/html": [
       "<div>\n",
       "<style scoped>\n",
       "    .dataframe tbody tr th:only-of-type {\n",
       "        vertical-align: middle;\n",
       "    }\n",
       "\n",
       "    .dataframe tbody tr th {\n",
       "        vertical-align: top;\n",
       "    }\n",
       "\n",
       "    .dataframe thead th {\n",
       "        text-align: right;\n",
       "    }\n",
       "</style>\n",
       "<table border=\"1\" class=\"dataframe\">\n",
       "  <thead>\n",
       "    <tr style=\"text-align: right;\">\n",
       "      <th></th>\n",
       "      <th>lat</th>\n",
       "      <th>lng</th>\n",
       "      <th>title</th>\n",
       "    </tr>\n",
       "  </thead>\n",
       "  <tbody>\n",
       "    <tr>\n",
       "      <th>625945</th>\n",
       "      <td>40.106293</td>\n",
       "      <td>-75.059001</td>\n",
       "      <td>Fire: ELECTRICAL FIRE OUTSIDE</td>\n",
       "    </tr>\n",
       "    <tr>\n",
       "      <th>245042</th>\n",
       "      <td>40.107709</td>\n",
       "      <td>-75.213634</td>\n",
       "      <td>EMS: SUBJECT IN PAIN</td>\n",
       "    </tr>\n",
       "    <tr>\n",
       "      <th>460293</th>\n",
       "      <td>40.100423</td>\n",
       "      <td>-75.207064</td>\n",
       "      <td>Traffic: ROAD OBSTRUCTION -</td>\n",
       "    </tr>\n",
       "    <tr>\n",
       "      <th>160352</th>\n",
       "      <td>40.002564</td>\n",
       "      <td>-75.223650</td>\n",
       "      <td>Fire: VEHICLE FIRE</td>\n",
       "    </tr>\n",
       "    <tr>\n",
       "      <th>530095</th>\n",
       "      <td>40.252203</td>\n",
       "      <td>-75.683169</td>\n",
       "      <td>EMS: STABBING</td>\n",
       "    </tr>\n",
       "  </tbody>\n",
       "</table>\n",
       "</div>"
      ],
      "text/plain": [
       "              lat        lng                          title\n",
       "625945  40.106293 -75.059001  Fire: ELECTRICAL FIRE OUTSIDE\n",
       "245042  40.107709 -75.213634           EMS: SUBJECT IN PAIN\n",
       "460293  40.100423 -75.207064    Traffic: ROAD OBSTRUCTION -\n",
       "160352  40.002564 -75.223650             Fire: VEHICLE FIRE\n",
       "530095  40.252203 -75.683169                  EMS: STABBING"
      ]
     },
     "execution_count": 10,
     "metadata": {},
     "output_type": "execute_result"
    }
   ],
   "source": [
    "sample = sample.loc[:, [\"lat\", \"lng\", \"title\"]]\n",
    "sample.head()"
   ]
  },
  {
   "cell_type": "markdown",
   "id": "9e3fd31d",
   "metadata": {},
   "source": [
    "### We are using a sample of the dataset and not the whole one , and we are using the following columns:\n",
    "#### [\"lat\", \"lng\", \"title\"]\n",
    "#### They do not have missing values , \"lat\",\"lng\" are numerical and \"title\" is categorical"
   ]
  },
  {
   "cell_type": "code",
   "execution_count": 13,
   "id": "2e1de432",
   "metadata": {},
   "outputs": [
    {
     "name": "stdout",
     "output_type": "stream",
     "text": [
      "The numerical features are ['lat', 'lng']:\n",
      "The categorical features are ['title']:\n"
     ]
    }
   ],
   "source": [
    "#Searching for numerical features and categorical ones\n",
    "num_features=[]\n",
    "categorical_features=[]\n",
    "for column, dtype in sample.dtypes.items():\n",
    "    if (dtype=='int64') or (dtype=='float64'):\n",
    "        num_features.append(column)\n",
    "    else:\n",
    "        categorical_features.append(column)\n",
    "print('The numerical features are {}:'.format(num_features))\n",
    "print('The categorical features are {}:'.format(categorical_features))"
   ]
  },
  {
   "cell_type": "code",
   "execution_count": 14,
   "id": "cdc4b9f1",
   "metadata": {},
   "outputs": [
    {
     "name": "stdout",
     "output_type": "stream",
     "text": [
      "Partial Creation of the preprocessing pipeline:\n",
      "Step 1 : for numerical features:\n",
      "Done^^\n",
      "Step 2 : for categorical features:\n",
      "Done^^\n",
      "Step 3 : Creation of the final pipeline \n",
      "Done^^\n"
     ]
    }
   ],
   "source": [
    "print(\"Partial Creation of the preprocessing pipeline:\")\n",
    "\n",
    "print(\"Step 1 : for numerical features:\")\n",
    "num_transformer=Pipeline(steps=\n",
    "                        [\n",
    "                         (\"scaler\",StandardScaler())\n",
    "                        ])\n",
    "print(\"Done^^\")\n",
    "\n",
    "print(\"Step 2 : for categorical features:\")\n",
    "cat_transformer=Pipeline(steps=\n",
    "                         [\n",
    "                          (\"cat_encoder\",OneHotEncoder())\n",
    "                         ])\n",
    "print(\"Done^^\")\n",
    "\n",
    "print(\"Step 3 : Creation of the final pipeline \")\n",
    "preprocessor=ColumnTransformer(transformers=[\n",
    "    (\"cat_transformer\", cat_transformer, categorical_features),\n",
    "    (\"num_transformer\", num_transformer, num_features)\n",
    "    ])\n",
    "print(\"Done^^\")"
   ]
  },
  {
   "cell_type": "code",
   "execution_count": 15,
   "id": "b9fe82b1",
   "metadata": {},
   "outputs": [],
   "source": [
    "X=preprocessor.fit_transform(sample)"
   ]
  },
  {
   "cell_type": "code",
   "execution_count": 16,
   "id": "db709612",
   "metadata": {},
   "outputs": [
    {
     "data": {
      "text/plain": [
       "DBSCAN(eps=0.2, metric='manhattan', min_samples=100)"
      ]
     },
     "execution_count": 16,
     "metadata": {},
     "output_type": "execute_result"
    }
   ],
   "source": [
    "from sklearn.cluster import DBSCAN\n",
    "\n",
    "db = DBSCAN(eps=0.2, min_samples=100, metric=\"manhattan\")\n",
    "\n",
    "db.fit(X)"
   ]
  },
  {
   "cell_type": "markdown",
   "id": "4a58f653",
   "metadata": {},
   "source": [
    "### The number of DBSCAN clusters"
   ]
  },
  {
   "cell_type": "code",
   "execution_count": 18,
   "id": "15dbdaab",
   "metadata": {},
   "outputs": [
    {
     "data": {
      "text/plain": [
       "array([-1,  0,  1,  2,  3,  4,  5,  6,  7,  8,  9, 10], dtype=int64)"
      ]
     },
     "execution_count": 18,
     "metadata": {},
     "output_type": "execute_result"
    }
   ],
   "source": [
    "import numpy as np\n",
    "np.unique(db.labels_)"
   ]
  },
  {
   "cell_type": "code",
   "execution_count": 19,
   "id": "ad2ffa2e",
   "metadata": {},
   "outputs": [
    {
     "data": {
      "text/html": [
       "<div>\n",
       "<style scoped>\n",
       "    .dataframe tbody tr th:only-of-type {\n",
       "        vertical-align: middle;\n",
       "    }\n",
       "\n",
       "    .dataframe tbody tr th {\n",
       "        vertical-align: top;\n",
       "    }\n",
       "\n",
       "    .dataframe thead th {\n",
       "        text-align: right;\n",
       "    }\n",
       "</style>\n",
       "<table border=\"1\" class=\"dataframe\">\n",
       "  <thead>\n",
       "    <tr style=\"text-align: right;\">\n",
       "      <th></th>\n",
       "      <th>lat</th>\n",
       "      <th>lng</th>\n",
       "      <th>title</th>\n",
       "      <th>Cluster</th>\n",
       "    </tr>\n",
       "  </thead>\n",
       "  <tbody>\n",
       "    <tr>\n",
       "      <th>625945</th>\n",
       "      <td>40.106293</td>\n",
       "      <td>-75.059001</td>\n",
       "      <td>Fire: ELECTRICAL FIRE OUTSIDE</td>\n",
       "      <td>-1</td>\n",
       "    </tr>\n",
       "    <tr>\n",
       "      <th>245042</th>\n",
       "      <td>40.107709</td>\n",
       "      <td>-75.213634</td>\n",
       "      <td>EMS: SUBJECT IN PAIN</td>\n",
       "      <td>0</td>\n",
       "    </tr>\n",
       "    <tr>\n",
       "      <th>460293</th>\n",
       "      <td>40.100423</td>\n",
       "      <td>-75.207064</td>\n",
       "      <td>Traffic: ROAD OBSTRUCTION -</td>\n",
       "      <td>8</td>\n",
       "    </tr>\n",
       "    <tr>\n",
       "      <th>160352</th>\n",
       "      <td>40.002564</td>\n",
       "      <td>-75.223650</td>\n",
       "      <td>Fire: VEHICLE FIRE</td>\n",
       "      <td>-1</td>\n",
       "    </tr>\n",
       "    <tr>\n",
       "      <th>530095</th>\n",
       "      <td>40.252203</td>\n",
       "      <td>-75.683169</td>\n",
       "      <td>EMS: STABBING</td>\n",
       "      <td>-1</td>\n",
       "    </tr>\n",
       "  </tbody>\n",
       "</table>\n",
       "</div>"
      ],
      "text/plain": [
       "              lat        lng                          title  Cluster\n",
       "625945  40.106293 -75.059001  Fire: ELECTRICAL FIRE OUTSIDE       -1\n",
       "245042  40.107709 -75.213634           EMS: SUBJECT IN PAIN        0\n",
       "460293  40.100423 -75.207064    Traffic: ROAD OBSTRUCTION -        8\n",
       "160352  40.002564 -75.223650             Fire: VEHICLE FIRE       -1\n",
       "530095  40.252203 -75.683169                  EMS: STABBING       -1"
      ]
     },
     "execution_count": 19,
     "metadata": {},
     "output_type": "execute_result"
    }
   ],
   "source": [
    "sample['Cluster']=db.labels_\n",
    "sample.head()"
   ]
  },
  {
   "cell_type": "markdown",
   "id": "f9dcfa48",
   "metadata": {},
   "source": [
    "### Visualization of the grouped problems within clusters, excluding the '-1' clusters, as they represent outliers where the clustering did not accurately occur"
   ]
  },
  {
   "cell_type": "code",
   "execution_count": 23,
   "id": "1d3d243b",
   "metadata": {},
   "outputs": [
    {
     "data": {
      "text/html": [
       "<iframe\n",
       "    scrolling=\"no\"\n",
       "    width=\"100%\"\n",
       "    height=\"545px\"\n",
       "    src=\"iframe_figures/figure_23.html\"\n",
       "    frameborder=\"0\"\n",
       "    allowfullscreen\n",
       "></iframe>\n"
      ]
     },
     "metadata": {},
     "output_type": "display_data"
    }
   ],
   "source": [
    "fig = px.scatter_mapbox(\n",
    "        sample[sample.Cluster != -1], \n",
    "        lat=\"lat\", \n",
    "        lon=\"lng\",\n",
    "        color=\"Cluster\",\n",
    "        mapbox_style=\"carto-positron\"\n",
    ")\n",
    "\n",
    "fig.show()"
   ]
  },
  {
   "cell_type": "markdown",
   "id": "343d2001",
   "metadata": {},
   "source": [
    "### The map shows the main topics to focus on and the main areas where this events occur.So these are the areas that politics should focus on."
   ]
  },
  {
   "cell_type": "code",
   "execution_count": 25,
   "id": "bec6e404",
   "metadata": {},
   "outputs": [
    {
     "data": {
      "text/html": [
       "<iframe\n",
       "    scrolling=\"no\"\n",
       "    width=\"100%\"\n",
       "    height=\"545px\"\n",
       "    src=\"iframe_figures/figure_25.html\"\n",
       "    frameborder=\"0\"\n",
       "    allowfullscreen\n",
       "></iframe>\n"
      ]
     },
     "metadata": {},
     "output_type": "display_data"
    }
   ],
   "source": [
    "px.scatter_mapbox(\n",
    "    sample.loc[sample.Cluster != -1, :],\n",
    "    lat=\"lat\",\n",
    "    lon=\"lng\",\n",
    "    color=\"title\",\n",
    "    mapbox_style=\"carto-positron\"\n",
    ")"
   ]
  },
  {
   "cell_type": "code",
   "execution_count": null,
   "id": "87fa33dc",
   "metadata": {},
   "outputs": [],
   "source": []
  },
  {
   "cell_type": "code",
   "execution_count": null,
   "id": "b40fb39f",
   "metadata": {},
   "outputs": [],
   "source": []
  },
  {
   "cell_type": "code",
   "execution_count": null,
   "id": "65832c28",
   "metadata": {},
   "outputs": [],
   "source": []
  },
  {
   "cell_type": "code",
   "execution_count": null,
   "id": "0c4e5625",
   "metadata": {},
   "outputs": [],
   "source": []
  },
  {
   "cell_type": "code",
   "execution_count": null,
   "id": "453ab709",
   "metadata": {},
   "outputs": [],
   "source": []
  },
  {
   "cell_type": "code",
   "execution_count": null,
   "id": "2f916d3f",
   "metadata": {},
   "outputs": [],
   "source": []
  },
  {
   "cell_type": "code",
   "execution_count": null,
   "id": "ffbda98b",
   "metadata": {},
   "outputs": [],
   "source": []
  },
  {
   "cell_type": "code",
   "execution_count": null,
   "id": "058457ba",
   "metadata": {},
   "outputs": [],
   "source": []
  },
  {
   "cell_type": "code",
   "execution_count": null,
   "id": "97a8203b",
   "metadata": {},
   "outputs": [],
   "source": []
  },
  {
   "cell_type": "code",
   "execution_count": null,
   "id": "6d5a2ce8",
   "metadata": {},
   "outputs": [],
   "source": []
  },
  {
   "cell_type": "code",
   "execution_count": null,
   "id": "7dcccfdb",
   "metadata": {},
   "outputs": [],
   "source": []
  },
  {
   "cell_type": "code",
   "execution_count": null,
   "id": "d8e2dc71",
   "metadata": {},
   "outputs": [],
   "source": []
  },
  {
   "cell_type": "code",
   "execution_count": null,
   "id": "a83401b6",
   "metadata": {},
   "outputs": [],
   "source": []
  },
  {
   "cell_type": "code",
   "execution_count": null,
   "id": "8a48d7c6",
   "metadata": {},
   "outputs": [],
   "source": []
  }
 ],
 "metadata": {
  "kernelspec": {
   "display_name": "Python 3 (ipykernel)",
   "language": "python",
   "name": "python3"
  },
  "language_info": {
   "codemirror_mode": {
    "name": "ipython",
    "version": 3
   },
   "file_extension": ".py",
   "mimetype": "text/x-python",
   "name": "python",
   "nbconvert_exporter": "python",
   "pygments_lexer": "ipython3",
   "version": "3.9.13"
  }
 },
 "nbformat": 4,
 "nbformat_minor": 5
}
