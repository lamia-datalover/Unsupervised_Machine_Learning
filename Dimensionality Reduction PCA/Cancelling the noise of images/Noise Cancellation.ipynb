{
 "cells": [
  {
   "cell_type": "markdown",
   "id": "7c5c5cc9",
   "metadata": {},
   "source": [
    "### PCA is used for noise reduction , the goal of this project is to see how PCA can help to reduce the noise of handwritten digits in order to classify them"
   ]
  },
  {
   "cell_type": "code",
   "execution_count": 1,
   "id": "7becb54f",
   "metadata": {},
   "outputs": [],
   "source": [
    "import numpy as np\n",
    "import pandas as pd"
   ]
  },
  {
   "cell_type": "code",
   "execution_count": 2,
   "id": "05410036",
   "metadata": {},
   "outputs": [
    {
     "data": {
      "text/html": [
       "<div>\n",
       "<style scoped>\n",
       "    .dataframe tbody tr th:only-of-type {\n",
       "        vertical-align: middle;\n",
       "    }\n",
       "\n",
       "    .dataframe tbody tr th {\n",
       "        vertical-align: top;\n",
       "    }\n",
       "\n",
       "    .dataframe thead th {\n",
       "        text-align: right;\n",
       "    }\n",
       "</style>\n",
       "<table border=\"1\" class=\"dataframe\">\n",
       "  <thead>\n",
       "    <tr style=\"text-align: right;\">\n",
       "      <th></th>\n",
       "      <th>Unnamed: 0</th>\n",
       "      <th>pixel0</th>\n",
       "      <th>pixel1</th>\n",
       "      <th>pixel2</th>\n",
       "      <th>pixel3</th>\n",
       "      <th>pixel4</th>\n",
       "      <th>pixel5</th>\n",
       "      <th>pixel6</th>\n",
       "      <th>pixel7</th>\n",
       "      <th>pixel8</th>\n",
       "      <th>...</th>\n",
       "      <th>pixel774</th>\n",
       "      <th>pixel775</th>\n",
       "      <th>pixel776</th>\n",
       "      <th>pixel777</th>\n",
       "      <th>pixel778</th>\n",
       "      <th>pixel779</th>\n",
       "      <th>pixel780</th>\n",
       "      <th>pixel781</th>\n",
       "      <th>pixel782</th>\n",
       "      <th>pixel783</th>\n",
       "    </tr>\n",
       "  </thead>\n",
       "  <tbody>\n",
       "    <tr>\n",
       "      <th>0</th>\n",
       "      <td>0</td>\n",
       "      <td>-176.321245</td>\n",
       "      <td>-52.743850</td>\n",
       "      <td>143.604939</td>\n",
       "      <td>-53.567749</td>\n",
       "      <td>80.289381</td>\n",
       "      <td>20.686379</td>\n",
       "      <td>-197.423519</td>\n",
       "      <td>-229.401206</td>\n",
       "      <td>-221.900009</td>\n",
       "      <td>...</td>\n",
       "      <td>34.407070</td>\n",
       "      <td>1.950735</td>\n",
       "      <td>-25.095565</td>\n",
       "      <td>133.684095</td>\n",
       "      <td>-21.664094</td>\n",
       "      <td>-94.305438</td>\n",
       "      <td>-55.987821</td>\n",
       "      <td>-89.929231</td>\n",
       "      <td>40.394774</td>\n",
       "      <td>-214.754480</td>\n",
       "    </tr>\n",
       "    <tr>\n",
       "      <th>1</th>\n",
       "      <td>1</td>\n",
       "      <td>-158.421239</td>\n",
       "      <td>16.371695</td>\n",
       "      <td>62.810879</td>\n",
       "      <td>263.533916</td>\n",
       "      <td>-193.920320</td>\n",
       "      <td>-25.366668</td>\n",
       "      <td>107.062706</td>\n",
       "      <td>125.403427</td>\n",
       "      <td>83.536343</td>\n",
       "      <td>...</td>\n",
       "      <td>-5.419961</td>\n",
       "      <td>-123.584030</td>\n",
       "      <td>20.240434</td>\n",
       "      <td>-25.699206</td>\n",
       "      <td>-128.545930</td>\n",
       "      <td>52.525885</td>\n",
       "      <td>-54.214887</td>\n",
       "      <td>-133.842624</td>\n",
       "      <td>-30.141215</td>\n",
       "      <td>210.408665</td>\n",
       "    </tr>\n",
       "    <tr>\n",
       "      <th>2</th>\n",
       "      <td>2</td>\n",
       "      <td>-290.343750</td>\n",
       "      <td>81.586500</td>\n",
       "      <td>12.615232</td>\n",
       "      <td>146.567851</td>\n",
       "      <td>111.233602</td>\n",
       "      <td>-188.989259</td>\n",
       "      <td>-101.464605</td>\n",
       "      <td>-107.015195</td>\n",
       "      <td>-13.069827</td>\n",
       "      <td>...</td>\n",
       "      <td>-139.909318</td>\n",
       "      <td>-85.214133</td>\n",
       "      <td>167.495617</td>\n",
       "      <td>62.402411</td>\n",
       "      <td>-144.402970</td>\n",
       "      <td>152.263950</td>\n",
       "      <td>-4.687051</td>\n",
       "      <td>-59.270131</td>\n",
       "      <td>-93.193600</td>\n",
       "      <td>188.229794</td>\n",
       "    </tr>\n",
       "    <tr>\n",
       "      <th>3</th>\n",
       "      <td>3</td>\n",
       "      <td>-208.840590</td>\n",
       "      <td>136.190431</td>\n",
       "      <td>38.552191</td>\n",
       "      <td>-67.825346</td>\n",
       "      <td>24.316303</td>\n",
       "      <td>176.103673</td>\n",
       "      <td>31.581298</td>\n",
       "      <td>-163.582673</td>\n",
       "      <td>29.777077</td>\n",
       "      <td>...</td>\n",
       "      <td>-131.385192</td>\n",
       "      <td>40.329733</td>\n",
       "      <td>-10.111639</td>\n",
       "      <td>163.497435</td>\n",
       "      <td>41.010287</td>\n",
       "      <td>-21.408008</td>\n",
       "      <td>328.274235</td>\n",
       "      <td>-15.341672</td>\n",
       "      <td>121.570863</td>\n",
       "      <td>151.757537</td>\n",
       "    </tr>\n",
       "    <tr>\n",
       "      <th>4</th>\n",
       "      <td>4</td>\n",
       "      <td>-328.876288</td>\n",
       "      <td>-42.862900</td>\n",
       "      <td>174.651874</td>\n",
       "      <td>-228.833439</td>\n",
       "      <td>71.909654</td>\n",
       "      <td>-97.206392</td>\n",
       "      <td>48.048853</td>\n",
       "      <td>-34.071313</td>\n",
       "      <td>3.820465</td>\n",
       "      <td>...</td>\n",
       "      <td>-135.713199</td>\n",
       "      <td>-71.396796</td>\n",
       "      <td>155.237981</td>\n",
       "      <td>-141.860908</td>\n",
       "      <td>155.657335</td>\n",
       "      <td>166.609760</td>\n",
       "      <td>-52.911774</td>\n",
       "      <td>267.150703</td>\n",
       "      <td>-36.749672</td>\n",
       "      <td>131.913772</td>\n",
       "    </tr>\n",
       "  </tbody>\n",
       "</table>\n",
       "<p>5 rows × 785 columns</p>\n",
       "</div>"
      ],
      "text/plain": [
       "   Unnamed: 0      pixel0      pixel1      pixel2      pixel3      pixel4  \\\n",
       "0           0 -176.321245  -52.743850  143.604939  -53.567749   80.289381   \n",
       "1           1 -158.421239   16.371695   62.810879  263.533916 -193.920320   \n",
       "2           2 -290.343750   81.586500   12.615232  146.567851  111.233602   \n",
       "3           3 -208.840590  136.190431   38.552191  -67.825346   24.316303   \n",
       "4           4 -328.876288  -42.862900  174.651874 -228.833439   71.909654   \n",
       "\n",
       "       pixel5      pixel6      pixel7      pixel8  ...    pixel774  \\\n",
       "0   20.686379 -197.423519 -229.401206 -221.900009  ...   34.407070   \n",
       "1  -25.366668  107.062706  125.403427   83.536343  ...   -5.419961   \n",
       "2 -188.989259 -101.464605 -107.015195  -13.069827  ... -139.909318   \n",
       "3  176.103673   31.581298 -163.582673   29.777077  ... -131.385192   \n",
       "4  -97.206392   48.048853  -34.071313    3.820465  ... -135.713199   \n",
       "\n",
       "     pixel775    pixel776    pixel777    pixel778    pixel779    pixel780  \\\n",
       "0    1.950735  -25.095565  133.684095  -21.664094  -94.305438  -55.987821   \n",
       "1 -123.584030   20.240434  -25.699206 -128.545930   52.525885  -54.214887   \n",
       "2  -85.214133  167.495617   62.402411 -144.402970  152.263950   -4.687051   \n",
       "3   40.329733  -10.111639  163.497435   41.010287  -21.408008  328.274235   \n",
       "4  -71.396796  155.237981 -141.860908  155.657335  166.609760  -52.911774   \n",
       "\n",
       "     pixel781    pixel782    pixel783  \n",
       "0  -89.929231   40.394774 -214.754480  \n",
       "1 -133.842624  -30.141215  210.408665  \n",
       "2  -59.270131  -93.193600  188.229794  \n",
       "3  -15.341672  121.570863  151.757537  \n",
       "4  267.150703  -36.749672  131.913772  \n",
       "\n",
       "[5 rows x 785 columns]"
      ]
     },
     "execution_count": 2,
     "metadata": {},
     "output_type": "execute_result"
    }
   ],
   "source": [
    "data_image=pd.read_csv('noisy_digits.csv')\n",
    "data_image.head()"
   ]
  },
  {
   "cell_type": "code",
   "execution_count": 3,
   "id": "453c0004",
   "metadata": {},
   "outputs": [
    {
     "data": {
      "text/html": [
       "<div>\n",
       "<style scoped>\n",
       "    .dataframe tbody tr th:only-of-type {\n",
       "        vertical-align: middle;\n",
       "    }\n",
       "\n",
       "    .dataframe tbody tr th {\n",
       "        vertical-align: top;\n",
       "    }\n",
       "\n",
       "    .dataframe thead th {\n",
       "        text-align: right;\n",
       "    }\n",
       "</style>\n",
       "<table border=\"1\" class=\"dataframe\">\n",
       "  <thead>\n",
       "    <tr style=\"text-align: right;\">\n",
       "      <th></th>\n",
       "      <th>Unnamed: 0</th>\n",
       "      <th>label</th>\n",
       "    </tr>\n",
       "  </thead>\n",
       "  <tbody>\n",
       "    <tr>\n",
       "      <th>0</th>\n",
       "      <td>0</td>\n",
       "      <td>1</td>\n",
       "    </tr>\n",
       "    <tr>\n",
       "      <th>1</th>\n",
       "      <td>1</td>\n",
       "      <td>0</td>\n",
       "    </tr>\n",
       "    <tr>\n",
       "      <th>2</th>\n",
       "      <td>2</td>\n",
       "      <td>1</td>\n",
       "    </tr>\n",
       "    <tr>\n",
       "      <th>3</th>\n",
       "      <td>3</td>\n",
       "      <td>4</td>\n",
       "    </tr>\n",
       "    <tr>\n",
       "      <th>4</th>\n",
       "      <td>4</td>\n",
       "      <td>0</td>\n",
       "    </tr>\n",
       "  </tbody>\n",
       "</table>\n",
       "</div>"
      ],
      "text/plain": [
       "   Unnamed: 0  label\n",
       "0           0      1\n",
       "1           1      0\n",
       "2           2      1\n",
       "3           3      4\n",
       "4           4      0"
      ]
     },
     "execution_count": 3,
     "metadata": {},
     "output_type": "execute_result"
    }
   ],
   "source": [
    "data_labels=pd.read_csv('noisy_digits_labels.csv')\n",
    "data_labels.head()"
   ]
  },
  {
   "cell_type": "code",
   "execution_count": 4,
   "id": "9a8721d7",
   "metadata": {},
   "outputs": [
    {
     "name": "stdout",
     "output_type": "stream",
     "text": [
      "The shape of the dataset is :\n"
     ]
    },
    {
     "data": {
      "text/plain": [
       "(42000, 785)"
      ]
     },
     "metadata": {},
     "output_type": "display_data"
    },
    {
     "name": "stdout",
     "output_type": "stream",
     "text": [
      "The columns of the dataset :\n"
     ]
    },
    {
     "data": {
      "text/plain": [
       "Index(['Unnamed: 0', 'pixel0', 'pixel1', 'pixel2', 'pixel3', 'pixel4',\n",
       "       'pixel5', 'pixel6', 'pixel7', 'pixel8',\n",
       "       ...\n",
       "       'pixel774', 'pixel775', 'pixel776', 'pixel777', 'pixel778', 'pixel779',\n",
       "       'pixel780', 'pixel781', 'pixel782', 'pixel783'],\n",
       "      dtype='object', length=785)"
      ]
     },
     "metadata": {},
     "output_type": "display_data"
    },
    {
     "name": "stdout",
     "output_type": "stream",
     "text": [
      "The Type of columns of the dataset :\n"
     ]
    },
    {
     "data": {
      "text/plain": [
       "Unnamed: 0      int64\n",
       "pixel0        float64\n",
       "pixel1        float64\n",
       "pixel2        float64\n",
       "pixel3        float64\n",
       "               ...   \n",
       "pixel779      float64\n",
       "pixel780      float64\n",
       "pixel781      float64\n",
       "pixel782      float64\n",
       "pixel783      float64\n",
       "Length: 785, dtype: object"
      ]
     },
     "metadata": {},
     "output_type": "display_data"
    },
    {
     "name": "stdout",
     "output_type": "stream",
     "text": [
      " Some statistical information about the dataset :\n"
     ]
    },
    {
     "data": {
      "text/html": [
       "<div>\n",
       "<style scoped>\n",
       "    .dataframe tbody tr th:only-of-type {\n",
       "        vertical-align: middle;\n",
       "    }\n",
       "\n",
       "    .dataframe tbody tr th {\n",
       "        vertical-align: top;\n",
       "    }\n",
       "\n",
       "    .dataframe thead th {\n",
       "        text-align: right;\n",
       "    }\n",
       "</style>\n",
       "<table border=\"1\" class=\"dataframe\">\n",
       "  <thead>\n",
       "    <tr style=\"text-align: right;\">\n",
       "      <th></th>\n",
       "      <th>Unnamed: 0</th>\n",
       "      <th>pixel0</th>\n",
       "      <th>pixel1</th>\n",
       "      <th>pixel2</th>\n",
       "      <th>pixel3</th>\n",
       "      <th>pixel4</th>\n",
       "      <th>pixel5</th>\n",
       "      <th>pixel6</th>\n",
       "      <th>pixel7</th>\n",
       "      <th>pixel8</th>\n",
       "      <th>...</th>\n",
       "      <th>pixel774</th>\n",
       "      <th>pixel775</th>\n",
       "      <th>pixel776</th>\n",
       "      <th>pixel777</th>\n",
       "      <th>pixel778</th>\n",
       "      <th>pixel779</th>\n",
       "      <th>pixel780</th>\n",
       "      <th>pixel781</th>\n",
       "      <th>pixel782</th>\n",
       "      <th>pixel783</th>\n",
       "    </tr>\n",
       "  </thead>\n",
       "  <tbody>\n",
       "    <tr>\n",
       "      <th>count</th>\n",
       "      <td>42000.00000</td>\n",
       "      <td>42000.000000</td>\n",
       "      <td>42000.000000</td>\n",
       "      <td>42000.000000</td>\n",
       "      <td>42000.000000</td>\n",
       "      <td>42000.000000</td>\n",
       "      <td>42000.000000</td>\n",
       "      <td>42000.000000</td>\n",
       "      <td>42000.000000</td>\n",
       "      <td>42000.000000</td>\n",
       "      <td>...</td>\n",
       "      <td>42000.000000</td>\n",
       "      <td>42000.000000</td>\n",
       "      <td>42000.000000</td>\n",
       "      <td>42000.000000</td>\n",
       "      <td>42000.000000</td>\n",
       "      <td>42000.000000</td>\n",
       "      <td>42000.000000</td>\n",
       "      <td>42000.000000</td>\n",
       "      <td>42000.000000</td>\n",
       "      <td>42000.000000</td>\n",
       "    </tr>\n",
       "    <tr>\n",
       "      <th>mean</th>\n",
       "      <td>20999.50000</td>\n",
       "      <td>0.508865</td>\n",
       "      <td>0.161267</td>\n",
       "      <td>-0.136474</td>\n",
       "      <td>0.504606</td>\n",
       "      <td>-0.392227</td>\n",
       "      <td>-1.146996</td>\n",
       "      <td>0.065945</td>\n",
       "      <td>-0.932743</td>\n",
       "      <td>1.202804</td>\n",
       "      <td>...</td>\n",
       "      <td>0.329851</td>\n",
       "      <td>0.121329</td>\n",
       "      <td>-0.655444</td>\n",
       "      <td>-0.100407</td>\n",
       "      <td>0.276097</td>\n",
       "      <td>-0.140400</td>\n",
       "      <td>-0.625908</td>\n",
       "      <td>1.870961</td>\n",
       "      <td>-0.466101</td>\n",
       "      <td>-0.757627</td>\n",
       "    </tr>\n",
       "    <tr>\n",
       "      <th>std</th>\n",
       "      <td>12124.49999</td>\n",
       "      <td>125.424203</td>\n",
       "      <td>125.957019</td>\n",
       "      <td>124.814080</td>\n",
       "      <td>124.209803</td>\n",
       "      <td>125.421539</td>\n",
       "      <td>125.156993</td>\n",
       "      <td>124.927893</td>\n",
       "      <td>124.995896</td>\n",
       "      <td>125.198035</td>\n",
       "      <td>...</td>\n",
       "      <td>124.154492</td>\n",
       "      <td>124.397062</td>\n",
       "      <td>124.896809</td>\n",
       "      <td>124.596065</td>\n",
       "      <td>124.836661</td>\n",
       "      <td>125.616450</td>\n",
       "      <td>124.783298</td>\n",
       "      <td>125.710628</td>\n",
       "      <td>125.456830</td>\n",
       "      <td>125.542711</td>\n",
       "    </tr>\n",
       "    <tr>\n",
       "      <th>min</th>\n",
       "      <td>0.00000</td>\n",
       "      <td>-536.272379</td>\n",
       "      <td>-563.581377</td>\n",
       "      <td>-596.266187</td>\n",
       "      <td>-515.063938</td>\n",
       "      <td>-532.306749</td>\n",
       "      <td>-513.457210</td>\n",
       "      <td>-543.357776</td>\n",
       "      <td>-537.067105</td>\n",
       "      <td>-487.779478</td>\n",
       "      <td>...</td>\n",
       "      <td>-461.635368</td>\n",
       "      <td>-506.789421</td>\n",
       "      <td>-474.601499</td>\n",
       "      <td>-499.907780</td>\n",
       "      <td>-509.357382</td>\n",
       "      <td>-525.725612</td>\n",
       "      <td>-535.190814</td>\n",
       "      <td>-504.797562</td>\n",
       "      <td>-511.439969</td>\n",
       "      <td>-519.477568</td>\n",
       "    </tr>\n",
       "    <tr>\n",
       "      <th>25%</th>\n",
       "      <td>10499.75000</td>\n",
       "      <td>-83.800118</td>\n",
       "      <td>-84.915914</td>\n",
       "      <td>-84.807013</td>\n",
       "      <td>-82.854817</td>\n",
       "      <td>-85.834707</td>\n",
       "      <td>-84.970270</td>\n",
       "      <td>-83.641462</td>\n",
       "      <td>-85.161672</td>\n",
       "      <td>-82.887900</td>\n",
       "      <td>...</td>\n",
       "      <td>-84.349026</td>\n",
       "      <td>-83.802971</td>\n",
       "      <td>-85.491390</td>\n",
       "      <td>-84.701319</td>\n",
       "      <td>-84.307686</td>\n",
       "      <td>-84.130186</td>\n",
       "      <td>-84.127703</td>\n",
       "      <td>-83.530383</td>\n",
       "      <td>-84.919834</td>\n",
       "      <td>-85.620350</td>\n",
       "    </tr>\n",
       "    <tr>\n",
       "      <th>50%</th>\n",
       "      <td>20999.50000</td>\n",
       "      <td>0.860217</td>\n",
       "      <td>0.886333</td>\n",
       "      <td>0.763704</td>\n",
       "      <td>1.024988</td>\n",
       "      <td>-0.613646</td>\n",
       "      <td>-0.942170</td>\n",
       "      <td>0.750785</td>\n",
       "      <td>-1.703407</td>\n",
       "      <td>1.237868</td>\n",
       "      <td>...</td>\n",
       "      <td>-0.523211</td>\n",
       "      <td>0.359867</td>\n",
       "      <td>0.253873</td>\n",
       "      <td>-0.603624</td>\n",
       "      <td>0.632699</td>\n",
       "      <td>-0.794485</td>\n",
       "      <td>-0.848120</td>\n",
       "      <td>1.677145</td>\n",
       "      <td>-1.445551</td>\n",
       "      <td>-0.848889</td>\n",
       "    </tr>\n",
       "    <tr>\n",
       "      <th>75%</th>\n",
       "      <td>31499.25000</td>\n",
       "      <td>84.104507</td>\n",
       "      <td>84.746673</td>\n",
       "      <td>84.124227</td>\n",
       "      <td>84.558812</td>\n",
       "      <td>84.176809</td>\n",
       "      <td>83.098343</td>\n",
       "      <td>84.426144</td>\n",
       "      <td>83.654107</td>\n",
       "      <td>85.635613</td>\n",
       "      <td>...</td>\n",
       "      <td>84.494976</td>\n",
       "      <td>85.120277</td>\n",
       "      <td>83.715392</td>\n",
       "      <td>83.297809</td>\n",
       "      <td>85.881156</td>\n",
       "      <td>84.257741</td>\n",
       "      <td>84.000764</td>\n",
       "      <td>86.770448</td>\n",
       "      <td>83.957442</td>\n",
       "      <td>84.193126</td>\n",
       "    </tr>\n",
       "    <tr>\n",
       "      <th>max</th>\n",
       "      <td>41999.00000</td>\n",
       "      <td>498.641540</td>\n",
       "      <td>521.528036</td>\n",
       "      <td>505.180363</td>\n",
       "      <td>497.784712</td>\n",
       "      <td>557.447725</td>\n",
       "      <td>496.639090</td>\n",
       "      <td>502.002720</td>\n",
       "      <td>511.211431</td>\n",
       "      <td>501.472247</td>\n",
       "      <td>...</td>\n",
       "      <td>496.220224</td>\n",
       "      <td>506.105780</td>\n",
       "      <td>608.211734</td>\n",
       "      <td>533.828554</td>\n",
       "      <td>585.756919</td>\n",
       "      <td>484.635537</td>\n",
       "      <td>471.135960</td>\n",
       "      <td>581.003313</td>\n",
       "      <td>505.345850</td>\n",
       "      <td>515.791515</td>\n",
       "    </tr>\n",
       "  </tbody>\n",
       "</table>\n",
       "<p>8 rows × 785 columns</p>\n",
       "</div>"
      ],
      "text/plain": [
       "        Unnamed: 0        pixel0        pixel1        pixel2        pixel3  \\\n",
       "count  42000.00000  42000.000000  42000.000000  42000.000000  42000.000000   \n",
       "mean   20999.50000      0.508865      0.161267     -0.136474      0.504606   \n",
       "std    12124.49999    125.424203    125.957019    124.814080    124.209803   \n",
       "min        0.00000   -536.272379   -563.581377   -596.266187   -515.063938   \n",
       "25%    10499.75000    -83.800118    -84.915914    -84.807013    -82.854817   \n",
       "50%    20999.50000      0.860217      0.886333      0.763704      1.024988   \n",
       "75%    31499.25000     84.104507     84.746673     84.124227     84.558812   \n",
       "max    41999.00000    498.641540    521.528036    505.180363    497.784712   \n",
       "\n",
       "             pixel4        pixel5        pixel6        pixel7        pixel8  \\\n",
       "count  42000.000000  42000.000000  42000.000000  42000.000000  42000.000000   \n",
       "mean      -0.392227     -1.146996      0.065945     -0.932743      1.202804   \n",
       "std      125.421539    125.156993    124.927893    124.995896    125.198035   \n",
       "min     -532.306749   -513.457210   -543.357776   -537.067105   -487.779478   \n",
       "25%      -85.834707    -84.970270    -83.641462    -85.161672    -82.887900   \n",
       "50%       -0.613646     -0.942170      0.750785     -1.703407      1.237868   \n",
       "75%       84.176809     83.098343     84.426144     83.654107     85.635613   \n",
       "max      557.447725    496.639090    502.002720    511.211431    501.472247   \n",
       "\n",
       "       ...      pixel774      pixel775      pixel776      pixel777  \\\n",
       "count  ...  42000.000000  42000.000000  42000.000000  42000.000000   \n",
       "mean   ...      0.329851      0.121329     -0.655444     -0.100407   \n",
       "std    ...    124.154492    124.397062    124.896809    124.596065   \n",
       "min    ...   -461.635368   -506.789421   -474.601499   -499.907780   \n",
       "25%    ...    -84.349026    -83.802971    -85.491390    -84.701319   \n",
       "50%    ...     -0.523211      0.359867      0.253873     -0.603624   \n",
       "75%    ...     84.494976     85.120277     83.715392     83.297809   \n",
       "max    ...    496.220224    506.105780    608.211734    533.828554   \n",
       "\n",
       "           pixel778      pixel779      pixel780      pixel781      pixel782  \\\n",
       "count  42000.000000  42000.000000  42000.000000  42000.000000  42000.000000   \n",
       "mean       0.276097     -0.140400     -0.625908      1.870961     -0.466101   \n",
       "std      124.836661    125.616450    124.783298    125.710628    125.456830   \n",
       "min     -509.357382   -525.725612   -535.190814   -504.797562   -511.439969   \n",
       "25%      -84.307686    -84.130186    -84.127703    -83.530383    -84.919834   \n",
       "50%        0.632699     -0.794485     -0.848120      1.677145     -1.445551   \n",
       "75%       85.881156     84.257741     84.000764     86.770448     83.957442   \n",
       "max      585.756919    484.635537    471.135960    581.003313    505.345850   \n",
       "\n",
       "           pixel783  \n",
       "count  42000.000000  \n",
       "mean      -0.757627  \n",
       "std      125.542711  \n",
       "min     -519.477568  \n",
       "25%      -85.620350  \n",
       "50%       -0.848889  \n",
       "75%       84.193126  \n",
       "max      515.791515  \n",
       "\n",
       "[8 rows x 785 columns]"
      ]
     },
     "metadata": {},
     "output_type": "display_data"
    },
    {
     "name": "stdout",
     "output_type": "stream",
     "text": [
      " The pourcentage of missing value in the columns of the dataset:\n"
     ]
    },
    {
     "data": {
      "text/plain": [
       "Unnamed: 0    0.0\n",
       "pixel0        0.0\n",
       "pixel1        0.0\n",
       "pixel2        0.0\n",
       "pixel3        0.0\n",
       "             ... \n",
       "pixel779      0.0\n",
       "pixel780      0.0\n",
       "pixel781      0.0\n",
       "pixel782      0.0\n",
       "pixel783      0.0\n",
       "Length: 785, dtype: float64"
      ]
     },
     "metadata": {},
     "output_type": "display_data"
    }
   ],
   "source": [
    "#Shape of the dataset\n",
    "print(\"The shape of the dataset is :\")\n",
    "display(data_image.shape)\n",
    "#The columns of the dataset\n",
    "print(\"The columns of the dataset :\")\n",
    "display(data_image.columns)\n",
    "#The type of the columns of the dataset \n",
    "print(\"The Type of columns of the dataset :\")\n",
    "display(data_image.dtypes)\n",
    "#Some statistical information about the dataset\n",
    "print(\" Some statistical information about the dataset :\")\n",
    "display(data_image.describe(include=\"all\"))\n",
    "#The pourcentage of missing value in the columns of the dataset\n",
    "print(\" The pourcentage of missing value in the columns of the dataset:\")\n",
    "display(100*data_image.isnull().sum()/data_image.shape[0])"
   ]
  },
  {
   "cell_type": "markdown",
   "id": "329f3150",
   "metadata": {},
   "source": [
    "### Dropping the first column from  both datasets"
   ]
  },
  {
   "cell_type": "code",
   "execution_count": 5,
   "id": "9de787b3",
   "metadata": {},
   "outputs": [],
   "source": [
    "data_labels = data_labels.drop('Unnamed: 0', axis=1)\n",
    "data_image = data_image.drop('Unnamed: 0', axis=1)"
   ]
  },
  {
   "cell_type": "code",
   "execution_count": 6,
   "id": "ed365725",
   "metadata": {},
   "outputs": [
    {
     "data": {
      "text/plain": [
       "Index(['label'], dtype='object')"
      ]
     },
     "metadata": {},
     "output_type": "display_data"
    },
    {
     "data": {
      "text/plain": [
       "Index(['pixel0', 'pixel1', 'pixel2', 'pixel3', 'pixel4', 'pixel5', 'pixel6',\n",
       "       'pixel7', 'pixel8', 'pixel9',\n",
       "       ...\n",
       "       'pixel774', 'pixel775', 'pixel776', 'pixel777', 'pixel778', 'pixel779',\n",
       "       'pixel780', 'pixel781', 'pixel782', 'pixel783'],\n",
       "      dtype='object', length=784)"
      ]
     },
     "metadata": {},
     "output_type": "display_data"
    }
   ],
   "source": [
    "display(data_labels.columns)\n",
    "display(data_image.columns)"
   ]
  },
  {
   "cell_type": "markdown",
   "id": "cf331798",
   "metadata": {},
   "source": [
    "### Visualizing images by using numpy and plotly"
   ]
  },
  {
   "cell_type": "code",
   "execution_count": 7,
   "id": "506b61e0",
   "metadata": {},
   "outputs": [
    {
     "name": "stdout",
     "output_type": "stream",
     "text": [
      "Requirement already satisfied: plotly in c:\\users\\chekk\\anaconda3\\lib\\site-packages (5.18.0)\n",
      "Requirement already satisfied: tenacity>=6.2.0 in c:\\users\\chekk\\anaconda3\\lib\\site-packages (from plotly) (8.0.1)\n",
      "Requirement already satisfied: packaging in c:\\users\\chekk\\anaconda3\\lib\\site-packages (from plotly) (21.3)\n",
      "Requirement already satisfied: pyparsing!=3.0.5,>=2.0.2 in c:\\users\\chekk\\anaconda3\\lib\\site-packages (from packaging->plotly) (3.0.9)\n"
     ]
    }
   ],
   "source": [
    "!pip install --upgrade plotly"
   ]
  },
  {
   "cell_type": "code",
   "execution_count": 9,
   "id": "f17a1017",
   "metadata": {
    "scrolled": true
   },
   "outputs": [
    {
     "data": {
      "application/vnd.plotly.v1+json": {
       "config": {
        "plotlyServerURL": "https://plot.ly"
       },
       "data": [
        {
         "hovertemplate": "x: %{x}<br>y: %{y}<extra></extra>",
         "name": "0",
         "source": "data:image/png;base64,iVBORw0KGgoAAAANSUhEUgAAABwAAAAcCAAAAABXZoBIAAADL0lEQVR4XgXB328adQAA8Pt+7zjg2EFbyu/r4V3LD7tC01KwrrOuxq1qYrLo9jD10Rd/JGbxxRf/AeOD8cHExOzRRKOLyWKWRp3tfrk2G7ZAR4FSoXBwUHp3lAPu4AA/H3CBCiXpVlyFa23chCcXjhRqMllWVsYqphfgkvuhpT7d8b1zavFJNb/Pr6a3hNkuOGq2kljJbAAPNJoUTmJ5xbsVymIeo3KxjeKSQ4UvD93pKEeQsVEqYd7sxI20UJPvDrWTYf4YNqrkIrJK9b9dHYRGlz6QYJcbxa6RprYyxmKiK28ieHlhXOMDS3GgcefecNnyHCes/2qCPpq3agfN73YIz/EtWNWHzfVev75w+TwRWMMqf+Nn6RtSWDchMH2PnNl/iSczw9z7vsPlKvjGlU6R+skSPnwxXmBEb8cx3UN+rK/PbUIZfJFLzHdRHWoMFPRjGi67Y9StUjsax6czJHYUYUDWLdl9Qn2IidbzlUS5o7H1+eoWC2AxLTIV9ayS6Nvf/SM1BadqW0mnUryXi2T1EHPLt72SZmE3uneCXxnkX2B2TUJzTtf+hQx0poyfWg+s4qbfAa8VipZw3JxCckv6kplSoMTLX1s+QStB4dTyT7Od785RxYphVy0HTCRElsnrG3vPQ3+qXesKY93VSQ+jgLYtrvUzLPQfvhL7TGiVX+tRSPokEP0+G3ge4z25ZO+YATfrCqvcjxZoL/n6ozso3cUbzQls9oCcStngPq1PMRfLVJgwbvDhOVxAlldhs9J/SidxcHV3HXvCzvp/f1vhEgPCd4r8q7GRwV7zsX0efDyhcT/dBN0ZnVBrjm8b8ODolBBn9xj2GQuNvxWQzxtJG2py9WoNF+use0fjuqJ6/IM/AdUPJ0fbSGSnazYcRQb/1UKI6jhzFz4imfYZeAux2krteXkm+iXpOlcDI89fEfX++gDN002Mu3Fv5OgAw8+3nStPVDEI21BchIZ9+VXrA3DVhmiUhtl3DqOVSEukMwRd4vr80t1LkIeWKiROnjVL3vdKV3LZ8QYWeuRoRY3MdYsXgDetKG7fJqJie4cM2pMEYkaV3kxeMqhTj/8HZBmBFQmmGPAAAAAASUVORK5CYII=",
         "type": "image",
         "xaxis": "x6",
         "yaxis": "y6"
        },
        {
         "hovertemplate": "x: %{x}<br>y: %{y}<extra></extra>",
         "name": "1",
         "source": "data:image/png;base64,iVBORw0KGgoAAAANSUhEUgAAABwAAAAcCAAAAABXZoBIAAADM0lEQVR4XgXBXUwadwAA8Ls/x91x4N0heAIKqGkRweoKOJtl2rV2mrqYrlkTm61LmybNssc97Xl76dOe9tKHLdnrlm7Z2mhJp03TbvZDRwQc9RwIVb4ORDzuCziO2+8Hz/qJiXs+j1HOOWNjpCOrNQL7ducadkQP58Birvq7l6nk098QPgjLIGY1g2s/XnDpduU9sHMC53G+iIfv9u1oPwhtfSTSr8/HpjGA/IRYbuRRonxWkfz3FmOjzoyLXV2E4kfoW1wKIoewqX+EzyYCA1+zIcWOuevjXl6/trLALjwFoTp28qAweKNro79kwiWas0H/uuefAepMHYfnh9Ljex9vkte3+UAUn2hngp77fJ4i9qirbvjbf6SAqdAKvsubHIdKO/QEseosuUsW8xQBX2rZibk3So8UAk71sfVSw7NV67oStpSZEBGGsgl3b2u0uqtHXQ8jG/5Rj9qWC8ThVDoLf24a1koyPaN7vsOld14yHUPwJLh2/k9cOhUHDkx4IV4JC4bvLeVzxSvOcbTmrlw2NJvH6kXQAWxvJ5pkHrhZ5HV7dyWe2rT01bcxf5Z/BqCm1k2K4S3/MSVT8v6Sk/yAyzX70M3wHxLIctXJgclV2ugEc+ni+SSxr2j9nCJPIeEZMO3uLRp9NDeS68a8PXGK/1SASQYCB5kIDoScZmBeBZeP4MnjXCQFwTXFvJ1yF/ebj0vIwdlMrds1pdreqh9qMO5CB2Da+F9DhkhdBioit/q5zVzK4BcklkDV1jIVFl8y1kzFAVyVncgj2OMZYHQbRgarp++svTK3HDGhp5AAG4OzopUu/VJXhZtLPaOzF3NfhMTdgGgepOqIRRt6rpE2OLt0euN4ubkOXV8XEsyTa7/NkDXkQtrnMq43vGgiqZmeOsyGljc5wY79KhKSFxykcEVcmMszZdaJkg1U2XqeZwvoZ+b4tBH+Cot+wsm0542PHVrxId4E2ewMlzklHI0U4Q/7Sq5eR3u7csYF117cWiURLiLb9KPKub8dyCC959TMP6sDfNnaXDCMNk79V33/vvcRXplKgITdLlKrV/F5bAqySA+5tdjY2w2K/SgI8pf/Bzjuf/RH6cP3AAAAAElFTkSuQmCC",
         "type": "image",
         "xaxis": "x7",
         "yaxis": "y7"
        },
        {
         "hovertemplate": "x: %{x}<br>y: %{y}<extra></extra>",
         "name": "2",
         "source": "data:image/png;base64,iVBORw0KGgoAAAANSUhEUgAAABwAAAAcCAAAAABXZoBIAAADMElEQVR4XgXB/W8aZQAA4Lv3XuAOOMbBFfD4XIF+UFo2q62SYu26mKaZ69RUE9NkiZr4L2j8IzQxJpr409TE+YMf24xrJN0W13aM2SLdWigtFLgC3R1fo8fR4w58HtSz3HB1onR/IL4CiJqORQuhqEMAvJeho+iyDy1Bg9BJzrOaCia55Fq4m7FmdYF+jwMD0gOyRNCvhbA3sFfAp4I0sf5X95EWF/97RINj3Jw47dp/wFp3Z1H4ddGt8Vz1k0VGmv6zgV7vmbrB34YgN5Xy/OSfWLMQ7pq+inL2tDEAzC+HjKm5prlbPIsuTqODlyKNM6wNL+VGaATAb//gN/euZFHJrPe/FXAcNg/UrnjjF2f/OQ4OmFnURNyaeydBW7FVB/98+1rn2QK8TLGGJohb4gZfQbcepTOJH8nNSXI1ORHVdU/zwxUZvImUX62er3dpK1ghnW7FdBW7cyXF5Lm8MQbYsvGG9tzIzXSM2dpeM8OTflkpLzGIGkcWYaB1NE3H+5+nsjvg+1jGwXCkxsB3BnNOSMOhn7v8ERZOjwkh5LagKe/6v1qhN47dF1hBgQlEb+lvOett3+FuZF71MLz6BdgxndumTgs6ULX3JGGac9p+lT+xovWLjwNynsfrk2P2C09BcwHnRyR9QTNq/a5q4EoKWC8OPFnQ3SO9fjhzd7m+MS/6gIoitn3MeF41XrYg38w0pDiApTklRzVTvs5Jm25rFdZw/GCwh2qH+E63DWEt0ZPYsNRw/+1CSlUrZWwpksfQ8AJuECDVrAL7BFEWp4ZnAEMLhfO5oO5FYb89WwSRzffrQSF5pz9GxVXelFzn1G+T/7YoPUx70M9uW7yyMwvG9/Sa0Wfv7sTknmPPhmsN90gcXbJhJ+4j4aKs7vHK/BN3Um2tcEylOpNWhWDwAMfc+66kZAKo7cZ7Gx1RtzXqiuT4li2LfpixRe4PN0iTlKOrk7vc0EOevnZzoodi8haofUyIDkzSDqylJeM/On+HuhxufSSKAXXrddD+UmufYrFOzHRdo7yUkdMOo0DdYoOHx/Q+YD5YfHpfTEmjcgP+Lp6tW188rshjGpVMnCz9DwnefRDhTVsaAAAAAElFTkSuQmCC",
         "type": "image",
         "xaxis": "x8",
         "yaxis": "y8"
        },
        {
         "hovertemplate": "x: %{x}<br>y: %{y}<extra></extra>",
         "name": "3",
         "source": "data:image/png;base64,iVBORw0KGgoAAAANSUhEUgAAABwAAAAcCAAAAABXZoBIAAADIUlEQVR4XgXB2U/bdgAA4PgXB8c5aGzn8AGJyEEuQFlJA+vEskqb1Anow9RJ056KNGnaQ/+dvWzSpG2atD51e1rHAwwKdEApMAgJTRqHJsRxcByTw4mv7Pug+Uc85wmWz2bYkPouSr/r05fp9/sPNVWtUgBrMo7Uib7Af8Uc64N15NDjgz1f1nfylswt9I1w/4q7wMxoiCfwuV/Ly28laWVwxihSdxo+b6VjzMnHg1vUghegoJW8jNj+XdFNB354Gyaytb3W00r31Yciyd9RqptTHRtaAa9wMO0BtQs5ROQeJWNN35sU6aAs8gF7U+h92zZ6XfD5p1qdFo70QMoacUp2Jxn+qRjTun/J8XIdbm0w/CAGJfqijHNVir9uq+FKMp8winwUfjAqxGeGO0oeG++y2MwwxceGpnV8zNmMGuB7cerwh1mbbdl7Olwdcfp59eyj26VwK4bYKIDbWvfXDqaeMzvu5s/2kq/vjz5z8LLeqCD7oObA/IWOMyPIamYem+1j/50ulhIB9MWcPAaCLKqPy5LVPLF3pKj/6LW7tBGo+SHYMqKBASsHRYXvFoxF9+E0KWCJcwgfH3DpTcMFZg1XPXDpEo4+iyPh3lSUf21MTqK77vpDqQEunHY1lPl7MtjBrHTxGWlylnP96yCM3PQoaHWBVS2sn1G9LFJtIBRT9miRXwySKljvQWunYV0L5VqUd3WrbM7uexg/fC2ctOYtd17CypMN7/qDahYOFVwLCTnIs5dkkeiYda3VBmLVbH36Z3FX/rFNd37ryW8UU2OFU9wI38hBq3OHgmupVEoZ2g0hdVDCzmFusnKFHLuSYFvDluCTU2pbSqcdn5gA1XANkV0wPvEEI6A1gngxiuMl32hrwonmHh+TsjEDr7eIBNiB7fe2IiDA44Q1GH2JZI0OsInvR0KmNmqGgfn3pHVU3ed5XG3HnWONBagWtsMiN0SuSOhrt72jd5NS3ntBlpbzEq1nOMjOi/Nbgg8siufiRJ+djtQeowa/+EHRcjS42SybnpOkC2xojIB80fxjj3t9dzLPanHvlSxnae07KcT8DwRDjGIsl2N7AAAAAElFTkSuQmCC",
         "type": "image",
         "xaxis": "x9",
         "yaxis": "y9"
        },
        {
         "hovertemplate": "x: %{x}<br>y: %{y}<extra></extra>",
         "name": "4",
         "source": "data:image/png;base64,iVBORw0KGgoAAAANSUhEUgAAABwAAAAcCAAAAABXZoBIAAADN0lEQVR4XgEsA9P8ARdBMqRE2iHtCR4OwhApzRL/3yYMwRYzuwMN8yoCLBfdGgjs8v4CAfwb6uMW7vsaBOo96bIa/hMM0gFP5EL110oIvvcU4wck3P8BA+pHIJRF1xMtCu7yAXD0AAkT6gL9+PUL7x746gcRE/gV4hr6DdDbIykCGwb297br9achIxg+NkhmDwzCAMj7AuqyCA0T4QIE+v4FFPr5Zf4EFEYMkMU4NEXaBe8ND/PUNew2AsTs7QQAGRAQJQ0W2uw/Ew/6HXrxEOUGMgr3+a8CCNhA/wIJ+NPS9vb0+CIn7PT/41cL/9UHA+oeAwLnVhgTGyMURWf59hT88uDcJvQH7zEWFOUkIMYfAlDGugHx7xIR9RUM3c21vCDWJP8V8jb+JS6+Ks0C50Hr7f/G+/SxGwHDExXlxaQD7vTizxwLozkKBQLh8y/pGzzZ9WHxv/3zH977/9Pn/lT6/zbs5wAGAh3i7uXJEnv0zCj6BwvNZMBXwM7g3x8q31gCEl8EEP/6O9H/rDTYEPbwEycfZ9P92Nod+DiiEfXX5wLd+wXdM9BO0xal4y8G4s3v9wApExsZvnkrJQbyAvbO8wkMN9vf00E3EvkUHRL1EBBavTkJsbj4Dw0C4zyb7M0D/B4+7vDZ7/b+1vfy9J451CsyEO/5CAIr91ESHvj57q/SETQowewT/iX1KxsLKgEo9znRBBvtBM1P8AVW1AIn2hdH3BICJAfu1fnvvPYVoDwBKGEA2uBx/QrsG9fK1t4tL/UWAQsR/NIq1/j69gFVJA4CqBsamaf02PTaTAT6JvUBGiCp2fH4HvTzAWPzASDS404HLwnQ9FnuywvyLOD70sotFPEKyTMBDjoT1S/qEQRdwTH9ANFU0Qvp6wj0wj3V+gcZBwFrIKM6+BL87/lS9ucAGNkN+CS9IePlJA/l+905AV8M/BnCFwMHEboHNpwhRNlbztQjEwXj/tQXK+sBVhAB6hoC9BTnBwX0+Ov3IuYiAjapQMcZLMsQBAIKB0otAP8W2e0E2Q4KEw82E1cHyDjHIPj5G8nbBA/du+MW5f8X+MsQ6BzhMt8fp+UPJfodIM5J5ybjvoKBMFDmbgAAAABJRU5ErkJggg==",
         "type": "image",
         "xaxis": "x10",
         "yaxis": "y10"
        },
        {
         "hovertemplate": "x: %{x}<br>y: %{y}<extra></extra>",
         "name": "5",
         "source": "data:image/png;base64,iVBORw0KGgoAAAANSUhEUgAAABwAAAAcCAAAAABXZoBIAAADNElEQVR4XgXBS1MadwAAcP5/dsEFFlZclgXLAAblEYymGnWwaWOe0+ljpo/JNB7Mob2l00zyAfIF2h576DSnzrSd9mRSx6bTpklbk+iIkYdxlaeALEsgCMsu7CKw+f3Ad2u1ovGiem3PY2c+4hkDcvtraTJM45BvhMGdlzVL6i1TWfT/Q6gVuT3Z4PSgur8oD/6hBVfnOUSfrYng+irjYIJEZp7nu1pERKMqP9K998pqnvDEI0813UkrU3SkLAbN8xnuQ9bKgZtl/x7aa+m8a4bA8d6XZez7lxOfJjcvLhcWEuAyEnrUOD7FvpMb0qm9KW5qK4s498/8+oa514P90K5i8mLjlX+PEigbrhaxm1R6NBayeGonYQDX+KnPX8XgjGNxaLUuo9PrvUBFwMgX7ofgFhTpDZH2HBB6cmP2wWRV7YON5olcC2acCDOCC4R33Jbx6PIF0XRMtK2MtGat4ybbCviqywaVFkTF2eajKhbcvGI4GIhBOHyEbHghSwUfq9k51pUuXb2mOrBljuxmvtyh0MOJAFTaL87t7EZ/wUcK37CYRpXlvuDc6KWcCZda4Ke70ifUg3MJXShequ32z3a8Cdf2cKxunBY6yJ/vNuOeVoehk+lmZVEbYSVehf4wGyzF3/wbkcpFS8ONIVaRI08J+7k5kkqv3qDvharMZdh+5nHxccboHLIKfFEXiiJ0exbhFOk/ex0xTxdSTur+tb4a98eJuCs/3knvkEBoKiADlpDSRO3sdp/gU2PRUaWykOz2A/yOMz+nKkIvrklQG7wwaAjunzwAY75hXUv5MbRJh58fwRLl7mXkSnOMmLmBt42nE4eY/uH1+xfkwtLb4LO8TyXV7Asdvq4y6+iivE1bd558vD4lYEnwbTmNmiSQ9bnnn2DUs8Dy+WTMRepByuwDcIWvqsSK6kJe/vl//YB7Jcia3q/VmyY9n43CoEAeD5K2oXZHOxrJ/UZrZOPyCXOvFKnnRuDpra5TN1yuzAhzaDHmUfhDnaMZazNLA/AvyJTf60UKGcfvIhP2b6kVwi3IenteszvIfADOn2F5S/vS3XGcfFy7wiq4Vl+UbOtTaZ9YeA0eko7qoT2tUwAAAABJRU5ErkJggg==",
         "type": "image",
         "xaxis": "x",
         "yaxis": "y"
        },
        {
         "hovertemplate": "x: %{x}<br>y: %{y}<extra></extra>",
         "name": "6",
         "source": "data:image/png;base64,iVBORw0KGgoAAAANSUhEUgAAABwAAAAcCAAAAABXZoBIAAADM0lEQVR4XgXB+28adQAA8N737rge3INry2PA8Wyhg9KtT7vCOut06dTYaPZLExOjPywxMfFXE/0L/NnfjD+YGZMlui7GONtptmYds10fFMagLZRSegXuuGM8ykGPh58PNHmDy9+9R+A6vAYVyneyeYkLvhi7uHhmmXgIyJXXV0ODTEy72XPpVPN9GW126K5XCy/2HV8G4CP8n90U9N7vM4fJoZwnr3xIJuv7rPhGOdQhZmwWKlSRKGNum0MlAqVW7QFSWsV9nFsD4LPjELCeG8iff4iPnfpz6ZG/H5R6iNQuCMLQrR714JZDGE+UK9NVNRJnefryg4Z+KoZbZcTZ0eElisg7HFEYeYUyglq9zIjzYV3H1Q992bTkuzkHrZwoKs/mdwtL7pMam1aE0bOaEbqtwmd++jo5BvjQ3d2pH4dVvcaXPfcGbRkSM4Mb5ZM1Zi1XvH/wThZfn5C0Ngu98w3rDtO9SSRFu+qG7mxD+urbEdH1iFG3XhTfek42FgAxD3LDUVlskk1DzSMLRZs915d2hqqptAXQ68DBYdCFxrgi/QkHrNIgeFvspM0wXz+UhTqoSLNN3cCT9zW+6tYza1p0IegOBn1q1PpnSgj4+BWdDxuaQ5U+bnLnXVP6de26SahKVjyxgEztbThZw/XIX34f7EDz6F7Zt67GinVKyEaQhEMUGD6ucbYf9nfEm5ji/Rfb8cenjxDMBc5/FQmEl0spBTfpjvEW2KYC7mVvlE6M2pG2cWBkM9CiPqsWSP7mha2W1BzEXG10W1uNAOpKK+JMEOdSNpCYPshyaa+bs2sfM162MAfweodu2nAP778v7w0vXiGcRwtWlDrVnFTayJu8p397I1hiFWEJSVT/48XKyjiqtspmsAwk4vHRJAMuYU+CoedLapPYxUl+b7HjhLh5aG4IALfhN5N8NsAHJ56qSDl+zFCZ8UJmFAAYaSj74al8dxQ4n9aGIpXe4B29ZqaBUYgPdD3wJJyKcdc2Psh+kjJDtbWtXaMWafWy5xK0hAN92M4yjZfRL/b1Kjysj3nhnKosfb6VAQJtKRqE0qPVOSUK/5L5o9zt5K4S8LVAsgv9DzF2dsm2zVF7AAAAAElFTkSuQmCC",
         "type": "image",
         "xaxis": "x2",
         "yaxis": "y2"
        },
        {
         "hovertemplate": "x: %{x}<br>y: %{y}<extra></extra>",
         "name": "7",
         "source": "data:image/png;base64,iVBORw0KGgoAAAANSUhEUgAAABwAAAAcCAAAAABXZoBIAAADNUlEQVR4XgXBy2/bdAAAYPtXp3nYzsux0wTHebht+kpZu7Xr2kK3dUOamNpuqoTgBhckBEJCHDjC3wBDkxAHNIlqHDiMjQkW1omNdV3WJdP6StItXeIkTuLESey4zqMx3wd/Kds6ZNLYOY6b2NEnVNWza9lh2IxQosYLiPlQpsNkg12nKr1/ids+8tWHGMqTU2K1WQRxi889qDuy4PSiMPiBKXjQ1TZFc4rPaAcB+Jv1fh7Fu/neM9xhy+Hc0nkId7i/yPlbjtfw53oZaO3apzfyFkBIZcSTs0RWt8oDAZXZAENPhgnBHLo76zups7YY7A7SDfLKzEiivZeBP+mRRPYl21WGBMdCTuOi/cYo7g8bFv8tn4UvTdw9J0uYj/Kb1gq2CwVNdCk7A8afXCS6Dl9/rmBdfnAySoAKF0hc5WwvBYa5h7LS/gLyX2LMuv1OSf5ntKY0j7MPYn0KbdfG16q9oAzSrPPZFLa/OU2cJxfs89ypnJ9AOzHINg4JyOT4dYeEkMXs0n2m6t1nQoaTVfn3/tlShxDhr3PCYiMt2RlddjWSp8sinHTqTtA/FIn3k4BXXVLJA7c7U4uynwzRPVWXmY8/biwbblPwkrVGt8xU1Kj2CRdvvWdAf+nDZEOOBNa/7eAM757z7B5DTrFSfHT4oxn9zKkamiPBTHcMQow0+mt6SHx61LAQPGu+GWA5eyv/0Bpocxj8RaEFURfWCFVc5t/ojHqNOTIUcfwRkcYlQDudMjiYalDt+map5pbVW+UVKf+nTZv1m8AfTGOurmYLRVPU9u7KXqo9EtlxqvMe4+0sBl8Tn1oJf8TeRMhCV8N7UpDeN7QVYwqhpAdsVRSvwlS9Hm+tLpLZxLm2sbWzDIuTwQ6DuBowlX0YOv1tENQDcWIsImhL+p8nCBCezMKXcFXDpqMD0PD3b20Hj678diI5YBK60MYoSINWj5uSw3tiqfRd4Bq4uPsVsyqjZhP0dszaBDToJmbUGVO8cieW/ig4unH6PszVOzrOpR+BP3bXh2+cfUbBD6bHcPHFnBw/Jaaa829e+aU6KFdSLy6nVkLQ4ISwcdMBZfWQ4sncM3u9Jfl/gPF+jAg7nysAAAAASUVORK5CYII=",
         "type": "image",
         "xaxis": "x3",
         "yaxis": "y3"
        },
        {
         "hovertemplate": "x: %{x}<br>y: %{y}<extra></extra>",
         "name": "8",
         "source": "data:image/png;base64,iVBORw0KGgoAAAANSUhEUgAAABwAAAAcCAAAAABXZoBIAAADMElEQVR4XgXB328adQAA8Pt+ubve7ijX4/hxB1egtGy0o0iH1m6torUPS9dlM3EP/siyzbhHE33wxfh3GB98MVFfamLi3OJMN+m6WkTs+gMKgVJogWM9oBQG9Dju8PMBd0+sZCvlcqdDxbitNdD/18K1pN542tyxliDuayTtNgKg4Sc1bFPIjLCXhy14boEap57DAWGQXuebscfK3PQ/73QbM8qzJ1aGe6TlhHvgU2bAVEoxWLePekVEv4ugDKc7QcdWDGYaCtEsoxldzquNQukqKENMCufa+f6WhUj8CK4zez4SiXGhKAIUk7+o1iY71bxul0RCGvR5R1ND6/vGv/XZNzxL2vDspNBw3PcsodMqD5uI/Vrl+CuD+emi+SQXroWltbZh2c5dWG5HwR1/jNJBsTyX+eFbsvzbmFk7IByobpvgciR8reuWpeKVVPT8N47OzruDsmrHBPPT2LzDOIpmCF5TnSWsTbCpiD1xdH9d9CaZ97P7DU8QzJzr8SoLMr6Flx2QkVWiT1eJijPu6MdZuPABDualWgHHm/CPDefiFxYyr1AreVx8bxRG6nLhT+vbAb1cwm/fsriPxhmbM4KHooENP7gLS8DJ9LS+iZh4EVwOmg5qnoeHUwwidggwZZnMVYZefvIqSDxCUmyXN7iSTa71i78iqOh8v9cyU9XNXtrV1Q2f/LT49QNyqygZLm4rc/DoQbFTpituBUOtazuG711xLw8RzAHj2TXwMUKLtDQr6pQD4nK87du6xX2nbw8O5evBHHS19e1h5iBJkxcNK0L1zMVLp5vCqbwNpTzMqVH2MIFb6WcE6t51e40v1i714nwS4YkA+Jw6NUZp8QIrddFegDI39iJBKtXvjZDrH8HMWXKP14U606pje/6mvJN8RZ8W+9JEQhmk0IlkKOc6iidsAU5VHu6vuulLJeL883zzv/oq7JDJBDS89bqs58J2hZyZmX3MczErvodNG8GXSE3rDtVbGnXmb9CJcXYj/VlGZsUuqfFQyxbkKQ9fvn6jFydS+v2/Vk3w+DCioL/iabA0cTyybBu4malf+flDsCv8bqpiY4dvNgtbU57/Aa3FdgLTIbqvAAAAAElFTkSuQmCC",
         "type": "image",
         "xaxis": "x4",
         "yaxis": "y4"
        },
        {
         "hovertemplate": "x: %{x}<br>y: %{y}<extra></extra>",
         "name": "9",
         "source": "data:image/png;base64,iVBORw0KGgoAAAANSUhEUgAAABwAAAAcCAAAAABXZoBIAAADN0lEQVR4XgEsA9P8AWrz9Op3vO/6FeXiXtPyIrEPVdMM8fcJSaM7yCUC6wLmAbXKB9zv22D97k8VTjYTFxUR9/3gTPEv6QQD/QJV9vIEFuxnrT05lQ0GDt7g/yHuMfe+HyERAvU7+dX2/+4gPMcc4sUXJwH5Gxfy2hWrLwUps/YBTQnvNef0P+YBXabyDho1e2eGMPsV7xQBEs0rOAE4FSy6ITLhAkznFvoQ7vbcRsXhBwIeyxvp20DGAg8c5AoL9BAa6C4A757h2ljs8Tv9x+kS/+E70O8EMugjLcL9B+DFBrA7NK/5+xBA8edN0QLjGtcw+AKpycGLHB9BxC3kOwP4JCPxPu8G+ynxDDrxJtzeAUkW6zIL+sxAufYS7jMgzS7dSsvYABUi9eMb5BkC9AYUwAEK/cklTfcg2+Ab9TrkIB8B+/G2+dP6ugIe1u8F1v4a/MTH9vY63h0Gx+g3K/cCACYOGgQvBBTrDwIe0CzuHgoh6e81AELwAK1t8NQDBBboCPwBMCr6EwDu+i3q+irOQ+7eMPrVFAsE+fAFDuKjcAJFzPMD7McMyhH06P3HtduV+QPxHkIAy9vf81rlBM0pFBAdD+IZ++/pCBkdIxnZCC8l39tDzAgkxSECDji09unuY/MXHgA/6BPJj7zn/8TSWuf3/asoCwIo3UnmDSK/DPTe6OAe0C4DdTkV7ulq/xn2SRDwAUMeDPnPKAIG5jPp8Bz+3lvkAyAgtskn/OndSM0CUQINFxwV+PQQJf0u9SdJIhcS+XnzD/Lw/Tfd/gIeE/fHPuVoHSzcLRNEzd3l5PPBD+QSHgUB3+79AVtBxiDJJycG5R3XOdUaBrYW/+YQ9wDyEf83y9cCFblIsT+85/4Q6xT+IPe3Gr3+KygKFBbgJLcq0wFfPbYS6SAd4TIuvNT7Dwr/BOkOA9cvMcky0NtgAXzR8DrcBQXW0k8PBSQO3ALTHgDuEwflIjW04vgEFP8cAO8VxC4mGifewDTlD/wIC/L44lCv//Zj+wLS8QHtGfMZ/uzzv/0R2gEFSfEoEdkiuxbuIeroAiAyDwXqAx0A/hc9ASsPRvjh9YTkS90n/w7v3SGI9IWQ0mGLxgAAAABJRU5ErkJggg==",
         "type": "image",
         "xaxis": "x5",
         "yaxis": "y5"
        }
       ],
       "layout": {
        "annotations": [
         {
          "font": {},
          "showarrow": false,
          "text": "facet_col=5",
          "x": 0.09200000000000001,
          "xanchor": "center",
          "xref": "paper",
          "y": 0.46499999999999997,
          "yanchor": "bottom",
          "yref": "paper"
         },
         {
          "font": {},
          "showarrow": false,
          "text": "facet_col=6",
          "x": 0.29600000000000004,
          "xanchor": "center",
          "xref": "paper",
          "y": 0.46499999999999997,
          "yanchor": "bottom",
          "yref": "paper"
         },
         {
          "font": {},
          "showarrow": false,
          "text": "facet_col=7",
          "x": 0.5,
          "xanchor": "center",
          "xref": "paper",
          "y": 0.46499999999999997,
          "yanchor": "bottom",
          "yref": "paper"
         },
         {
          "font": {},
          "showarrow": false,
          "text": "facet_col=8",
          "x": 0.7040000000000002,
          "xanchor": "center",
          "xref": "paper",
          "y": 0.46499999999999997,
          "yanchor": "bottom",
          "yref": "paper"
         },
         {
          "font": {},
          "showarrow": false,
          "text": "facet_col=9",
          "x": 0.908,
          "xanchor": "center",
          "xref": "paper",
          "y": 0.46499999999999997,
          "yanchor": "bottom",
          "yref": "paper"
         },
         {
          "font": {},
          "showarrow": false,
          "text": "facet_col=0",
          "x": 0.09200000000000001,
          "xanchor": "center",
          "xref": "paper",
          "y": 0.9999999999999999,
          "yanchor": "bottom",
          "yref": "paper"
         },
         {
          "font": {},
          "showarrow": false,
          "text": "facet_col=1",
          "x": 0.29600000000000004,
          "xanchor": "center",
          "xref": "paper",
          "y": 0.9999999999999999,
          "yanchor": "bottom",
          "yref": "paper"
         },
         {
          "font": {},
          "showarrow": false,
          "text": "facet_col=2",
          "x": 0.5,
          "xanchor": "center",
          "xref": "paper",
          "y": 0.9999999999999999,
          "yanchor": "bottom",
          "yref": "paper"
         },
         {
          "font": {},
          "showarrow": false,
          "text": "facet_col=3",
          "x": 0.7040000000000002,
          "xanchor": "center",
          "xref": "paper",
          "y": 0.9999999999999999,
          "yanchor": "bottom",
          "yref": "paper"
         },
         {
          "font": {},
          "showarrow": false,
          "text": "facet_col=4",
          "x": 0.908,
          "xanchor": "center",
          "xref": "paper",
          "y": 0.9999999999999999,
          "yanchor": "bottom",
          "yref": "paper"
         }
        ],
        "margin": {
         "t": 60
        },
        "template": {
         "data": {
          "bar": [
           {
            "error_x": {
             "color": "#2a3f5f"
            },
            "error_y": {
             "color": "#2a3f5f"
            },
            "marker": {
             "line": {
              "color": "#E5ECF6",
              "width": 0.5
             },
             "pattern": {
              "fillmode": "overlay",
              "size": 10,
              "solidity": 0.2
             }
            },
            "type": "bar"
           }
          ],
          "barpolar": [
           {
            "marker": {
             "line": {
              "color": "#E5ECF6",
              "width": 0.5
             },
             "pattern": {
              "fillmode": "overlay",
              "size": 10,
              "solidity": 0.2
             }
            },
            "type": "barpolar"
           }
          ],
          "carpet": [
           {
            "aaxis": {
             "endlinecolor": "#2a3f5f",
             "gridcolor": "white",
             "linecolor": "white",
             "minorgridcolor": "white",
             "startlinecolor": "#2a3f5f"
            },
            "baxis": {
             "endlinecolor": "#2a3f5f",
             "gridcolor": "white",
             "linecolor": "white",
             "minorgridcolor": "white",
             "startlinecolor": "#2a3f5f"
            },
            "type": "carpet"
           }
          ],
          "choropleth": [
           {
            "colorbar": {
             "outlinewidth": 0,
             "ticks": ""
            },
            "type": "choropleth"
           }
          ],
          "contour": [
           {
            "colorbar": {
             "outlinewidth": 0,
             "ticks": ""
            },
            "colorscale": [
             [
              0,
              "#0d0887"
             ],
             [
              0.1111111111111111,
              "#46039f"
             ],
             [
              0.2222222222222222,
              "#7201a8"
             ],
             [
              0.3333333333333333,
              "#9c179e"
             ],
             [
              0.4444444444444444,
              "#bd3786"
             ],
             [
              0.5555555555555556,
              "#d8576b"
             ],
             [
              0.6666666666666666,
              "#ed7953"
             ],
             [
              0.7777777777777778,
              "#fb9f3a"
             ],
             [
              0.8888888888888888,
              "#fdca26"
             ],
             [
              1,
              "#f0f921"
             ]
            ],
            "type": "contour"
           }
          ],
          "contourcarpet": [
           {
            "colorbar": {
             "outlinewidth": 0,
             "ticks": ""
            },
            "type": "contourcarpet"
           }
          ],
          "heatmap": [
           {
            "colorbar": {
             "outlinewidth": 0,
             "ticks": ""
            },
            "colorscale": [
             [
              0,
              "#0d0887"
             ],
             [
              0.1111111111111111,
              "#46039f"
             ],
             [
              0.2222222222222222,
              "#7201a8"
             ],
             [
              0.3333333333333333,
              "#9c179e"
             ],
             [
              0.4444444444444444,
              "#bd3786"
             ],
             [
              0.5555555555555556,
              "#d8576b"
             ],
             [
              0.6666666666666666,
              "#ed7953"
             ],
             [
              0.7777777777777778,
              "#fb9f3a"
             ],
             [
              0.8888888888888888,
              "#fdca26"
             ],
             [
              1,
              "#f0f921"
             ]
            ],
            "type": "heatmap"
           }
          ],
          "heatmapgl": [
           {
            "colorbar": {
             "outlinewidth": 0,
             "ticks": ""
            },
            "colorscale": [
             [
              0,
              "#0d0887"
             ],
             [
              0.1111111111111111,
              "#46039f"
             ],
             [
              0.2222222222222222,
              "#7201a8"
             ],
             [
              0.3333333333333333,
              "#9c179e"
             ],
             [
              0.4444444444444444,
              "#bd3786"
             ],
             [
              0.5555555555555556,
              "#d8576b"
             ],
             [
              0.6666666666666666,
              "#ed7953"
             ],
             [
              0.7777777777777778,
              "#fb9f3a"
             ],
             [
              0.8888888888888888,
              "#fdca26"
             ],
             [
              1,
              "#f0f921"
             ]
            ],
            "type": "heatmapgl"
           }
          ],
          "histogram": [
           {
            "marker": {
             "pattern": {
              "fillmode": "overlay",
              "size": 10,
              "solidity": 0.2
             }
            },
            "type": "histogram"
           }
          ],
          "histogram2d": [
           {
            "colorbar": {
             "outlinewidth": 0,
             "ticks": ""
            },
            "colorscale": [
             [
              0,
              "#0d0887"
             ],
             [
              0.1111111111111111,
              "#46039f"
             ],
             [
              0.2222222222222222,
              "#7201a8"
             ],
             [
              0.3333333333333333,
              "#9c179e"
             ],
             [
              0.4444444444444444,
              "#bd3786"
             ],
             [
              0.5555555555555556,
              "#d8576b"
             ],
             [
              0.6666666666666666,
              "#ed7953"
             ],
             [
              0.7777777777777778,
              "#fb9f3a"
             ],
             [
              0.8888888888888888,
              "#fdca26"
             ],
             [
              1,
              "#f0f921"
             ]
            ],
            "type": "histogram2d"
           }
          ],
          "histogram2dcontour": [
           {
            "colorbar": {
             "outlinewidth": 0,
             "ticks": ""
            },
            "colorscale": [
             [
              0,
              "#0d0887"
             ],
             [
              0.1111111111111111,
              "#46039f"
             ],
             [
              0.2222222222222222,
              "#7201a8"
             ],
             [
              0.3333333333333333,
              "#9c179e"
             ],
             [
              0.4444444444444444,
              "#bd3786"
             ],
             [
              0.5555555555555556,
              "#d8576b"
             ],
             [
              0.6666666666666666,
              "#ed7953"
             ],
             [
              0.7777777777777778,
              "#fb9f3a"
             ],
             [
              0.8888888888888888,
              "#fdca26"
             ],
             [
              1,
              "#f0f921"
             ]
            ],
            "type": "histogram2dcontour"
           }
          ],
          "mesh3d": [
           {
            "colorbar": {
             "outlinewidth": 0,
             "ticks": ""
            },
            "type": "mesh3d"
           }
          ],
          "parcoords": [
           {
            "line": {
             "colorbar": {
              "outlinewidth": 0,
              "ticks": ""
             }
            },
            "type": "parcoords"
           }
          ],
          "pie": [
           {
            "automargin": true,
            "type": "pie"
           }
          ],
          "scatter": [
           {
            "fillpattern": {
             "fillmode": "overlay",
             "size": 10,
             "solidity": 0.2
            },
            "type": "scatter"
           }
          ],
          "scatter3d": [
           {
            "line": {
             "colorbar": {
              "outlinewidth": 0,
              "ticks": ""
             }
            },
            "marker": {
             "colorbar": {
              "outlinewidth": 0,
              "ticks": ""
             }
            },
            "type": "scatter3d"
           }
          ],
          "scattercarpet": [
           {
            "marker": {
             "colorbar": {
              "outlinewidth": 0,
              "ticks": ""
             }
            },
            "type": "scattercarpet"
           }
          ],
          "scattergeo": [
           {
            "marker": {
             "colorbar": {
              "outlinewidth": 0,
              "ticks": ""
             }
            },
            "type": "scattergeo"
           }
          ],
          "scattergl": [
           {
            "marker": {
             "colorbar": {
              "outlinewidth": 0,
              "ticks": ""
             }
            },
            "type": "scattergl"
           }
          ],
          "scattermapbox": [
           {
            "marker": {
             "colorbar": {
              "outlinewidth": 0,
              "ticks": ""
             }
            },
            "type": "scattermapbox"
           }
          ],
          "scatterpolar": [
           {
            "marker": {
             "colorbar": {
              "outlinewidth": 0,
              "ticks": ""
             }
            },
            "type": "scatterpolar"
           }
          ],
          "scatterpolargl": [
           {
            "marker": {
             "colorbar": {
              "outlinewidth": 0,
              "ticks": ""
             }
            },
            "type": "scatterpolargl"
           }
          ],
          "scatterternary": [
           {
            "marker": {
             "colorbar": {
              "outlinewidth": 0,
              "ticks": ""
             }
            },
            "type": "scatterternary"
           }
          ],
          "surface": [
           {
            "colorbar": {
             "outlinewidth": 0,
             "ticks": ""
            },
            "colorscale": [
             [
              0,
              "#0d0887"
             ],
             [
              0.1111111111111111,
              "#46039f"
             ],
             [
              0.2222222222222222,
              "#7201a8"
             ],
             [
              0.3333333333333333,
              "#9c179e"
             ],
             [
              0.4444444444444444,
              "#bd3786"
             ],
             [
              0.5555555555555556,
              "#d8576b"
             ],
             [
              0.6666666666666666,
              "#ed7953"
             ],
             [
              0.7777777777777778,
              "#fb9f3a"
             ],
             [
              0.8888888888888888,
              "#fdca26"
             ],
             [
              1,
              "#f0f921"
             ]
            ],
            "type": "surface"
           }
          ],
          "table": [
           {
            "cells": {
             "fill": {
              "color": "#EBF0F8"
             },
             "line": {
              "color": "white"
             }
            },
            "header": {
             "fill": {
              "color": "#C8D4E3"
             },
             "line": {
              "color": "white"
             }
            },
            "type": "table"
           }
          ]
         },
         "layout": {
          "annotationdefaults": {
           "arrowcolor": "#2a3f5f",
           "arrowhead": 0,
           "arrowwidth": 1
          },
          "autotypenumbers": "strict",
          "coloraxis": {
           "colorbar": {
            "outlinewidth": 0,
            "ticks": ""
           }
          },
          "colorscale": {
           "diverging": [
            [
             0,
             "#8e0152"
            ],
            [
             0.1,
             "#c51b7d"
            ],
            [
             0.2,
             "#de77ae"
            ],
            [
             0.3,
             "#f1b6da"
            ],
            [
             0.4,
             "#fde0ef"
            ],
            [
             0.5,
             "#f7f7f7"
            ],
            [
             0.6,
             "#e6f5d0"
            ],
            [
             0.7,
             "#b8e186"
            ],
            [
             0.8,
             "#7fbc41"
            ],
            [
             0.9,
             "#4d9221"
            ],
            [
             1,
             "#276419"
            ]
           ],
           "sequential": [
            [
             0,
             "#0d0887"
            ],
            [
             0.1111111111111111,
             "#46039f"
            ],
            [
             0.2222222222222222,
             "#7201a8"
            ],
            [
             0.3333333333333333,
             "#9c179e"
            ],
            [
             0.4444444444444444,
             "#bd3786"
            ],
            [
             0.5555555555555556,
             "#d8576b"
            ],
            [
             0.6666666666666666,
             "#ed7953"
            ],
            [
             0.7777777777777778,
             "#fb9f3a"
            ],
            [
             0.8888888888888888,
             "#fdca26"
            ],
            [
             1,
             "#f0f921"
            ]
           ],
           "sequentialminus": [
            [
             0,
             "#0d0887"
            ],
            [
             0.1111111111111111,
             "#46039f"
            ],
            [
             0.2222222222222222,
             "#7201a8"
            ],
            [
             0.3333333333333333,
             "#9c179e"
            ],
            [
             0.4444444444444444,
             "#bd3786"
            ],
            [
             0.5555555555555556,
             "#d8576b"
            ],
            [
             0.6666666666666666,
             "#ed7953"
            ],
            [
             0.7777777777777778,
             "#fb9f3a"
            ],
            [
             0.8888888888888888,
             "#fdca26"
            ],
            [
             1,
             "#f0f921"
            ]
           ]
          },
          "colorway": [
           "#636efa",
           "#EF553B",
           "#00cc96",
           "#ab63fa",
           "#FFA15A",
           "#19d3f3",
           "#FF6692",
           "#B6E880",
           "#FF97FF",
           "#FECB52"
          ],
          "font": {
           "color": "#2a3f5f"
          },
          "geo": {
           "bgcolor": "white",
           "lakecolor": "white",
           "landcolor": "#E5ECF6",
           "showlakes": true,
           "showland": true,
           "subunitcolor": "white"
          },
          "hoverlabel": {
           "align": "left"
          },
          "hovermode": "closest",
          "mapbox": {
           "style": "light"
          },
          "paper_bgcolor": "white",
          "plot_bgcolor": "#E5ECF6",
          "polar": {
           "angularaxis": {
            "gridcolor": "white",
            "linecolor": "white",
            "ticks": ""
           },
           "bgcolor": "#E5ECF6",
           "radialaxis": {
            "gridcolor": "white",
            "linecolor": "white",
            "ticks": ""
           }
          },
          "scene": {
           "xaxis": {
            "backgroundcolor": "#E5ECF6",
            "gridcolor": "white",
            "gridwidth": 2,
            "linecolor": "white",
            "showbackground": true,
            "ticks": "",
            "zerolinecolor": "white"
           },
           "yaxis": {
            "backgroundcolor": "#E5ECF6",
            "gridcolor": "white",
            "gridwidth": 2,
            "linecolor": "white",
            "showbackground": true,
            "ticks": "",
            "zerolinecolor": "white"
           },
           "zaxis": {
            "backgroundcolor": "#E5ECF6",
            "gridcolor": "white",
            "gridwidth": 2,
            "linecolor": "white",
            "showbackground": true,
            "ticks": "",
            "zerolinecolor": "white"
           }
          },
          "shapedefaults": {
           "line": {
            "color": "#2a3f5f"
           }
          },
          "ternary": {
           "aaxis": {
            "gridcolor": "white",
            "linecolor": "white",
            "ticks": ""
           },
           "baxis": {
            "gridcolor": "white",
            "linecolor": "white",
            "ticks": ""
           },
           "bgcolor": "#E5ECF6",
           "caxis": {
            "gridcolor": "white",
            "linecolor": "white",
            "ticks": ""
           }
          },
          "title": {
           "x": 0.05
          },
          "xaxis": {
           "automargin": true,
           "gridcolor": "white",
           "linecolor": "white",
           "ticks": "",
           "title": {
            "standoff": 15
           },
           "zerolinecolor": "white",
           "zerolinewidth": 2
          },
          "yaxis": {
           "automargin": true,
           "gridcolor": "white",
           "linecolor": "white",
           "ticks": "",
           "title": {
            "standoff": 15
           },
           "zerolinecolor": "white",
           "zerolinewidth": 2
          }
         }
        },
        "xaxis": {
         "anchor": "y",
         "domain": [
          0,
          0.18400000000000002
         ]
        },
        "xaxis10": {
         "anchor": "y10",
         "domain": [
          0.8160000000000001,
          1
         ],
         "matches": "x",
         "showticklabels": false
        },
        "xaxis2": {
         "anchor": "y2",
         "domain": [
          0.20400000000000001,
          0.388
         ],
         "matches": "x"
        },
        "xaxis3": {
         "anchor": "y3",
         "domain": [
          0.40800000000000003,
          0.5920000000000001
         ],
         "matches": "x"
        },
        "xaxis4": {
         "anchor": "y4",
         "domain": [
          0.6120000000000001,
          0.7960000000000002
         ],
         "matches": "x"
        },
        "xaxis5": {
         "anchor": "y5",
         "domain": [
          0.8160000000000001,
          1
         ],
         "matches": "x"
        },
        "xaxis6": {
         "anchor": "y6",
         "domain": [
          0,
          0.18400000000000002
         ],
         "matches": "x",
         "showticklabels": false
        },
        "xaxis7": {
         "anchor": "y7",
         "domain": [
          0.20400000000000001,
          0.388
         ],
         "matches": "x",
         "showticklabels": false
        },
        "xaxis8": {
         "anchor": "y8",
         "domain": [
          0.40800000000000003,
          0.5920000000000001
         ],
         "matches": "x",
         "showticklabels": false
        },
        "xaxis9": {
         "anchor": "y9",
         "domain": [
          0.6120000000000001,
          0.7960000000000002
         ],
         "matches": "x",
         "showticklabels": false
        },
        "yaxis": {
         "anchor": "x",
         "domain": [
          0,
          0.46499999999999997
         ]
        },
        "yaxis10": {
         "anchor": "x10",
         "domain": [
          0.5349999999999999,
          0.9999999999999999
         ],
         "matches": "y",
         "showticklabels": false
        },
        "yaxis2": {
         "anchor": "x2",
         "domain": [
          0,
          0.46499999999999997
         ],
         "matches": "y",
         "showticklabels": false
        },
        "yaxis3": {
         "anchor": "x3",
         "domain": [
          0,
          0.46499999999999997
         ],
         "matches": "y",
         "showticklabels": false
        },
        "yaxis4": {
         "anchor": "x4",
         "domain": [
          0,
          0.46499999999999997
         ],
         "matches": "y",
         "showticklabels": false
        },
        "yaxis5": {
         "anchor": "x5",
         "domain": [
          0,
          0.46499999999999997
         ],
         "matches": "y",
         "showticklabels": false
        },
        "yaxis6": {
         "anchor": "x6",
         "domain": [
          0.5349999999999999,
          0.9999999999999999
         ],
         "matches": "y"
        },
        "yaxis7": {
         "anchor": "x7",
         "domain": [
          0.5349999999999999,
          0.9999999999999999
         ],
         "matches": "y",
         "showticklabels": false
        },
        "yaxis8": {
         "anchor": "x8",
         "domain": [
          0.5349999999999999,
          0.9999999999999999
         ],
         "matches": "y",
         "showticklabels": false
        },
        "yaxis9": {
         "anchor": "x9",
         "domain": [
          0.5349999999999999,
          0.9999999999999999
         ],
         "matches": "y",
         "showticklabels": false
        }
       }
      },
      "text/html": [
       "<div>                            <div id=\"2e44e09d-9550-4347-a515-5e01e3b75e91\" class=\"plotly-graph-div\" style=\"height:525px; width:100%;\"></div>            <script type=\"text/javascript\">                require([\"plotly\"], function(Plotly) {                    window.PLOTLYENV=window.PLOTLYENV || {};                                    if (document.getElementById(\"2e44e09d-9550-4347-a515-5e01e3b75e91\")) {                    Plotly.newPlot(                        \"2e44e09d-9550-4347-a515-5e01e3b75e91\",                        [{\"name\":\"0\",\"source\":\"data:image\\u002fpng;base64,iVBORw0KGgoAAAANSUhEUgAAABwAAAAcCAAAAABXZoBIAAADL0lEQVR4XgXB328adQAA8Pt+7zjg2EFbyu\\u002fr4V3LD7tC01KwrrOuxq1qYrLo9jD10Rd\\u002fJGbxxRf\\u002fAeOD8cHExOzRRKOLyWKWRp3tfrk2G7ZAR4FSoXBwUHp3lAPu4AA\\u002fH3CBCiXpVlyFa23chCcXjhRqMllWVsYqphfgkvuhpT7d8b1zavFJNb\\u002fPr6a3hNkuOGq2kljJbAAPNJoUTmJ5xbsVymIeo3KxjeKSQ4UvD93pKEeQsVEqYd7sxI20UJPvDrWTYf4YNqrkIrJK9b9dHYRGlz6QYJcbxa6RprYyxmKiK28ieHlhXOMDS3GgcefecNnyHCes\\u002f2qCPpq3agfN73YIz\\u002fEtWNWHzfVev75w+TwRWMMqf+Nn6RtSWDchMH2PnNl\\u002fiSczw9z7vsPlKvjGlU6R+skSPnwxXmBEb8cx3UN+rK\\u002fPbUIZfJFLzHdRHWoMFPRjGi67Y9StUjsax6czJHYUYUDWLdl9Qn2IidbzlUS5o7H1+eoWC2AxLTIV9ayS6Nvf\\u002fSM1BadqW0mnUryXi2T1EHPLt72SZmE3uneCXxnkX2B2TUJzTtf+hQx0poyfWg+s4qbfAa8VipZw3JxCckv6kplSoMTLX1s+QStB4dTyT7Od785RxYphVy0HTCRElsnrG3vPQ3+qXesKY93VSQ+jgLYtrvUzLPQfvhL7TGiVX+tRSPokEP0+G3ge4z25ZO+YATfrCqvcjxZoL\\u002fn6ozso3cUbzQls9oCcStngPq1PMRfLVJgwbvDhOVxAlldhs9J\\u002fSidxcHV3HXvCzvp\\u002ff1vhEgPCd4r8q7GRwV7zsX0efDyhcT\\u002fdBN0ZnVBrjm8b8ODolBBn9xj2GQuNvxWQzxtJG2py9WoNF+use0fjuqJ6\\u002fIM\\u002fAdUPJ0fbSGSnazYcRQb\\u002f1UKI6jhzFz4imfYZeAux2krteXkm+iXpOlcDI89fEfX++gDN002Mu3Fv5OgAw8+3nStPVDEI21BchIZ9+VXrA3DVhmiUhtl3DqOVSEukMwRd4vr80t1LkIeWKiROnjVL3vdKV3LZ8QYWeuRoRY3MdYsXgDetKG7fJqJie4cM2pMEYkaV3kxeMqhTj\\u002f8HZBmBFQmmGPAAAAAASUVORK5CYII=\",\"type\":\"image\",\"xaxis\":\"x6\",\"yaxis\":\"y6\",\"hovertemplate\":\"x: %{x}\\u003cbr\\u003ey: %{y}\\u003cextra\\u003e\\u003c\\u002fextra\\u003e\"},{\"name\":\"1\",\"source\":\"data:image\\u002fpng;base64,iVBORw0KGgoAAAANSUhEUgAAABwAAAAcCAAAAABXZoBIAAADM0lEQVR4XgXBXUwadwAA8Ls\\u002fx91x4N0heAIKqGkRweoKOJtl2rV2mrqYrlkTm61LmybNssc97Xl76dOe9tKHLdnrlm7Z2mhJp03TbvZDRwQc9RwIVb4ORDzuCziO2+8Hz\\u002fqJiXs+j1HOOWNjpCOrNQL7ducadkQP58Birvq7l6nk098QPgjLIGY1g2s\\u002fXnDpduU9sHMC53G+iIfv9u1oPwhtfSTSr8\\u002fHpjGA\\u002fIRYbuRRonxWkfz3FmOjzoyLXV2E4kfoW1wKIoewqX+EzyYCA1+zIcWOuevjXl6\\u002ftrLALjwFoTp28qAweKNro79kwiWas0H\\u002fuuefAepMHYfnh9Ljex9vkte3+UAUn2hngp77fJ4i9qirbvjbf6SAqdAKvsubHIdKO\\u002fQEseosuUsW8xQBX2rZibk3So8UAk71sfVSw7NV67oStpSZEBGGsgl3b2u0uqtHXQ8jG\\u002f5Rj9qWC8ThVDoLf24a1koyPaN7vsOld14yHUPwJLh2\\u002fk9cOhUHDkx4IV4JC4bvLeVzxSvOcbTmrlw2NJvH6kXQAWxvJ5pkHrhZ5HV7dyWe2rT01bcxf5Z\\u002fBqCm1k2K4S3\\u002fMSVT8v6Sk\\u002fyAyzX70M3wHxLIctXJgclV2ugEc+ni+SSxr2j9nCJPIeEZMO3uLRp9NDeS68a8PXGK\\u002f1SASQYCB5kIDoScZmBeBZeP4MnjXCQFwTXFvJ1yF\\u002febj0vIwdlMrds1pdreqh9qMO5CB2Da+F9DhkhdBioit\\u002fq5zVzK4BcklkDV1jIVFl8y1kzFAVyVncgj2OMZYHQbRgarp++svTK3HDGhp5AAG4OzopUu\\u002fVJXhZtLPaOzF3NfhMTdgGgepOqIRRt6rpE2OLt0euN4ubkOXV8XEsyTa7\\u002fNkDXkQtrnMq43vGgiqZmeOsyGljc5wY79KhKSFxykcEVcmMszZdaJkg1U2XqeZwvoZ+b4tBH+Cot+wsm0542PHVrxId4E2ewMlzklHI0U4Q\\u002f7Sq5eR3u7csYF117cWiURLiLb9KPKub8dyCC959TMP6sDfNnaXDCMNk79V33\\u002fvvcRXplKgITdLlKrV\\u002fF5bAqySA+5tdjY2w2K\\u002fSgI8pf\\u002fBzjuf\\u002fRH6cP3AAAAAElFTkSuQmCC\",\"type\":\"image\",\"xaxis\":\"x7\",\"yaxis\":\"y7\",\"hovertemplate\":\"x: %{x}\\u003cbr\\u003ey: %{y}\\u003cextra\\u003e\\u003c\\u002fextra\\u003e\"},{\"name\":\"2\",\"source\":\"data:image\\u002fpng;base64,iVBORw0KGgoAAAANSUhEUgAAABwAAAAcCAAAAABXZoBIAAADMElEQVR4XgXB\\u002fW8aZQAA4Lv3XuAOOMbBFfD4XIF+UFo2q62SYu26mKaZ69RUE9NkiZr4L2j8IzQxJpr409TE+YMf24xrJN0W13aM2SLdWigtFLgC3R1fo8fR4w58HtSz3HB1onR\\u002fIL4CiJqORQuhqEMAvJeho+iyDy1Bg9BJzrOaCia55Fq4m7FmdYF+jwMD0gOyRNCvhbA3sFfAp4I0sf5X95EWF\\u002f97RINj3Jw47dp\\u002fwFp3Z1H4ddGt8Vz1k0VGmv6zgV7vmbrB34YgN5Xy\\u002fOSfWLMQ7pq+inL2tDEAzC+HjKm5prlbPIsuTqODlyKNM6wNL+VGaATAb\\u002f\\u002fgN\\u002feuZFHJrPe\\u002fFXAcNg\\u002fUrnjjF2f\\u002fOQ4OmFnURNyaeydBW7FVB\\u002f98+1rn2QK8TLGGJohb4gZfQbcepTOJH8nNSXI1ORHVdU\\u002fzwxUZvImUX62er3dpK1ghnW7FdBW7cyXF5Lm8MQbYsvGG9tzIzXSM2dpeM8OTflkpLzGIGkcWYaB1NE3H+5+nsjvg+1jGwXCkxsB3BnNOSMOhn7v8ERZOjwkh5LagKe\\u002f6v1qhN47dF1hBgQlEb+lvOett3+FuZF71MLz6BdgxndumTgs6ULX3JGGac9p+lT+xovWLjwNynsfrk2P2C09BcwHnRyR9QTNq\\u002fa5q4EoKWC8OPFnQ3SO9fjhzd7m+MS\\u002f6gIoitn3MeF41XrYg38w0pDiApTklRzVTvs5Jm25rFdZw\\u002fGCwh2qH+E63DWEt0ZPYsNRw\\u002f+1CSlUrZWwpksfQ8AJuECDVrAL7BFEWp4ZnAEMLhfO5oO5FYb89WwSRzffrQSF5pz9GxVXelFzn1G+T\\u002f7YoPUx70M9uW7yyMwvG9\\u002fSa0Wfv7sTknmPPhmsN90gcXbJhJ+4j4aKs7vHK\\u002fBN3Um2tcEylOpNWhWDwAMfc+66kZAKo7cZ7Gx1RtzXqiuT4li2LfpixRe4PN0iTlKOrk7vc0EOevnZzoodi8haofUyIDkzSDqylJeM\\u002fOn+HuhxufSSKAXXrddD+UmufYrFOzHRdo7yUkdMOo0DdYoOHx\\u002fQ+YD5YfHpfTEmjcgP+Lp6tW188rshjGpVMnCz9DwnefRDhTVsaAAAAAElFTkSuQmCC\",\"type\":\"image\",\"xaxis\":\"x8\",\"yaxis\":\"y8\",\"hovertemplate\":\"x: %{x}\\u003cbr\\u003ey: %{y}\\u003cextra\\u003e\\u003c\\u002fextra\\u003e\"},{\"name\":\"3\",\"source\":\"data:image\\u002fpng;base64,iVBORw0KGgoAAAANSUhEUgAAABwAAAAcCAAAAABXZoBIAAADIUlEQVR4XgXB2U\\u002fbdgAA4PgXB8c5aGzn8AGJyEEuQFlJA+vEskqb1Anow9RJ056KNGnaQ\\u002f+dvWzSpG2atD51e1rHAwwKdEApMAgJTRqHJsRxcByTw4mv7Pug+Uc85wmWz2bYkPouSr\\u002fr05fp9\\u002fsPNVWtUgBrMo7Uib7Af8Uc64N15NDjgz1f1nfylswt9I1w\\u002f4q7wMxoiCfwuV\\u002fLy28laWVwxihSdxo+b6VjzMnHg1vUghegoJW8jNj+XdFNB354Gyaytb3W00r31Yciyd9RqptTHRtaAa9wMO0BtQs5ROQeJWNN35sU6aAs8gF7U+h92zZ6XfD5p1qdFo70QMoacUp2Jxn+qRjTun\\u002fJ8XIdbm0w\\u002fCAGJfqijHNVir9uq+FKMp8winwUfjAqxGeGO0oeG++y2MwwxceGpnV8zNmMGuB7cerwh1mbbdl7Olwdcfp59eyj26VwK4bYKIDbWvfXDqaeMzvu5s\\u002f2kq\\u002fvjz5z8LLeqCD7oObA\\u002fIWOMyPIamYem+1j\\u002f50ulhIB9MWcPAaCLKqPy5LVPLF3pKj\\u002f6LW7tBGo+SHYMqKBASsHRYXvFoxF9+E0KWCJcwgfH3DpTcMFZg1XPXDpEo4+iyPh3lSUf21MTqK77vpDqQEunHY1lPl7MtjBrHTxGWlylnP96yCM3PQoaHWBVS2sn1G9LFJtIBRT9miRXwySKljvQWunYV0L5VqUd3WrbM7uexg\\u002ffC2ctOYtd17CypMN7\\u002fqDahYOFVwLCTnIs5dkkeiYda3VBmLVbH36Z3FX\\u002frFNd37ryW8UU2OFU9wI38hBq3OHgmupVEoZ2g0hdVDCzmFusnKFHLuSYFvDluCTU2pbSqcdn5gA1XANkV0wPvEEI6A1gngxiuMl32hrwonmHh+TsjEDr7eIBNiB7fe2IiDA44Q1GH2JZI0OsInvR0KmNmqGgfn3pHVU3ed5XG3HnWONBagWtsMiN0SuSOhrt72jd5NS3ntBlpbzEq1nOMjOi\\u002fNbgg8siufiRJ+djtQeowa\\u002f+EHRcjS42SybnpOkC2xojIB80fxjj3t9dzLPanHvlSxnae07KcT8DwRDjGIsl2N7AAAAAElFTkSuQmCC\",\"type\":\"image\",\"xaxis\":\"x9\",\"yaxis\":\"y9\",\"hovertemplate\":\"x: %{x}\\u003cbr\\u003ey: %{y}\\u003cextra\\u003e\\u003c\\u002fextra\\u003e\"},{\"name\":\"4\",\"source\":\"data:image\\u002fpng;base64,iVBORw0KGgoAAAANSUhEUgAAABwAAAAcCAAAAABXZoBIAAADN0lEQVR4XgEsA9P8ARdBMqRE2iHtCR4OwhApzRL\\u002f3yYMwRYzuwMN8yoCLBfdGgjs8v4CAfwb6uMW7vsaBOo96bIa\\u002fhMM0gFP5EL110oIvvcU4wck3P8BA+pHIJRF1xMtCu7yAXD0AAkT6gL9+PUL7x746gcRE\\u002fgV4hr6DdDbIykCGwb297br9achIxg+NkhmDwzCAMj7AuqyCA0T4QIE+v4FFPr5Zf4EFEYMkMU4NEXaBe8ND\\u002fPUNew2AsTs7QQAGRAQJQ0W2uw\\u002fEw\\u002f6HXrxEOUGMgr3+a8CCNhA\\u002fwIJ+NPS9vb0+CIn7PT\\u002f41cL\\u002f9UHA+oeAwLnVhgTGyMURWf59hT88uDcJvQH7zEWFOUkIMYfAlDGugHx7xIR9RUM3c21vCDWJP8V8jb+JS6+Ks0C50Hr7f\\u002fG+\\u002fSxGwHDExXlxaQD7vTizxwLozkKBQLh8y\\u002fpGzzZ9WHxv\\u002f3zH977\\u002f9Pn\\u002flT6\\u002fzbs5wAGAh3i7uXJEnv0zCj6BwvNZMBXwM7g3x8q31gCEl8EEP\\u002f6O9H\\u002frDTYEPbwEycfZ9P92Nod+DiiEfXX5wLd+wXdM9BO0xal4y8G4s3v9wApExsZvnkrJQbyAvbO8wkMN9vf00E3EvkUHRL1EBBavTkJsbj4Dw0C4zyb7M0D\\u002fB4+7vDZ7\\u002fb+1vfy9J451CsyEO\\u002f5CAIr91ESHvj57q\\u002fSETQowewT\\u002fiX1KxsLKgEo9znRBBvtBM1P8AVW1AIn2hdH3BICJAfu1fnvvPYVoDwBKGEA2uBx\\u002fQrsG9fK1t4tL\\u002fUWAQsR\\u002fNIq1\\u002fj69gFVJA4CqBsamaf02PTaTAT6JvUBGiCp2fH4HvTzAWPzASDS404HLwnQ9FnuywvyLOD70sotFPEKyTMBDjoT1S\\u002fqEQRdwTH9ANFU0Qvp6wj0wj3V+gcZBwFrIKM6+BL87\\u002flS9ucAGNkN+CS9IePlJA\\u002fl+905AV8M\\u002fBnCFwMHEboHNpwhRNlbztQjEwXj\\u002ftQXK+sBVhAB6hoC9BTnBwX0+Ov3IuYiAjapQMcZLMsQBAIKB0otAP8W2e0E2Q4KEw82E1cHyDjHIPj5G8nbBA\\u002fdu+MW5f8X+MsQ6BzhMt8fp+UPJfodIM5J5ybjvoKBMFDmbgAAAABJRU5ErkJggg==\",\"type\":\"image\",\"xaxis\":\"x10\",\"yaxis\":\"y10\",\"hovertemplate\":\"x: %{x}\\u003cbr\\u003ey: %{y}\\u003cextra\\u003e\\u003c\\u002fextra\\u003e\"},{\"name\":\"5\",\"source\":\"data:image\\u002fpng;base64,iVBORw0KGgoAAAANSUhEUgAAABwAAAAcCAAAAABXZoBIAAADNElEQVR4XgXBS1MadwAAcP5\\u002fdsEFFlZclgXLAAblEYymGnWwaWOe0+ljpo\\u002fJNB7Mob2l00zyAfIF2h576DSnzrSd9mRSx6bTpklbk+iIkYdxlaeALEsgCMsu7CKw+f3Ad2u1ovGiem3PY2c+4hkDcvtraTJM45BvhMGdlzVL6i1TWfT\\u002fQ6gVuT3Z4PSgur8oD\\u002f6hBVfnOUSfrYng+irjYIJEZp7nu1pERKMqP9K998pqnvDEI0813UkrU3SkLAbN8xnuQ9bKgZtl\\u002fx7aa+m8a4bA8d6XZez7lxOfJjcvLhcWEuAyEnrUOD7FvpMb0qm9KW5qK4s498\\u002f8+oa514P90K5i8mLjlX+PEigbrhaxm1R6NBayeGonYQDX+KnPX8XgjGNxaLUuo9PrvUBFwMgX7ofgFhTpDZH2HBB6cmP2wWRV7YON5olcC2acCDOCC4R33Jbx6PIF0XRMtK2MtGat4ybbCviqywaVFkTF2eajKhbcvGI4GIhBOHyEbHghSwUfq9k51pUuXb2mOrBljuxmvtyh0MOJAFTaL87t7EZ\\u002fwUcK37CYRpXlvuDc6KWcCZda4Ke70ifUg3MJXShequ32z3a8Cdf2cKxunBY6yJ\\u002fvNuOeVoehk+lmZVEbYSVehf4wGyzF3\\u002fwbkcpFS8ONIVaRI08J+7k5kkqv3qDvharMZdh+5nHxccboHLIKfFEXiiJ0exbhFOk\\u002fex0xTxdSTur+tb4a98eJuCs\\u002f3knvkEBoKiADlpDSRO3sdp\\u002fgU2PRUaWykOz2A\\u002fyOMz+nKkIvrklQG7wwaAjunzwAY75hXUv5MbRJh58fwRLl7mXkSnOMmLmBt42nE4eY\\u002fuH1+xfkwtLb4LO8TyXV7Asdvq4y6+iivE1bd558vD4lYEnwbTmNmiSQ9bnnn2DUs8Dy+WTMRepByuwDcIWvqsSK6kJe\\u002fvl\\u002f\\u002fYB7Jcia3q\\u002fVmyY9n43CoEAeD5K2oXZHOxrJ\\u002fUZrZOPyCXOvFKnnRuDpra5TN1yuzAhzaDHmUfhDnaMZazNLA\\u002fAvyJTf60UKGcfvIhP2b6kVwi3IenteszvIfADOn2F5S\\u002fvS3XGcfFy7wiq4Vl+UbOtTaZ9YeA0eko7qoT2tUwAAAABJRU5ErkJggg==\",\"type\":\"image\",\"xaxis\":\"x\",\"yaxis\":\"y\",\"hovertemplate\":\"x: %{x}\\u003cbr\\u003ey: %{y}\\u003cextra\\u003e\\u003c\\u002fextra\\u003e\"},{\"name\":\"6\",\"source\":\"data:image\\u002fpng;base64,iVBORw0KGgoAAAANSUhEUgAAABwAAAAcCAAAAABXZoBIAAADM0lEQVR4XgXB+28adQAA8N737rge3INry2PA8Wyhg9KtT7vCOut06dTYaPZLExOjPywxMfFXE\\u002f0L\\u002fNnfjD+YGZMlui7GONtptmYds10fFMagLZRSegXuuGM8ykGPh58PNHmDy9+9R+A6vAYVyneyeYkLvhi7uHhmmXgIyJXXV0ODTEy72XPpVPN9GW126K5XCy\\u002f2HV8G4CP8n90U9N7vM4fJoZwnr3xIJuv7rPhGOdQhZmwWKlSRKGNum0MlAqVW7QFSWsV9nFsD4LPjELCeG8iff4iPnfpz6ZG\\u002fH5R6iNQuCMLQrR714JZDGE+UK9NVNRJnefryg4Z+KoZbZcTZ0eElisg7HFEYeYUyglq9zIjzYV3H1Q992bTkuzkHrZwoKs\\u002fmdwtL7pMam1aE0bOaEbqtwmd++jo5BvjQ3d2pH4dVvcaXPfcGbRkSM4Mb5ZM1Zi1XvH\\u002fwThZfn5C0Ngu98w3rDtO9SSRFu+qG7mxD+urbEdH1iFG3XhTfek42FgAxD3LDUVlskk1DzSMLRZs915d2hqqptAXQ68DBYdCFxrgi\\u002fQkHrNIgeFvspM0wXz+UhTqoSLNN3cCT9zW+6tYza1p0IegOBn1q1PpnSgj4+BWdDxuaQ5U+bnLnXVP6de26SahKVjyxgEztbThZw\\u002fXIX34f7EDz6F7Zt67GinVKyEaQhEMUGD6ucbYf9nfEm5ji\\u002fRfb8cenjxDMBc5\\u002fFQmEl0spBTfpjvEW2KYC7mVvlE6M2pG2cWBkM9CiPqsWSP7mha2W1BzEXG10W1uNAOpKK+JMEOdSNpCYPshyaa+bs2sfM162MAfweodu2nAP778v7w0vXiGcRwtWlDrVnFTayJu8p397I1hiFWEJSVT\\u002f48XKyjiqtspmsAwk4vHRJAMuYU+CoedLapPYxUl+b7HjhLh5aG4IALfhN5N8NsAHJ56qSDl+zFCZ8UJmFAAYaSj74al8dxQ4n9aGIpXe4B29ZqaBUYgPdD3wJJyKcdc2Psh+kjJDtbWtXaMWafWy5xK0hAN92M4yjZfRL\\u002fb1Kjysj3nhnKosfb6VAQJtKRqE0qPVOSUK\\u002f5L5o9zt5K4S8LVAsgv9DzF2dsm2zVF7AAAAAElFTkSuQmCC\",\"type\":\"image\",\"xaxis\":\"x2\",\"yaxis\":\"y2\",\"hovertemplate\":\"x: %{x}\\u003cbr\\u003ey: %{y}\\u003cextra\\u003e\\u003c\\u002fextra\\u003e\"},{\"name\":\"7\",\"source\":\"data:image\\u002fpng;base64,iVBORw0KGgoAAAANSUhEUgAAABwAAAAcCAAAAABXZoBIAAADNUlEQVR4XgXBy2\\u002fbdAAAYPtXp3nYzsux0wTHebht+kpZu7Xr2kK3dUOamNpuqoTgBhckBEJCHDjC3wBDkxAHNIlqHDiMjQkW1omNdV3WJdP6StItXeIkTuLESey4zqMx3wd\\u002fKds6ZNLYOY6b2NEnVNWza9lh2IxQosYLiPlQpsNkg12nKr1\\u002fids+8tWHGMqTU2K1WQRxi889qDuy4PSiMPiBKXjQ1TZFc4rPaAcB+Jv1fh7Fu\\u002fneM9xhy+Hc0nkId7i\\u002fyPlbjtfw53oZaO3apzfyFkBIZcSTs0RWt8oDAZXZAENPhgnBHLo76zups7YY7A7SDfLKzEiivZeBP+mRRPYl21WGBMdCTuOi\\u002fcYo7g8bFv8tn4UvTdw9J0uYj\\u002fKb1gq2CwVNdCk7A8afXCS6Dl9\\u002frmBdfnAySoAKF0hc5WwvBYa5h7LS\\u002fgLyX2LMuv1OSf5ntKY0j7MPYn0KbdfG16q9oAzSrPPZFLa\\u002fOU2cJxfs89ypnJ9AOzHINg4JyOT4dYeEkMXs0n2m6t1nQoaTVfn3\\u002ftlShxDhr3PCYiMt2RlddjWSp8sinHTqTtA\\u002fFIn3k4BXXVLJA7c7U4uynwzRPVWXmY8\\u002fbiwbblPwkrVGt8xU1Kj2CRdvvWdAf+nDZEOOBNa\\u002f7eAM757z7B5DTrFSfHT4oxn9zKkamiPBTHcMQow0+mt6SHx61LAQPGu+GWA5eyv\\u002f0Bpocxj8RaEFURfWCFVc5t\\u002fojHqNOTIUcfwRkcYlQDudMjiYalDt+map5pbVW+UVKf+nTZv1m8AfTGOurmYLRVPU9u7KXqo9EtlxqvMe4+0sBl8Tn1oJf8TeRMhCV8N7UpDeN7QVYwqhpAdsVRSvwlS9Hm+tLpLZxLm2sbWzDIuTwQ6DuBowlX0YOv1tENQDcWIsImhL+p8nCBCezMKXcFXDpqMD0PD3b20Hj678diI5YBK60MYoSINWj5uSw3tiqfRd4Bq4uPsVsyqjZhP0dszaBDToJmbUGVO8cieW\\u002fig4unH6PszVOzrOpR+BP3bXh2+cfUbBD6bHcPHFnBw\\u002fJaaa829e+aU6KFdSLy6nVkLQ4ISwcdMBZfWQ4sncM3u9Jfl\\u002fgPF+jAg7nysAAAAASUVORK5CYII=\",\"type\":\"image\",\"xaxis\":\"x3\",\"yaxis\":\"y3\",\"hovertemplate\":\"x: %{x}\\u003cbr\\u003ey: %{y}\\u003cextra\\u003e\\u003c\\u002fextra\\u003e\"},{\"name\":\"8\",\"source\":\"data:image\\u002fpng;base64,iVBORw0KGgoAAAANSUhEUgAAABwAAAAcCAAAAABXZoBIAAADMElEQVR4XgXB328adQAA8Pt+ubve7ijX4\\u002fhxB1egtGy0o0iH1m6torUPS9dlM3EP\\u002fsiyzbhHE33wxfh3GB98MVFfamLi3OJMN+m6WkTs+gMKgVJogWM9oBQG9Dju8PMBd0+sZCvlcqdDxbitNdD\\u002f18K1pN542tyxliDuayTtNgKg4Sc1bFPIjLCXhy14boEap57DAWGQXuebscfK3PQ\\u002f73QbM8qzJ1aGe6TlhHvgU2bAVEoxWLePekVEv4ugDKc7QcdWDGYaCtEsoxldzquNQukqKENMCufa+f6WhUj8CK4zez4SiXGhKAIUk7+o1iY71bxul0RCGvR5R1ND6\\u002fvGv\\u002fXZNzxL2vDspNBw3PcsodMqD5uI\\u002fVrl+CuD+emi+SQXroWltbZh2c5dWG5HwR1\\u002fjNJBsTyX+eFbsvzbmFk7IByobpvgciR8reuWpeKVVPT8N47OzruDsmrHBPPT2LzDOIpmCF5TnSWsTbCpiD1xdH9d9CaZ97P7DU8QzJzr8SoLMr6Flx2QkVWiT1eJijPu6MdZuPABDualWgHHm\\u002fCPDefiFxYyr1AreVx8bxRG6nLhT+vbAb1cwm\\u002ffsriPxhmbM4KHooENP7gLS8DJ9LS+iZh4EVwOmg5qnoeHUwwidggwZZnMVYZefvIqSDxCUmyXN7iSTa71i78iqOh8v9cyU9XNXtrV1Q2f\\u002fLT49QNyqygZLm4rc\\u002fDoQbFTpituBUOtazuG711xLw8RzAHj2TXwMUKLtDQr6pQD4nK87du6xX2nbw8O5evBHHS19e1h5iBJkxcNK0L1zMVLp5vCqbwNpTzMqVH2MIFb6WcE6t51e40v1i714nwS4YkA+Jw6NUZp8QIrddFegDI39iJBKtXvjZDrH8HMWXKP14U606pje\\u002f6mvJN8RZ8W+9JEQhmk0IlkKOc6iidsAU5VHu6vuulLJeL883zzv\\u002foq7JDJBDS89bqs58J2hZyZmX3MczErvodNG8GXSE3rDtVbGnXmb9CJcXYj\\u002fVlGZsUuqfFQyxbkKQ9fvn6jFydS+v2\\u002fVk3w+DCioL\\u002fiabA0cTyybBu4malf+flDsCv8bqpiY4dvNgtbU57\\u002fAa3FdgLTIbqvAAAAAElFTkSuQmCC\",\"type\":\"image\",\"xaxis\":\"x4\",\"yaxis\":\"y4\",\"hovertemplate\":\"x: %{x}\\u003cbr\\u003ey: %{y}\\u003cextra\\u003e\\u003c\\u002fextra\\u003e\"},{\"name\":\"9\",\"source\":\"data:image\\u002fpng;base64,iVBORw0KGgoAAAANSUhEUgAAABwAAAAcCAAAAABXZoBIAAADN0lEQVR4XgEsA9P8AWrz9Op3vO\\u002f6FeXiXtPyIrEPVdMM8fcJSaM7yCUC6wLmAbXKB9zv22D97k8VTjYTFxUR9\\u002f3gTPEv6QQD\\u002fQJV9vIEFuxnrT05lQ0GDt7g\\u002fyHuMfe+HyERAvU7+dX2\\u002f+4gPMcc4sUXJwH5Gxfy2hWrLwUps\\u002fYBTQnvNef0P+YBXabyDho1e2eGMPsV7xQBEs0rOAE4FSy6ITLhAkznFvoQ7vbcRsXhBwIeyxvp20DGAg8c5AoL9BAa6C4A757h2ljs8Tv9x+kS\\u002f+E70O8EMugjLcL9B+DFBrA7NK\\u002f5+xBA8edN0QLjGtcw+AKpycGLHB9BxC3kOwP4JCPxPu8G+ynxDDrxJtzeAUkW6zIL+sxAufYS7jMgzS7dSsvYABUi9eMb5BkC9AYUwAEK\\u002fcklTfcg2+Ab9TrkIB8B+\\u002fG2+dP6ugIe1u8F1v4a\\u002fMTH9vY63h0Gx+g3K\\u002fcCACYOGgQvBBTrDwIe0CzuHgoh6e81AELwAK1t8NQDBBboCPwBMCr6EwDu+i3q+irOQ+7eMPrVFAsE+fAFDuKjcAJFzPMD7McMyhH06P3HtduV+QPxHkIAy9vf81rlBM0pFBAdD+IZ++\\u002fpCBkdIxnZCC8l39tDzAgkxSECDji09unuY\\u002fMXHgA\\u002f6BPJj7zn\\u002f8TSWuf3\\u002fasoCwIo3UnmDSK\\u002fDPTe6OAe0C4DdTkV7ulq\\u002fxn2SRDwAUMeDPnPKAIG5jPp8Bz+3lvkAyAgtskn\\u002fOndSM0CUQINFxwV+PQQJf0u9SdJIhcS+XnzD\\u002fLw\\u002fTfd\\u002fgIeE\\u002ffHPuVoHSzcLRNEzd3l5PPBD+QSHgUB3+79AVtBxiDJJycG5R3XOdUaBrYW\\u002f+YQ9wDyEf83y9cCFblIsT+85\\u002f4Q6xT+IPe3Gr3+KygKFBbgJLcq0wFfPbYS6SAd4TIuvNT7Dwr\\u002fBOkOA9cvMcky0NtgAXzR8DrcBQXW0k8PBSQO3ALTHgDuEwflIjW04vgEFP8cAO8VxC4mGifewDTlD\\u002fwIC\\u002fL44lCv\\u002f\\u002fZj+wLS8QHtGfMZ\\u002fuzzv\\u002f0R2gEFSfEoEdkiuxbuIeroAiAyDwXqAx0A\\u002fhc9ASsPRvjh9YTkS90n\\u002fw7v3SGI9IWQ0mGLxgAAAABJRU5ErkJggg==\",\"type\":\"image\",\"xaxis\":\"x5\",\"yaxis\":\"y5\",\"hovertemplate\":\"x: %{x}\\u003cbr\\u003ey: %{y}\\u003cextra\\u003e\\u003c\\u002fextra\\u003e\"}],                        {\"template\":{\"data\":{\"histogram2dcontour\":[{\"type\":\"histogram2dcontour\",\"colorbar\":{\"outlinewidth\":0,\"ticks\":\"\"},\"colorscale\":[[0.0,\"#0d0887\"],[0.1111111111111111,\"#46039f\"],[0.2222222222222222,\"#7201a8\"],[0.3333333333333333,\"#9c179e\"],[0.4444444444444444,\"#bd3786\"],[0.5555555555555556,\"#d8576b\"],[0.6666666666666666,\"#ed7953\"],[0.7777777777777778,\"#fb9f3a\"],[0.8888888888888888,\"#fdca26\"],[1.0,\"#f0f921\"]]}],\"choropleth\":[{\"type\":\"choropleth\",\"colorbar\":{\"outlinewidth\":0,\"ticks\":\"\"}}],\"histogram2d\":[{\"type\":\"histogram2d\",\"colorbar\":{\"outlinewidth\":0,\"ticks\":\"\"},\"colorscale\":[[0.0,\"#0d0887\"],[0.1111111111111111,\"#46039f\"],[0.2222222222222222,\"#7201a8\"],[0.3333333333333333,\"#9c179e\"],[0.4444444444444444,\"#bd3786\"],[0.5555555555555556,\"#d8576b\"],[0.6666666666666666,\"#ed7953\"],[0.7777777777777778,\"#fb9f3a\"],[0.8888888888888888,\"#fdca26\"],[1.0,\"#f0f921\"]]}],\"heatmap\":[{\"type\":\"heatmap\",\"colorbar\":{\"outlinewidth\":0,\"ticks\":\"\"},\"colorscale\":[[0.0,\"#0d0887\"],[0.1111111111111111,\"#46039f\"],[0.2222222222222222,\"#7201a8\"],[0.3333333333333333,\"#9c179e\"],[0.4444444444444444,\"#bd3786\"],[0.5555555555555556,\"#d8576b\"],[0.6666666666666666,\"#ed7953\"],[0.7777777777777778,\"#fb9f3a\"],[0.8888888888888888,\"#fdca26\"],[1.0,\"#f0f921\"]]}],\"heatmapgl\":[{\"type\":\"heatmapgl\",\"colorbar\":{\"outlinewidth\":0,\"ticks\":\"\"},\"colorscale\":[[0.0,\"#0d0887\"],[0.1111111111111111,\"#46039f\"],[0.2222222222222222,\"#7201a8\"],[0.3333333333333333,\"#9c179e\"],[0.4444444444444444,\"#bd3786\"],[0.5555555555555556,\"#d8576b\"],[0.6666666666666666,\"#ed7953\"],[0.7777777777777778,\"#fb9f3a\"],[0.8888888888888888,\"#fdca26\"],[1.0,\"#f0f921\"]]}],\"contourcarpet\":[{\"type\":\"contourcarpet\",\"colorbar\":{\"outlinewidth\":0,\"ticks\":\"\"}}],\"contour\":[{\"type\":\"contour\",\"colorbar\":{\"outlinewidth\":0,\"ticks\":\"\"},\"colorscale\":[[0.0,\"#0d0887\"],[0.1111111111111111,\"#46039f\"],[0.2222222222222222,\"#7201a8\"],[0.3333333333333333,\"#9c179e\"],[0.4444444444444444,\"#bd3786\"],[0.5555555555555556,\"#d8576b\"],[0.6666666666666666,\"#ed7953\"],[0.7777777777777778,\"#fb9f3a\"],[0.8888888888888888,\"#fdca26\"],[1.0,\"#f0f921\"]]}],\"surface\":[{\"type\":\"surface\",\"colorbar\":{\"outlinewidth\":0,\"ticks\":\"\"},\"colorscale\":[[0.0,\"#0d0887\"],[0.1111111111111111,\"#46039f\"],[0.2222222222222222,\"#7201a8\"],[0.3333333333333333,\"#9c179e\"],[0.4444444444444444,\"#bd3786\"],[0.5555555555555556,\"#d8576b\"],[0.6666666666666666,\"#ed7953\"],[0.7777777777777778,\"#fb9f3a\"],[0.8888888888888888,\"#fdca26\"],[1.0,\"#f0f921\"]]}],\"mesh3d\":[{\"type\":\"mesh3d\",\"colorbar\":{\"outlinewidth\":0,\"ticks\":\"\"}}],\"scatter\":[{\"fillpattern\":{\"fillmode\":\"overlay\",\"size\":10,\"solidity\":0.2},\"type\":\"scatter\"}],\"parcoords\":[{\"type\":\"parcoords\",\"line\":{\"colorbar\":{\"outlinewidth\":0,\"ticks\":\"\"}}}],\"scatterpolargl\":[{\"type\":\"scatterpolargl\",\"marker\":{\"colorbar\":{\"outlinewidth\":0,\"ticks\":\"\"}}}],\"bar\":[{\"error_x\":{\"color\":\"#2a3f5f\"},\"error_y\":{\"color\":\"#2a3f5f\"},\"marker\":{\"line\":{\"color\":\"#E5ECF6\",\"width\":0.5},\"pattern\":{\"fillmode\":\"overlay\",\"size\":10,\"solidity\":0.2}},\"type\":\"bar\"}],\"scattergeo\":[{\"type\":\"scattergeo\",\"marker\":{\"colorbar\":{\"outlinewidth\":0,\"ticks\":\"\"}}}],\"scatterpolar\":[{\"type\":\"scatterpolar\",\"marker\":{\"colorbar\":{\"outlinewidth\":0,\"ticks\":\"\"}}}],\"histogram\":[{\"marker\":{\"pattern\":{\"fillmode\":\"overlay\",\"size\":10,\"solidity\":0.2}},\"type\":\"histogram\"}],\"scattergl\":[{\"type\":\"scattergl\",\"marker\":{\"colorbar\":{\"outlinewidth\":0,\"ticks\":\"\"}}}],\"scatter3d\":[{\"type\":\"scatter3d\",\"line\":{\"colorbar\":{\"outlinewidth\":0,\"ticks\":\"\"}},\"marker\":{\"colorbar\":{\"outlinewidth\":0,\"ticks\":\"\"}}}],\"scattermapbox\":[{\"type\":\"scattermapbox\",\"marker\":{\"colorbar\":{\"outlinewidth\":0,\"ticks\":\"\"}}}],\"scatterternary\":[{\"type\":\"scatterternary\",\"marker\":{\"colorbar\":{\"outlinewidth\":0,\"ticks\":\"\"}}}],\"scattercarpet\":[{\"type\":\"scattercarpet\",\"marker\":{\"colorbar\":{\"outlinewidth\":0,\"ticks\":\"\"}}}],\"carpet\":[{\"aaxis\":{\"endlinecolor\":\"#2a3f5f\",\"gridcolor\":\"white\",\"linecolor\":\"white\",\"minorgridcolor\":\"white\",\"startlinecolor\":\"#2a3f5f\"},\"baxis\":{\"endlinecolor\":\"#2a3f5f\",\"gridcolor\":\"white\",\"linecolor\":\"white\",\"minorgridcolor\":\"white\",\"startlinecolor\":\"#2a3f5f\"},\"type\":\"carpet\"}],\"table\":[{\"cells\":{\"fill\":{\"color\":\"#EBF0F8\"},\"line\":{\"color\":\"white\"}},\"header\":{\"fill\":{\"color\":\"#C8D4E3\"},\"line\":{\"color\":\"white\"}},\"type\":\"table\"}],\"barpolar\":[{\"marker\":{\"line\":{\"color\":\"#E5ECF6\",\"width\":0.5},\"pattern\":{\"fillmode\":\"overlay\",\"size\":10,\"solidity\":0.2}},\"type\":\"barpolar\"}],\"pie\":[{\"automargin\":true,\"type\":\"pie\"}]},\"layout\":{\"autotypenumbers\":\"strict\",\"colorway\":[\"#636efa\",\"#EF553B\",\"#00cc96\",\"#ab63fa\",\"#FFA15A\",\"#19d3f3\",\"#FF6692\",\"#B6E880\",\"#FF97FF\",\"#FECB52\"],\"font\":{\"color\":\"#2a3f5f\"},\"hovermode\":\"closest\",\"hoverlabel\":{\"align\":\"left\"},\"paper_bgcolor\":\"white\",\"plot_bgcolor\":\"#E5ECF6\",\"polar\":{\"bgcolor\":\"#E5ECF6\",\"angularaxis\":{\"gridcolor\":\"white\",\"linecolor\":\"white\",\"ticks\":\"\"},\"radialaxis\":{\"gridcolor\":\"white\",\"linecolor\":\"white\",\"ticks\":\"\"}},\"ternary\":{\"bgcolor\":\"#E5ECF6\",\"aaxis\":{\"gridcolor\":\"white\",\"linecolor\":\"white\",\"ticks\":\"\"},\"baxis\":{\"gridcolor\":\"white\",\"linecolor\":\"white\",\"ticks\":\"\"},\"caxis\":{\"gridcolor\":\"white\",\"linecolor\":\"white\",\"ticks\":\"\"}},\"coloraxis\":{\"colorbar\":{\"outlinewidth\":0,\"ticks\":\"\"}},\"colorscale\":{\"sequential\":[[0.0,\"#0d0887\"],[0.1111111111111111,\"#46039f\"],[0.2222222222222222,\"#7201a8\"],[0.3333333333333333,\"#9c179e\"],[0.4444444444444444,\"#bd3786\"],[0.5555555555555556,\"#d8576b\"],[0.6666666666666666,\"#ed7953\"],[0.7777777777777778,\"#fb9f3a\"],[0.8888888888888888,\"#fdca26\"],[1.0,\"#f0f921\"]],\"sequentialminus\":[[0.0,\"#0d0887\"],[0.1111111111111111,\"#46039f\"],[0.2222222222222222,\"#7201a8\"],[0.3333333333333333,\"#9c179e\"],[0.4444444444444444,\"#bd3786\"],[0.5555555555555556,\"#d8576b\"],[0.6666666666666666,\"#ed7953\"],[0.7777777777777778,\"#fb9f3a\"],[0.8888888888888888,\"#fdca26\"],[1.0,\"#f0f921\"]],\"diverging\":[[0,\"#8e0152\"],[0.1,\"#c51b7d\"],[0.2,\"#de77ae\"],[0.3,\"#f1b6da\"],[0.4,\"#fde0ef\"],[0.5,\"#f7f7f7\"],[0.6,\"#e6f5d0\"],[0.7,\"#b8e186\"],[0.8,\"#7fbc41\"],[0.9,\"#4d9221\"],[1,\"#276419\"]]},\"xaxis\":{\"gridcolor\":\"white\",\"linecolor\":\"white\",\"ticks\":\"\",\"title\":{\"standoff\":15},\"zerolinecolor\":\"white\",\"automargin\":true,\"zerolinewidth\":2},\"yaxis\":{\"gridcolor\":\"white\",\"linecolor\":\"white\",\"ticks\":\"\",\"title\":{\"standoff\":15},\"zerolinecolor\":\"white\",\"automargin\":true,\"zerolinewidth\":2},\"scene\":{\"xaxis\":{\"backgroundcolor\":\"#E5ECF6\",\"gridcolor\":\"white\",\"linecolor\":\"white\",\"showbackground\":true,\"ticks\":\"\",\"zerolinecolor\":\"white\",\"gridwidth\":2},\"yaxis\":{\"backgroundcolor\":\"#E5ECF6\",\"gridcolor\":\"white\",\"linecolor\":\"white\",\"showbackground\":true,\"ticks\":\"\",\"zerolinecolor\":\"white\",\"gridwidth\":2},\"zaxis\":{\"backgroundcolor\":\"#E5ECF6\",\"gridcolor\":\"white\",\"linecolor\":\"white\",\"showbackground\":true,\"ticks\":\"\",\"zerolinecolor\":\"white\",\"gridwidth\":2}},\"shapedefaults\":{\"line\":{\"color\":\"#2a3f5f\"}},\"annotationdefaults\":{\"arrowcolor\":\"#2a3f5f\",\"arrowhead\":0,\"arrowwidth\":1},\"geo\":{\"bgcolor\":\"white\",\"landcolor\":\"#E5ECF6\",\"subunitcolor\":\"white\",\"showland\":true,\"showlakes\":true,\"lakecolor\":\"white\"},\"title\":{\"x\":0.05},\"mapbox\":{\"style\":\"light\"}}},\"xaxis\":{\"anchor\":\"y\",\"domain\":[0.0,0.18400000000000002]},\"yaxis\":{\"anchor\":\"x\",\"domain\":[0.0,0.46499999999999997]},\"xaxis2\":{\"anchor\":\"y2\",\"domain\":[0.20400000000000001,0.388],\"matches\":\"x\"},\"yaxis2\":{\"anchor\":\"x2\",\"domain\":[0.0,0.46499999999999997],\"matches\":\"y\",\"showticklabels\":false},\"xaxis3\":{\"anchor\":\"y3\",\"domain\":[0.40800000000000003,0.5920000000000001],\"matches\":\"x\"},\"yaxis3\":{\"anchor\":\"x3\",\"domain\":[0.0,0.46499999999999997],\"matches\":\"y\",\"showticklabels\":false},\"xaxis4\":{\"anchor\":\"y4\",\"domain\":[0.6120000000000001,0.7960000000000002],\"matches\":\"x\"},\"yaxis4\":{\"anchor\":\"x4\",\"domain\":[0.0,0.46499999999999997],\"matches\":\"y\",\"showticklabels\":false},\"xaxis5\":{\"anchor\":\"y5\",\"domain\":[0.8160000000000001,1.0],\"matches\":\"x\"},\"yaxis5\":{\"anchor\":\"x5\",\"domain\":[0.0,0.46499999999999997],\"matches\":\"y\",\"showticklabels\":false},\"xaxis6\":{\"anchor\":\"y6\",\"domain\":[0.0,0.18400000000000002],\"matches\":\"x\",\"showticklabels\":false},\"yaxis6\":{\"anchor\":\"x6\",\"domain\":[0.5349999999999999,0.9999999999999999],\"matches\":\"y\"},\"xaxis7\":{\"anchor\":\"y7\",\"domain\":[0.20400000000000001,0.388],\"matches\":\"x\",\"showticklabels\":false},\"yaxis7\":{\"anchor\":\"x7\",\"domain\":[0.5349999999999999,0.9999999999999999],\"matches\":\"y\",\"showticklabels\":false},\"xaxis8\":{\"anchor\":\"y8\",\"domain\":[0.40800000000000003,0.5920000000000001],\"matches\":\"x\",\"showticklabels\":false},\"yaxis8\":{\"anchor\":\"x8\",\"domain\":[0.5349999999999999,0.9999999999999999],\"matches\":\"y\",\"showticklabels\":false},\"xaxis9\":{\"anchor\":\"y9\",\"domain\":[0.6120000000000001,0.7960000000000002],\"matches\":\"x\",\"showticklabels\":false},\"yaxis9\":{\"anchor\":\"x9\",\"domain\":[0.5349999999999999,0.9999999999999999],\"matches\":\"y\",\"showticklabels\":false},\"xaxis10\":{\"anchor\":\"y10\",\"domain\":[0.8160000000000001,1.0],\"matches\":\"x\",\"showticklabels\":false},\"yaxis10\":{\"anchor\":\"x10\",\"domain\":[0.5349999999999999,0.9999999999999999],\"matches\":\"y\",\"showticklabels\":false},\"annotations\":[{\"font\":{},\"showarrow\":false,\"text\":\"facet_col=5\",\"x\":0.09200000000000001,\"xanchor\":\"center\",\"xref\":\"paper\",\"y\":0.46499999999999997,\"yanchor\":\"bottom\",\"yref\":\"paper\"},{\"font\":{},\"showarrow\":false,\"text\":\"facet_col=6\",\"x\":0.29600000000000004,\"xanchor\":\"center\",\"xref\":\"paper\",\"y\":0.46499999999999997,\"yanchor\":\"bottom\",\"yref\":\"paper\"},{\"font\":{},\"showarrow\":false,\"text\":\"facet_col=7\",\"x\":0.5,\"xanchor\":\"center\",\"xref\":\"paper\",\"y\":0.46499999999999997,\"yanchor\":\"bottom\",\"yref\":\"paper\"},{\"font\":{},\"showarrow\":false,\"text\":\"facet_col=8\",\"x\":0.7040000000000002,\"xanchor\":\"center\",\"xref\":\"paper\",\"y\":0.46499999999999997,\"yanchor\":\"bottom\",\"yref\":\"paper\"},{\"font\":{},\"showarrow\":false,\"text\":\"facet_col=9\",\"x\":0.908,\"xanchor\":\"center\",\"xref\":\"paper\",\"y\":0.46499999999999997,\"yanchor\":\"bottom\",\"yref\":\"paper\"},{\"font\":{},\"showarrow\":false,\"text\":\"facet_col=0\",\"x\":0.09200000000000001,\"xanchor\":\"center\",\"xref\":\"paper\",\"y\":0.9999999999999999,\"yanchor\":\"bottom\",\"yref\":\"paper\"},{\"font\":{},\"showarrow\":false,\"text\":\"facet_col=1\",\"x\":0.29600000000000004,\"xanchor\":\"center\",\"xref\":\"paper\",\"y\":0.9999999999999999,\"yanchor\":\"bottom\",\"yref\":\"paper\"},{\"font\":{},\"showarrow\":false,\"text\":\"facet_col=2\",\"x\":0.5,\"xanchor\":\"center\",\"xref\":\"paper\",\"y\":0.9999999999999999,\"yanchor\":\"bottom\",\"yref\":\"paper\"},{\"font\":{},\"showarrow\":false,\"text\":\"facet_col=3\",\"x\":0.7040000000000002,\"xanchor\":\"center\",\"xref\":\"paper\",\"y\":0.9999999999999999,\"yanchor\":\"bottom\",\"yref\":\"paper\"},{\"font\":{},\"showarrow\":false,\"text\":\"facet_col=4\",\"x\":0.908,\"xanchor\":\"center\",\"xref\":\"paper\",\"y\":0.9999999999999999,\"yanchor\":\"bottom\",\"yref\":\"paper\"}],\"margin\":{\"t\":60}},                        {\"responsive\": true}                    ).then(function(){\n",
       "                            \n",
       "var gd = document.getElementById('2e44e09d-9550-4347-a515-5e01e3b75e91');\n",
       "var x = new MutationObserver(function (mutations, observer) {{\n",
       "        var display = window.getComputedStyle(gd).display;\n",
       "        if (!display || display === 'none') {{\n",
       "            console.log([gd, 'removed!']);\n",
       "            Plotly.purge(gd);\n",
       "            observer.disconnect();\n",
       "        }}\n",
       "}});\n",
       "\n",
       "// Listen for the removal of the full notebook cells\n",
       "var notebookContainer = gd.closest('#notebook-container');\n",
       "if (notebookContainer) {{\n",
       "    x.observe(notebookContainer, {childList: true});\n",
       "}}\n",
       "\n",
       "// Listen for the clearing of the current output cell\n",
       "var outputEl = gd.closest('.output');\n",
       "if (outputEl) {{\n",
       "    x.observe(outputEl, {childList: true});\n",
       "}}\n",
       "\n",
       "                        })                };                });            </script>        </div>"
      ]
     },
     "metadata": {},
     "output_type": "display_data"
    }
   ],
   "source": [
    "# Import plotly\n",
    "import plotly.express as px\n",
    "import plotly.graph_objects as go\n",
    "import plotly.io as pio\n",
    "import warnings\n",
    "warnings.filterwarnings(\"ignore\")\n",
    "\n",
    "\n",
    "fig = px.imshow(data_image.values[0:10].reshape(10, 28, 28), binary_string=True, facet_col=0, facet_col_wrap=5)\n",
    "fig.show()"
   ]
  },
  {
   "cell_type": "markdown",
   "id": "308b55cf",
   "metadata": {},
   "source": [
    "### Using train_test_split from sklearn to split the dataset into a train and a test set."
   ]
  },
  {
   "cell_type": "code",
   "execution_count": 11,
   "id": "b112c9a8",
   "metadata": {},
   "outputs": [
    {
     "data": {
      "text/html": [
       "<div>\n",
       "<style scoped>\n",
       "    .dataframe tbody tr th:only-of-type {\n",
       "        vertical-align: middle;\n",
       "    }\n",
       "\n",
       "    .dataframe tbody tr th {\n",
       "        vertical-align: top;\n",
       "    }\n",
       "\n",
       "    .dataframe thead th {\n",
       "        text-align: right;\n",
       "    }\n",
       "</style>\n",
       "<table border=\"1\" class=\"dataframe\">\n",
       "  <thead>\n",
       "    <tr style=\"text-align: right;\">\n",
       "      <th></th>\n",
       "      <th>pixel0</th>\n",
       "      <th>pixel1</th>\n",
       "      <th>pixel2</th>\n",
       "      <th>pixel3</th>\n",
       "      <th>pixel4</th>\n",
       "      <th>pixel5</th>\n",
       "      <th>pixel6</th>\n",
       "      <th>pixel7</th>\n",
       "      <th>pixel8</th>\n",
       "      <th>pixel9</th>\n",
       "      <th>...</th>\n",
       "      <th>pixel774</th>\n",
       "      <th>pixel775</th>\n",
       "      <th>pixel776</th>\n",
       "      <th>pixel777</th>\n",
       "      <th>pixel778</th>\n",
       "      <th>pixel779</th>\n",
       "      <th>pixel780</th>\n",
       "      <th>pixel781</th>\n",
       "      <th>pixel782</th>\n",
       "      <th>pixel783</th>\n",
       "    </tr>\n",
       "  </thead>\n",
       "  <tbody>\n",
       "    <tr>\n",
       "      <th>5837</th>\n",
       "      <td>24.289180</td>\n",
       "      <td>45.983646</td>\n",
       "      <td>256.352134</td>\n",
       "      <td>-26.261889</td>\n",
       "      <td>11.683430</td>\n",
       "      <td>-205.429795</td>\n",
       "      <td>-137.313894</td>\n",
       "      <td>29.045135</td>\n",
       "      <td>95.337022</td>\n",
       "      <td>-90.620796</td>\n",
       "      <td>...</td>\n",
       "      <td>13.850705</td>\n",
       "      <td>50.352009</td>\n",
       "      <td>-28.988928</td>\n",
       "      <td>57.604085</td>\n",
       "      <td>36.024349</td>\n",
       "      <td>15.966126</td>\n",
       "      <td>9.261994</td>\n",
       "      <td>126.795466</td>\n",
       "      <td>-181.947605</td>\n",
       "      <td>-103.029471</td>\n",
       "    </tr>\n",
       "    <tr>\n",
       "      <th>26919</th>\n",
       "      <td>100.230434</td>\n",
       "      <td>44.166899</td>\n",
       "      <td>186.224206</td>\n",
       "      <td>307.291983</td>\n",
       "      <td>-266.608791</td>\n",
       "      <td>174.360175</td>\n",
       "      <td>-134.828176</td>\n",
       "      <td>215.091557</td>\n",
       "      <td>-205.003950</td>\n",
       "      <td>181.104424</td>\n",
       "      <td>...</td>\n",
       "      <td>143.917566</td>\n",
       "      <td>-33.805104</td>\n",
       "      <td>2.545959</td>\n",
       "      <td>-60.373496</td>\n",
       "      <td>65.902161</td>\n",
       "      <td>-185.317670</td>\n",
       "      <td>156.806654</td>\n",
       "      <td>-9.674685</td>\n",
       "      <td>-117.225176</td>\n",
       "      <td>47.191232</td>\n",
       "    </tr>\n",
       "    <tr>\n",
       "      <th>15177</th>\n",
       "      <td>-47.699431</td>\n",
       "      <td>-167.740414</td>\n",
       "      <td>238.069692</td>\n",
       "      <td>-98.327298</td>\n",
       "      <td>-224.500853</td>\n",
       "      <td>67.918157</td>\n",
       "      <td>1.317024</td>\n",
       "      <td>52.201427</td>\n",
       "      <td>117.235908</td>\n",
       "      <td>13.082838</td>\n",
       "      <td>...</td>\n",
       "      <td>62.499730</td>\n",
       "      <td>-78.223355</td>\n",
       "      <td>187.178508</td>\n",
       "      <td>-149.544457</td>\n",
       "      <td>186.401464</td>\n",
       "      <td>-55.541073</td>\n",
       "      <td>103.616753</td>\n",
       "      <td>318.404856</td>\n",
       "      <td>-229.352298</td>\n",
       "      <td>-34.503929</td>\n",
       "    </tr>\n",
       "    <tr>\n",
       "      <th>14046</th>\n",
       "      <td>-11.944284</td>\n",
       "      <td>-209.514843</td>\n",
       "      <td>113.523511</td>\n",
       "      <td>-5.111774</td>\n",
       "      <td>182.322677</td>\n",
       "      <td>73.826136</td>\n",
       "      <td>-77.099973</td>\n",
       "      <td>102.352925</td>\n",
       "      <td>60.394222</td>\n",
       "      <td>149.039467</td>\n",
       "      <td>...</td>\n",
       "      <td>-174.471094</td>\n",
       "      <td>42.355302</td>\n",
       "      <td>91.010817</td>\n",
       "      <td>-54.704095</td>\n",
       "      <td>-90.580398</td>\n",
       "      <td>81.801558</td>\n",
       "      <td>16.496764</td>\n",
       "      <td>-49.476950</td>\n",
       "      <td>253.968096</td>\n",
       "      <td>61.867205</td>\n",
       "    </tr>\n",
       "    <tr>\n",
       "      <th>22315</th>\n",
       "      <td>-85.086368</td>\n",
       "      <td>-133.186743</td>\n",
       "      <td>142.284695</td>\n",
       "      <td>-189.976676</td>\n",
       "      <td>-278.072652</td>\n",
       "      <td>130.695004</td>\n",
       "      <td>91.594462</td>\n",
       "      <td>33.159837</td>\n",
       "      <td>124.973469</td>\n",
       "      <td>-269.550718</td>\n",
       "      <td>...</td>\n",
       "      <td>23.206283</td>\n",
       "      <td>-227.845723</td>\n",
       "      <td>-64.189901</td>\n",
       "      <td>-132.225714</td>\n",
       "      <td>-126.693863</td>\n",
       "      <td>-76.637899</td>\n",
       "      <td>32.982080</td>\n",
       "      <td>-144.533851</td>\n",
       "      <td>116.305279</td>\n",
       "      <td>-75.537392</td>\n",
       "    </tr>\n",
       "  </tbody>\n",
       "</table>\n",
       "<p>5 rows × 784 columns</p>\n",
       "</div>"
      ],
      "text/plain": [
       "           pixel0      pixel1      pixel2      pixel3      pixel4      pixel5  \\\n",
       "5837    24.289180   45.983646  256.352134  -26.261889   11.683430 -205.429795   \n",
       "26919  100.230434   44.166899  186.224206  307.291983 -266.608791  174.360175   \n",
       "15177  -47.699431 -167.740414  238.069692  -98.327298 -224.500853   67.918157   \n",
       "14046  -11.944284 -209.514843  113.523511   -5.111774  182.322677   73.826136   \n",
       "22315  -85.086368 -133.186743  142.284695 -189.976676 -278.072652  130.695004   \n",
       "\n",
       "           pixel6      pixel7      pixel8      pixel9  ...    pixel774  \\\n",
       "5837  -137.313894   29.045135   95.337022  -90.620796  ...   13.850705   \n",
       "26919 -134.828176  215.091557 -205.003950  181.104424  ...  143.917566   \n",
       "15177    1.317024   52.201427  117.235908   13.082838  ...   62.499730   \n",
       "14046  -77.099973  102.352925   60.394222  149.039467  ... -174.471094   \n",
       "22315   91.594462   33.159837  124.973469 -269.550718  ...   23.206283   \n",
       "\n",
       "         pixel775    pixel776    pixel777    pixel778    pixel779    pixel780  \\\n",
       "5837    50.352009  -28.988928   57.604085   36.024349   15.966126    9.261994   \n",
       "26919  -33.805104    2.545959  -60.373496   65.902161 -185.317670  156.806654   \n",
       "15177  -78.223355  187.178508 -149.544457  186.401464  -55.541073  103.616753   \n",
       "14046   42.355302   91.010817  -54.704095  -90.580398   81.801558   16.496764   \n",
       "22315 -227.845723  -64.189901 -132.225714 -126.693863  -76.637899   32.982080   \n",
       "\n",
       "         pixel781    pixel782    pixel783  \n",
       "5837   126.795466 -181.947605 -103.029471  \n",
       "26919   -9.674685 -117.225176   47.191232  \n",
       "15177  318.404856 -229.352298  -34.503929  \n",
       "14046  -49.476950  253.968096   61.867205  \n",
       "22315 -144.533851  116.305279  -75.537392  \n",
       "\n",
       "[5 rows x 784 columns]"
      ]
     },
     "execution_count": 11,
     "metadata": {},
     "output_type": "execute_result"
    }
   ],
   "source": [
    "from sklearn.model_selection import train_test_split\n",
    "X_train, X_test, y_train, y_test = train_test_split(data_image, data_labels, random_state=0)\n",
    "X_train.head()\n"
   ]
  },
  {
   "cell_type": "markdown",
   "id": "20ba2e79",
   "metadata": {},
   "source": [
    "### Normalizing the dataset"
   ]
  },
  {
   "cell_type": "code",
   "execution_count": 12,
   "id": "aa15ab89",
   "metadata": {},
   "outputs": [],
   "source": [
    "from sklearn.preprocessing import StandardScaler\n",
    "sc = StandardScaler()\n",
    "X_sc_train = sc.fit_transform(X_train)\n",
    "X_sc_test = sc.transform(X_test)"
   ]
  },
  {
   "cell_type": "markdown",
   "id": "33f4d7c8",
   "metadata": {},
   "source": [
    "### Training SVM model to classify the images "
   ]
  },
  {
   "cell_type": "code",
   "execution_count": 14,
   "id": "b5bbc3d5",
   "metadata": {},
   "outputs": [
    {
     "name": "stdout",
     "output_type": "stream",
     "text": [
      "[LibSVM]"
     ]
    },
    {
     "data": {
      "text/plain": [
       "0.886"
      ]
     },
     "metadata": {},
     "output_type": "display_data"
    }
   ],
   "source": [
    "from sklearn.svm import SVC\n",
    "svc = SVC(random_state=0, verbose=True)\n",
    "svc.fit(X_sc_train, y_train)\n",
    "display(svc.score(X_sc_test, y_test))"
   ]
  },
  {
   "cell_type": "markdown",
   "id": "6bd9df1c",
   "metadata": {},
   "source": [
    "### Using PCA for noise cancellation"
   ]
  },
  {
   "cell_type": "code",
   "execution_count": 20,
   "id": "8e56d034",
   "metadata": {},
   "outputs": [
    {
     "data": {
      "text/plain": [
       "array([[-5.96208316, -0.42351373,  0.44470052,  0.57060786,  2.95242258,\n",
       "        -1.17188072,  1.05069839, -0.13964367, -1.40303368, -2.92619999,\n",
       "         0.38387206,  1.57951042, -0.54456549],\n",
       "       [ 0.56433535, -1.22875461,  1.80909413, -2.79629372, -4.66531164,\n",
       "         0.60056317, -1.57775989, -2.22058894, -0.82044612, -0.44829183,\n",
       "         0.40847823, -1.15397558,  2.00880282],\n",
       "       [-2.74876075,  0.57114036, -3.51933441, -1.01876267,  0.62326501,\n",
       "         0.82822044, -0.02896527, -0.4580741 , -0.16667535,  4.56519067,\n",
       "         0.75325915,  0.89821879, -0.92016151],\n",
       "       [-2.35736473, -0.12577577, -1.94688851,  1.68370608, -4.65432857,\n",
       "         5.51621668, -1.15504779,  1.41742162, -3.18671343,  2.80454839,\n",
       "         0.6841405 ,  0.05205339,  0.63961574],\n",
       "       [ 0.20698548, -4.81274701,  2.90348343,  4.22852925, -1.93502761,\n",
       "         0.08684097,  0.63637024,  1.34539204,  1.92582796,  0.39527086,\n",
       "        -1.84302689, -0.26067534, -3.43039347]])"
      ]
     },
     "execution_count": 20,
     "metadata": {},
     "output_type": "execute_result"
    }
   ],
   "source": [
    "from sklearn.decomposition import PCA\n",
    "# Create a PCA instance with a 10% variance explained threshold\n",
    "#The specified threshold of 10% means that I want to \n",
    "#retain principal components that collectively explain at least 10% of the total variance in the data.\n",
    "pca = PCA(.10)\n",
    "X_pca_train = pca.fit_transform(X_sc_train)\n",
    "X_pca_train[:5]"
   ]
  },
  {
   "cell_type": "code",
   "execution_count": 22,
   "id": "73a0a4eb",
   "metadata": {},
   "outputs": [
    {
     "data": {
      "text/plain": [
       "array([[ 1.54039724e-03, -3.31317209e-03, -4.98705214e-04, ...,\n",
       "         1.21203415e-03,  2.40823504e-03,  7.25021860e-04],\n",
       "       [ 6.24699075e-04, -5.20911580e-05,  1.81778520e-03, ...,\n",
       "        -4.96668200e-04, -2.79839328e-03, -9.68680298e-04],\n",
       "       [-3.50262657e-03, -2.92443273e-03, -1.44157432e-03, ...,\n",
       "         2.61295130e-03,  9.21444889e-04, -1.50150804e-03],\n",
       "       ...,\n",
       "       [ 2.03743060e-03, -1.54590444e-03, -5.55904307e-03, ...,\n",
       "         2.74908641e-04, -2.91461963e-03, -1.74995762e-04],\n",
       "       [-5.01122792e-03,  1.13915848e-02, -2.93677189e-03, ...,\n",
       "         1.05245721e-04,  1.73396751e-03,  1.73019206e-03],\n",
       "       [ 6.15303795e-03, -2.32066710e-03, -2.85760197e-03, ...,\n",
       "        -6.46224535e-03,  1.26188523e-03,  2.58934388e-03]])"
      ]
     },
     "execution_count": 22,
     "metadata": {},
     "output_type": "execute_result"
    }
   ],
   "source": [
    "pca.components_"
   ]
  },
  {
   "cell_type": "code",
   "execution_count": 21,
   "id": "65384c51",
   "metadata": {},
   "outputs": [
    {
     "data": {
      "text/plain": [
       "13"
      ]
     },
     "execution_count": 21,
     "metadata": {},
     "output_type": "execute_result"
    }
   ],
   "source": [
    "pca.n_components_"
   ]
  },
  {
   "cell_type": "code",
   "execution_count": 23,
   "id": "1a3183c1",
   "metadata": {},
   "outputs": [
    {
     "data": {
      "text/plain": [
       "array([[ 2.6491316 , -0.75974154,  7.93754891, ...,  1.64721785,\n",
       "         1.8857297 , -1.97130382],\n",
       "       [-1.55785053,  3.56492638, -1.64061527, ..., -3.02679   ,\n",
       "        -1.97377365,  1.36121021],\n",
       "       [-3.06767872,  5.21224128, -1.97658852, ..., -2.18662984,\n",
       "         1.31071074,  1.54193635],\n",
       "       ...,\n",
       "       [-1.71394589,  2.19339732,  3.36030249, ..., -0.34881392,\n",
       "         0.04000389,  0.32146327],\n",
       "       [11.29534561, -0.64661267,  2.9625681 , ..., -1.59349459,\n",
       "         0.74569828,  0.71080007],\n",
       "       [ 3.58384581,  3.95782724,  6.30025409, ...,  3.87922446,\n",
       "         0.85645358,  1.47063532]])"
      ]
     },
     "execution_count": 23,
     "metadata": {},
     "output_type": "execute_result"
    }
   ],
   "source": [
    "X_pca_test = pca.transform(X_sc_test)\n",
    "X_pca_test"
   ]
  },
  {
   "cell_type": "code",
   "execution_count": 24,
   "id": "c0e55685",
   "metadata": {},
   "outputs": [
    {
     "data": {
      "application/vnd.plotly.v1+json": {
       "config": {
        "plotlyServerURL": "https://plot.ly"
       },
       "data": [
        {
         "hovertemplate": "x: %{x}<br>y: %{y}<extra></extra>",
         "name": "0",
         "source": "data:image/png;base64,iVBORw0KGgoAAAANSUhEUgAAABwAAAAcCAAAAABXZoBIAAAB50lEQVR4XgXBW3IcOQwEwCoAbPY8FPaHYy+7R1ZsSLI0PdMkUdhM/nuZmGZVTplUbRnLCqDK7Cl2gBsFymIFqhKlCpp7sBp9ZuCBQU5mwcFtmpEctlDhWU2cE8tlyTyhUFqUDbdE0SvXUPNjsyhWlE+szaZyJlvT41F+2UKOYDgEjMnznDN+ucbneVm3aJtJcW6iKpbVhG1vebqO6CsEMXpu06q8imn97ng8xxIcpMXksmItzEO73bbz2taZLMgQYTVZM4+/R157SyWelDUQGcPMFuv4+vxpgObxPHJNp8Fk4e6uPP9+Hqh1vt7fH6+p0QxCOKQlm8+DVnp+fz6/s8NGH2amTIrneK52Ka0EY7zGSdEqRHgIy/br1lv3f86fxxrM9MlQq0UGd7/f9na18Xr/CIOHoNgXkWa3b156Q7ut/6y33T2THqfJje7dDRi29Ym4bXsiqqxZ0FDRzeY5VcfPuNxuCAGMQiJzCvpq9SePjy/u94urL1lUAZ5SrecRr6FH9sttsyV5hmgUWeIyYp55rX33DBMRnpZp2Paz97fd0O6xXblVRraQs9naC3zrv+/A5dcVGygCFaxkNl3D43p/a2frZBCota0QXTED3iswzqFQKdJkk2GzUU3GZTUStehyuVmt+B+4PlypD0S38AAAAABJRU5ErkJggg==",
         "type": "image",
         "xaxis": "x6",
         "yaxis": "y6"
        },
        {
         "hovertemplate": "x: %{x}<br>y: %{y}<extra></extra>",
         "name": "1",
         "source": "data:image/png;base64,iVBORw0KGgoAAAANSUhEUgAAABwAAAAcCAAAAABXZoBIAAACH0lEQVR4XgXB3W4cRRAG0Prr7pkdex1wELaRFVDyoDwjFyAuQEFRJFjFmKzXuzPdVfVxDv88VAFOVg+I8mBhSkkBmWSFd4JEJCsRihCnJCQwhAlZLMEhImycTMFJzFXIgrik0waKKAqrPb05aZdgA7FnjfSxWpY2W00fLUORswkZj+G+5dX17X6ZJLd8eTkD0dw4Idyj03L//qHhErydImOFQ43Nc8Ax3X14f/X18xNUt9O590RhowR5RJabb/KvX39/tdsFqw8mNjIQBWNja/7pt18+2uPN6OeByvtBBoCRZFWPXz4d6PuH+zhig1aHGUS9blRabuf6qA8/lq/P3QEmgzHCtqAcA8u7x+ntm9NhDY4+6VBjIIjd++lm97bUJb9cwgbn6EKmXYmctrXH9Kax/HfK2Zk8OdVi2ph88zrvQL4d/33ZRW5RlJSMu2XmSpcL8Xp5OvR6vXROJ+Yw16GMEMzV+uHPf3bvZlFliCYJU+Gwqq00P37+44BlvyvAXFzYlDhrmbPK1g8fn5Zv79uxo0m2UAsOkZmxt3N/PrUfPtxu3nMqMjRMggRXi7Q28XRnP92V54EmVZnJWBlSrV3v5nW+0+/a6/FFahMgxEbNkilt3s/T9Mr0vJ2SJw4pAdOgLthkrOAYLpQrKYPDiEy5F6zS4+8xnHSeVF1CSkLdkjlTEolBAlAO0VEyxBUWSqm9kOAKNJq7BHFCk7j8Dy/Cd/9a2S+oAAAAAElFTkSuQmCC",
         "type": "image",
         "xaxis": "x7",
         "yaxis": "y7"
        },
        {
         "hovertemplate": "x: %{x}<br>y: %{y}<extra></extra>",
         "name": "2",
         "source": "data:image/png;base64,iVBORw0KGgoAAAANSUhEUgAAABwAAAAcCAAAAABXZoBIAAACKElEQVR4XgXB2XITORQA0LtJtrrbS0JCsTzAE585/wkUVTwwU5Vhgh077m5Jd5lz8C9WIjfxLgnQyNCBjAKNnVA5HNmZsHeLDk4IpGgcQEYaVtEUI7Nph1C1IIEOIRgBmD0ZQWug0ZDFEDQrh2BwkBNCRG1LVUo5DRtCZ3ABxECiJO06z6siB2+lIFg3EWzMmAJc59+zljLJfthus91AXKSlAON+ff79ysfjEHl4W8iW5D2kJ6XApb48zdO7x6mdGpad3hxNWYgaOLT5YnefPhf993Xdm/R6A2cUMASsNvfj+y/TOp//CI6+nlZmDRIiA1TdPnza1+enP7p7k/vl+jL3DtLAMFBp+vBAl+srvPl4T9fLq3sdXVgFXD0fD7khjePhPp0vlw66U5TGdePmm7L1lkrJhc7LTTESpC4UGwiTBLPaIqXU05U1nMgRhN1Iu3I7wYKHXTr/cx42zozhIO7A1NXx5jqND+vz1/Vxt01CpCJENQxartF5eNz/9/0Hp4ExKacg6wyAyXu3cry7ffv21CHnAjk8JDVg3ka0kGFff33926f7w0DuQi41gaOMVSg9DtefT/n48f0+uYq1LOQONNYR8/R287ykd8cPhyQVjBIIAzrhneS7cVeR9pv9hOZKTp3F2QBEh93hnnSlkrIqEaJ0CqEuAa0s+WJ2eulj2yY3RBWMLMpKxOqwvNjaR0YqLpox2Ewk2IPM6wzBwTs2BpBuGcX+B/PDZ3mo5OOdAAAAAElFTkSuQmCC",
         "type": "image",
         "xaxis": "x8",
         "yaxis": "y8"
        },
        {
         "hovertemplate": "x: %{x}<br>y: %{y}<extra></extra>",
         "name": "3",
         "source": "data:image/png;base64,iVBORw0KGgoAAAANSUhEUgAAABwAAAAcCAAAAABXZoBIAAACQUlEQVR4XgXBWW9bRRgA0G+bmbt4SWwqUBFIVKgVDzzxC/mHCCTEAwpqE1IaS5aX2L5z51s4B38FLW5sBpiVQ4GwDRcJmRkITWZlJyBUAIwUmubBJEBUHE3ZXBNEFwYJEa01UHBIYjR30II8BUmyMl00CMOTqElE11hYOUnXY+NwwEboLi4iAcUiJHcpl1bD+o799hrckMSNITBH6XuYd/vrerORC0o1yy4JGS21gaD588Pn2/bH1V26hgMBSMNopKQwx/7Lw5Me3tDC8NwKhkqQeshUQ3X/ebenNb/Z6DzVzEDiAWjaLtbq5fway28/fPf1cd5B2QDK6NZyPd3ajBqrcfv+p3d63R/zFEpSDdwv9WiJRxj57c8fFs//Ha7OwSQBWGablGSZt2384Zft4ePLUWNid0ktPLRy99V6GHHxbnvafXq5ABckkzk18mq4fnv/zYCLdX35958rUd/NvYnMDHVqi/X996sxZ9g/fdwdW58IZheF1ncRxMMwjswvjw/7s+W07KSJMDUMEYqqLez4+Ndzs77wOgWTVE5TuWMMOzP6429/t64sSpFs2KSYjbjCkOteL8ff/zgsh/Uip7AwFwP1vFlM5PPr4dOfT7BZ3ufeLGbLwi4VlrICSrr7coLl3aLPgDQRumiO4NtSSqctpXUaVp3VaNRKmECDqHxaJRluq9Vm6DO6EjlWL5IMJKb+HC3dTjj2wD6zOSUIEDOkucyqRbXRyJ5YDLOGehFnr6lR86tw4KIWAQCqvYrU/wEz5neYeclsKAAAAABJRU5ErkJggg==",
         "type": "image",
         "xaxis": "x9",
         "yaxis": "y9"
        },
        {
         "hovertemplate": "x: %{x}<br>y: %{y}<extra></extra>",
         "name": "4",
         "source": "data:image/png;base64,iVBORw0KGgoAAAANSUhEUgAAABwAAAAcCAAAAABXZoBIAAACO0lEQVR4XgXB227UVhQA0H07PrYnY48zBGhSKRVv/CPfiYRQX1qoCCHNXG2fy96btfATYoWY2ySuQRViVXZUIACTxlCgYmYgUSSoQA5EqAZRLLdQK1uDqwARAmooWBgIXCxqaYg5Yh+JvLiaKVNmRBCyKiRyczONHdO6pNN5peRBkRZR9oLNzfZ+mJo5lbT6/HTUNkSgIGyNaTtMQ3h9en5JfUvnw/fU3w2juTg6tZDSf8dvX57W4f1fO5nPFx8hhyqG5gg+z18//1juYmi3vK0pWSOC4rUptaT1+9d/8P3j4/3D8BqEArkCCUn1ivPx5//tnx8fp2EP69nHjghIhSqKFV3qOHz8cLvtmsOPpQ3bVsBQgH1u5ZjDu8eHvUA9fnu1KQ4CpCxZZGOr8u30Rz9z4tPzMkjPTTRyIWRlxZtxv9Nc8DKfYNyRsqGBtGtRdb97u5cll8vLMY/bjVQ19SKZjUymt/e3OVzOl2UR63ai5aDsggSaZbh9aNZZS0rkG+k7na8LoaCbhdwPfZ9jXpSbELdjW89RrkEMlBYywKYLgUOkZv/uTg6h1j6LY2NI5+MBhZWC8/RmCnW+Zi4sZLRytn99hcNcuY/jrpzn55RdqyhlVroul78xl8qbEMqhXE7ZIKCws7W+vPw8kcVhiPp6Rc9uWrpFqIIhbsuvrKkPjSsECoDsbEFWhla57LqpQAyRjZSUNDVcUGKBRCBdG0EjCOSNr50xGcciEMiNiGDMXAUlKjXmSApmvwEPe16gLMOXIwAAAABJRU5ErkJggg==",
         "type": "image",
         "xaxis": "x10",
         "yaxis": "y10"
        },
        {
         "hovertemplate": "x: %{x}<br>y: %{y}<extra></extra>",
         "name": "5",
         "source": "data:image/png;base64,iVBORw0KGgoAAAANSUhEUgAAABwAAAAcCAAAAABXZoBIAAACG0lEQVR4XgXBSXLTQBQA0D+2JDs2wQlQFFmxobgmF2UThhCGeJLU3X/gPfyyaDIaBwQDACW6SRfEyEIwYUYi1iQO0h4NC5fgIGjkHIAW6wTex7TM4pLkgUthcutkDOKRdu2zUY4uMIJMgcLIAFDcol/9Useb7U64mLkTiUHxaSVkoHJejnk/wShUkymcKAFMCwyqaGuzLPsBm0B0AGKDMnAoqGBiBChL1I7GSeQlIJVJMGS30YzcjNlezmCSIoAJki6qha5/AKcdr797jFxJOjBoDogaaq1FmabNGdehqZCINExJnhTp+bpo2R+SsdqEngIVvHQuN/taY0Hc30+gJksdHMSYCTro7WE946bfPtzenShrgeIu7IkafXN4e3l5+LPdvT2MdRoHFzeQ1My5b7HsylqfnwQzARmTY1elVJ/cLsvpGGm05stpW89GGj6zzDQ1W/Dn3uvp8cdT/vomx8tKIJpdimPA7MPXn3x8+vaIhw+lnYhGMmFpslig//NX/fr04/vwctxdXEeQTiiMpaxj9Nno+Pvx+ZYIBqUBQgkksXNoce+x/r3C68PdtnZHNHYWzAglgA7M47s3nz+9u1l8sQbkIqFI4Jvo2OHhnj6+31BfyAibNtEVgRRYxMd94zu95HE2igQACZg6NkWKunQb26+Jzi2aEDYR9nmIwbOplaAxTj3TlgLUEMRKODZKdoGJIHFO7uyUwPkfvClktE51NzQAAAAASUVORK5CYII=",
         "type": "image",
         "xaxis": "x",
         "yaxis": "y"
        },
        {
         "hovertemplate": "x: %{x}<br>y: %{y}<extra></extra>",
         "name": "6",
         "source": "data:image/png;base64,iVBORw0KGgoAAAANSUhEUgAAABwAAAAcCAAAAABXZoBIAAACM0lEQVR4XgXB2VJTQRAA0N5m7iQ3JAhBC9DS0h/1U31AxVRCNu4yS3d7Dv6sobFLYWxsKFhDbYyMJQLRnBq5GjcEgKpWCxE1bAy5SN/IKJpxxSu1WtmrBHRsHGdRIABFb6VNVtQ32IkCUijUCUATA2h1zEPVbrO9XyG+TzM4ghiKUvXpcimjL9P66dMdD6c9TsFAtCtgOp3Pp9lTWG8wdSFBK7E5CBfEWto4Vkq3j+ueR78xplTRWUCwBp8ZUto+f1wbnksOauiGKqLOYiJr/PD0dUPjrDvukjlKJalMzhBW2D9+ve+yjsd32vQdamERR/OZAoX+tu91vOz216UTz+qeBStHNeObPoY8nP68HOt2U3IDMBUUbdokkvgJD/9+7eCh91ykIooYmlNqUIYC47/dn/Dt0wasNurYxI0ZCa0e8/V4eCs/Hr+Ht332FCgIktebAHk+HqfDfljdf34eX8eBEhAQtQSwXnYwXK6T8f3j51SHtyk7eRW0AsuV6YF8NglPX27y68s5LhTYhEPtOAF8uHvPZbn98Qz73/tCMepMUima03YmXvw98pfv6+Flp7zsonUksQGVYfvx9u75dWcPD3V/qCluO4+oUkWxvL+Fzfru6TCTX/YlrtJywUZRMAcYSfXalwblWqa65EUnFDOreDclPU+nhedWGrpYgMLELZqLt1ARcjmbuvZBJEBFYsQCJECA6EomJCaCiBWkadcAQbgwEwADNWOeuYCiC07RdfEfsSVqWDO3JwYAAAAASUVORK5CYII=",
         "type": "image",
         "xaxis": "x2",
         "yaxis": "y2"
        },
        {
         "hovertemplate": "x: %{x}<br>y: %{y}<extra></extra>",
         "name": "7",
         "source": "data:image/png;base64,iVBORw0KGgoAAAANSUhEUgAAABwAAAAcCAAAAABXZoBIAAACNklEQVR4XgXBXW8TRxQA0Ps1O5O1N8aJcSAVCF4rVUi88tf4n32JKlUUQzBpQrze3Zm5cy/n4OeuYQNqYCzSKhKAMpJhwyY+CwVFAXM1IjRsBEoAjEUYwYy5okspOEesgshGUDEIGbh4Y8fqmnPWWBKRISKAOCGCxgZGyszn+ohxFROCgIljRUoWECfV6p5Hnh2JxRkEuApCF8GWUoT6Noc+aHLSYNI8mnRDxHkZ6npoDzvZYDH3sJCIUdel9dAswG43jLBaX+PT44QIKMDKnBKXU6aYfDq27Vb0nDlHl8rBvOTy88fCqPnucPWuQ3TPHblEaHhO43w4zjz2D/+c1oGnuVYyJTEPtZvw8XjM/dy+H1eXQz3eT0LQFRFrrAuO40nVTg/L21f+39dfJkEyiTdj68ZlLqWcnvPL99fT4csSh06jSwZiL9YweJ749uPHF4fDA0UwKijiFbV5G9p5Crs/P715+v9+7okDuhFjQiJPDGrp9sNfq/svvxqG5MU7ci/qAEJlmtL+j/j97n6S7YqU2amCMAohgHrc8Le/757i5dCJsFdJ1Q2sIbKn9cX049/Hi/1+QxALkVQ08YwWhr28Weuz7lbX2yijo7M0Rmhp5ni1uXp9059vet8EP4s6NklLV9ipgz7c3mxzumhmTcHJWpASLJh5vAz7Fz3WxhioMJXgBkJKFakLsQ9UfXILikAKRgxiBAEctRiOgvlZqDZuLAYqIoVQU4EFz+zkhSAwmimG1n4DTSFioK6Fn+YAAAAASUVORK5CYII=",
         "type": "image",
         "xaxis": "x3",
         "yaxis": "y3"
        },
        {
         "hovertemplate": "x: %{x}<br>y: %{y}<extra></extra>",
         "name": "8",
         "source": "data:image/png;base64,iVBORw0KGgoAAAANSUhEUgAAABwAAAAcCAAAAABXZoBIAAACaUlEQVR4XgXBS29TRxQA4DPnnHnce23HDjFNIEqpwoZFuqjYVP1x/DV2CFbdtKpUpYoUEjkxdgBzHzNzzky/z7xD8apNb7jCxHY0ltRFMFBYEIVzxkgGUIMV22CE6BmcMjFkJ4iRK0moJmgupJKaBF6Aq81BBxIiu2gt0m5/qGAVlJOyVjuSN2U+m18slyRPj5u0jQXR1MBhknZAIL+8+GntBlO71S7cDqUIAU9Asai34Wj9nO/vD2FWPfidlAaI2U2Q2mnWLsPw34fr6eLVC3VC0UlXWQczYN8Rl+0/Hz7eneZ1Mj0wSaOZtbJRnXL/+fHT+890tj5ZpSrgMlBlIOER0ze6+fvPjfv57R9X9a6WIs4Bc5N8bHo1X26uD2evr37/bfUwDBPMJyrKsQJkCYf99Xbx5u2bX8+G/WZP1bScHaomMl0dH/bmxdXlxVHe/LubqoMUTeFW3GSFY18XZ8/WHLd/3R4O7cwVLoXFDOjtNwnHs/NT0rvNXb/3tjZmqIYF5z/UdKmszi9fNqX/Ogpb8FkAKxPs5k3NfDS//OVlv/+ux+3CsBJhRS42NNRh5NPX5x6+uJMkUSbBpozEJoX0bOlrWD9flEIYmoGSOsm2ZC41d42dudnKl1GHTHWYRCElSYVdrFraLrRYv/b3DztJqrFFAEFmRFuevCUdh/3D7e1TYuauzI0UBR4pUdpM3VEZH+9vvk9lFmYaiSaPhQFQUz9ZUw/7bZ8w+LYxpgpoapnsj0YppZKMPVmqePSOtDKhj2xSl1MQW12kTsbjKhhiVycySJhMzC5B0eIWllZqFiGDyNyg1/8BadZ5MgwjjSMAAAAASUVORK5CYII=",
         "type": "image",
         "xaxis": "x4",
         "yaxis": "y4"
        },
        {
         "hovertemplate": "x: %{x}<br>y: %{y}<extra></extra>",
         "name": "9",
         "source": "data:image/png;base64,iVBORw0KGgoAAAANSUhEUgAAABwAAAAcCAAAAABXZoBIAAACAElEQVR4XgXB2W4TSRQA0Lt2tbtjbNZkpHkCib/khwkg48RxVd2Nc/AHUoQEA0eyg2AA2RIEbCyEzmxUmMUAAsZU7JgFkIJSQJoILlZiAgQoGFjiKOU0ECkJbCQkraVQJZmDUDBzSZoyx3zNmdLWrS1JQIElU9mkaM7bHAYafYx93TiRKaRBUJbF6D35vOXreEtgZKYBMjmRBnXzkvPjZvzrfn35fD4EUooCgHO3CXo6v1PcZFyHskiyShYiJsHS9OHUxJcDDN9PzuQkDOWU+OC6amtZZTU1UcvQ5a7FQc32g7Ca27AOSOzbUJcGwJSxtk0LOszrpfNxYZjQQYDByHXZdva+jLxZ031FWDqTRCAmJKluKZbZPuxj3xEcXIUx0UvAkbKqx/Hd7FY8a+GSpGDNuAfP/P36UufjvLyyHxYAEMo2J4H1G4+fL/a0bTaDpVwwJZISZ9kEuz1fjp8WmpEBVZAgCxjmNBvWL8/3h3MLC5TQQGKywhpp/X7983yp9x8OSapM2AhRIKsozMfb36s//v90jGUFQDQmk6Tig2mP8OXj92+PzU9gEcWEIgxMvkOFnU5fvj4di7SlZEhQCRaGFmFCO/z3RXtGpjhyMbpUCiRBs5RV3n7f4NY92QqqSpCcNRrj6k3j5QJkhpmSBCVVCk64aJAzdJkJiKFJHu0ftYtqDFebEOkAAAAASUVORK5CYII=",
         "type": "image",
         "xaxis": "x5",
         "yaxis": "y5"
        }
       ],
       "layout": {
        "annotations": [
         {
          "font": {},
          "showarrow": false,
          "text": "facet_col=5",
          "x": 0.09200000000000001,
          "xanchor": "center",
          "xref": "paper",
          "y": 0.46499999999999997,
          "yanchor": "bottom",
          "yref": "paper"
         },
         {
          "font": {},
          "showarrow": false,
          "text": "facet_col=6",
          "x": 0.29600000000000004,
          "xanchor": "center",
          "xref": "paper",
          "y": 0.46499999999999997,
          "yanchor": "bottom",
          "yref": "paper"
         },
         {
          "font": {},
          "showarrow": false,
          "text": "facet_col=7",
          "x": 0.5,
          "xanchor": "center",
          "xref": "paper",
          "y": 0.46499999999999997,
          "yanchor": "bottom",
          "yref": "paper"
         },
         {
          "font": {},
          "showarrow": false,
          "text": "facet_col=8",
          "x": 0.7040000000000002,
          "xanchor": "center",
          "xref": "paper",
          "y": 0.46499999999999997,
          "yanchor": "bottom",
          "yref": "paper"
         },
         {
          "font": {},
          "showarrow": false,
          "text": "facet_col=9",
          "x": 0.908,
          "xanchor": "center",
          "xref": "paper",
          "y": 0.46499999999999997,
          "yanchor": "bottom",
          "yref": "paper"
         },
         {
          "font": {},
          "showarrow": false,
          "text": "facet_col=0",
          "x": 0.09200000000000001,
          "xanchor": "center",
          "xref": "paper",
          "y": 0.9999999999999999,
          "yanchor": "bottom",
          "yref": "paper"
         },
         {
          "font": {},
          "showarrow": false,
          "text": "facet_col=1",
          "x": 0.29600000000000004,
          "xanchor": "center",
          "xref": "paper",
          "y": 0.9999999999999999,
          "yanchor": "bottom",
          "yref": "paper"
         },
         {
          "font": {},
          "showarrow": false,
          "text": "facet_col=2",
          "x": 0.5,
          "xanchor": "center",
          "xref": "paper",
          "y": 0.9999999999999999,
          "yanchor": "bottom",
          "yref": "paper"
         },
         {
          "font": {},
          "showarrow": false,
          "text": "facet_col=3",
          "x": 0.7040000000000002,
          "xanchor": "center",
          "xref": "paper",
          "y": 0.9999999999999999,
          "yanchor": "bottom",
          "yref": "paper"
         },
         {
          "font": {},
          "showarrow": false,
          "text": "facet_col=4",
          "x": 0.908,
          "xanchor": "center",
          "xref": "paper",
          "y": 0.9999999999999999,
          "yanchor": "bottom",
          "yref": "paper"
         }
        ],
        "margin": {
         "t": 60
        },
        "template": {
         "data": {
          "bar": [
           {
            "error_x": {
             "color": "#2a3f5f"
            },
            "error_y": {
             "color": "#2a3f5f"
            },
            "marker": {
             "line": {
              "color": "#E5ECF6",
              "width": 0.5
             },
             "pattern": {
              "fillmode": "overlay",
              "size": 10,
              "solidity": 0.2
             }
            },
            "type": "bar"
           }
          ],
          "barpolar": [
           {
            "marker": {
             "line": {
              "color": "#E5ECF6",
              "width": 0.5
             },
             "pattern": {
              "fillmode": "overlay",
              "size": 10,
              "solidity": 0.2
             }
            },
            "type": "barpolar"
           }
          ],
          "carpet": [
           {
            "aaxis": {
             "endlinecolor": "#2a3f5f",
             "gridcolor": "white",
             "linecolor": "white",
             "minorgridcolor": "white",
             "startlinecolor": "#2a3f5f"
            },
            "baxis": {
             "endlinecolor": "#2a3f5f",
             "gridcolor": "white",
             "linecolor": "white",
             "minorgridcolor": "white",
             "startlinecolor": "#2a3f5f"
            },
            "type": "carpet"
           }
          ],
          "choropleth": [
           {
            "colorbar": {
             "outlinewidth": 0,
             "ticks": ""
            },
            "type": "choropleth"
           }
          ],
          "contour": [
           {
            "colorbar": {
             "outlinewidth": 0,
             "ticks": ""
            },
            "colorscale": [
             [
              0,
              "#0d0887"
             ],
             [
              0.1111111111111111,
              "#46039f"
             ],
             [
              0.2222222222222222,
              "#7201a8"
             ],
             [
              0.3333333333333333,
              "#9c179e"
             ],
             [
              0.4444444444444444,
              "#bd3786"
             ],
             [
              0.5555555555555556,
              "#d8576b"
             ],
             [
              0.6666666666666666,
              "#ed7953"
             ],
             [
              0.7777777777777778,
              "#fb9f3a"
             ],
             [
              0.8888888888888888,
              "#fdca26"
             ],
             [
              1,
              "#f0f921"
             ]
            ],
            "type": "contour"
           }
          ],
          "contourcarpet": [
           {
            "colorbar": {
             "outlinewidth": 0,
             "ticks": ""
            },
            "type": "contourcarpet"
           }
          ],
          "heatmap": [
           {
            "colorbar": {
             "outlinewidth": 0,
             "ticks": ""
            },
            "colorscale": [
             [
              0,
              "#0d0887"
             ],
             [
              0.1111111111111111,
              "#46039f"
             ],
             [
              0.2222222222222222,
              "#7201a8"
             ],
             [
              0.3333333333333333,
              "#9c179e"
             ],
             [
              0.4444444444444444,
              "#bd3786"
             ],
             [
              0.5555555555555556,
              "#d8576b"
             ],
             [
              0.6666666666666666,
              "#ed7953"
             ],
             [
              0.7777777777777778,
              "#fb9f3a"
             ],
             [
              0.8888888888888888,
              "#fdca26"
             ],
             [
              1,
              "#f0f921"
             ]
            ],
            "type": "heatmap"
           }
          ],
          "heatmapgl": [
           {
            "colorbar": {
             "outlinewidth": 0,
             "ticks": ""
            },
            "colorscale": [
             [
              0,
              "#0d0887"
             ],
             [
              0.1111111111111111,
              "#46039f"
             ],
             [
              0.2222222222222222,
              "#7201a8"
             ],
             [
              0.3333333333333333,
              "#9c179e"
             ],
             [
              0.4444444444444444,
              "#bd3786"
             ],
             [
              0.5555555555555556,
              "#d8576b"
             ],
             [
              0.6666666666666666,
              "#ed7953"
             ],
             [
              0.7777777777777778,
              "#fb9f3a"
             ],
             [
              0.8888888888888888,
              "#fdca26"
             ],
             [
              1,
              "#f0f921"
             ]
            ],
            "type": "heatmapgl"
           }
          ],
          "histogram": [
           {
            "marker": {
             "pattern": {
              "fillmode": "overlay",
              "size": 10,
              "solidity": 0.2
             }
            },
            "type": "histogram"
           }
          ],
          "histogram2d": [
           {
            "colorbar": {
             "outlinewidth": 0,
             "ticks": ""
            },
            "colorscale": [
             [
              0,
              "#0d0887"
             ],
             [
              0.1111111111111111,
              "#46039f"
             ],
             [
              0.2222222222222222,
              "#7201a8"
             ],
             [
              0.3333333333333333,
              "#9c179e"
             ],
             [
              0.4444444444444444,
              "#bd3786"
             ],
             [
              0.5555555555555556,
              "#d8576b"
             ],
             [
              0.6666666666666666,
              "#ed7953"
             ],
             [
              0.7777777777777778,
              "#fb9f3a"
             ],
             [
              0.8888888888888888,
              "#fdca26"
             ],
             [
              1,
              "#f0f921"
             ]
            ],
            "type": "histogram2d"
           }
          ],
          "histogram2dcontour": [
           {
            "colorbar": {
             "outlinewidth": 0,
             "ticks": ""
            },
            "colorscale": [
             [
              0,
              "#0d0887"
             ],
             [
              0.1111111111111111,
              "#46039f"
             ],
             [
              0.2222222222222222,
              "#7201a8"
             ],
             [
              0.3333333333333333,
              "#9c179e"
             ],
             [
              0.4444444444444444,
              "#bd3786"
             ],
             [
              0.5555555555555556,
              "#d8576b"
             ],
             [
              0.6666666666666666,
              "#ed7953"
             ],
             [
              0.7777777777777778,
              "#fb9f3a"
             ],
             [
              0.8888888888888888,
              "#fdca26"
             ],
             [
              1,
              "#f0f921"
             ]
            ],
            "type": "histogram2dcontour"
           }
          ],
          "mesh3d": [
           {
            "colorbar": {
             "outlinewidth": 0,
             "ticks": ""
            },
            "type": "mesh3d"
           }
          ],
          "parcoords": [
           {
            "line": {
             "colorbar": {
              "outlinewidth": 0,
              "ticks": ""
             }
            },
            "type": "parcoords"
           }
          ],
          "pie": [
           {
            "automargin": true,
            "type": "pie"
           }
          ],
          "scatter": [
           {
            "fillpattern": {
             "fillmode": "overlay",
             "size": 10,
             "solidity": 0.2
            },
            "type": "scatter"
           }
          ],
          "scatter3d": [
           {
            "line": {
             "colorbar": {
              "outlinewidth": 0,
              "ticks": ""
             }
            },
            "marker": {
             "colorbar": {
              "outlinewidth": 0,
              "ticks": ""
             }
            },
            "type": "scatter3d"
           }
          ],
          "scattercarpet": [
           {
            "marker": {
             "colorbar": {
              "outlinewidth": 0,
              "ticks": ""
             }
            },
            "type": "scattercarpet"
           }
          ],
          "scattergeo": [
           {
            "marker": {
             "colorbar": {
              "outlinewidth": 0,
              "ticks": ""
             }
            },
            "type": "scattergeo"
           }
          ],
          "scattergl": [
           {
            "marker": {
             "colorbar": {
              "outlinewidth": 0,
              "ticks": ""
             }
            },
            "type": "scattergl"
           }
          ],
          "scattermapbox": [
           {
            "marker": {
             "colorbar": {
              "outlinewidth": 0,
              "ticks": ""
             }
            },
            "type": "scattermapbox"
           }
          ],
          "scatterpolar": [
           {
            "marker": {
             "colorbar": {
              "outlinewidth": 0,
              "ticks": ""
             }
            },
            "type": "scatterpolar"
           }
          ],
          "scatterpolargl": [
           {
            "marker": {
             "colorbar": {
              "outlinewidth": 0,
              "ticks": ""
             }
            },
            "type": "scatterpolargl"
           }
          ],
          "scatterternary": [
           {
            "marker": {
             "colorbar": {
              "outlinewidth": 0,
              "ticks": ""
             }
            },
            "type": "scatterternary"
           }
          ],
          "surface": [
           {
            "colorbar": {
             "outlinewidth": 0,
             "ticks": ""
            },
            "colorscale": [
             [
              0,
              "#0d0887"
             ],
             [
              0.1111111111111111,
              "#46039f"
             ],
             [
              0.2222222222222222,
              "#7201a8"
             ],
             [
              0.3333333333333333,
              "#9c179e"
             ],
             [
              0.4444444444444444,
              "#bd3786"
             ],
             [
              0.5555555555555556,
              "#d8576b"
             ],
             [
              0.6666666666666666,
              "#ed7953"
             ],
             [
              0.7777777777777778,
              "#fb9f3a"
             ],
             [
              0.8888888888888888,
              "#fdca26"
             ],
             [
              1,
              "#f0f921"
             ]
            ],
            "type": "surface"
           }
          ],
          "table": [
           {
            "cells": {
             "fill": {
              "color": "#EBF0F8"
             },
             "line": {
              "color": "white"
             }
            },
            "header": {
             "fill": {
              "color": "#C8D4E3"
             },
             "line": {
              "color": "white"
             }
            },
            "type": "table"
           }
          ]
         },
         "layout": {
          "annotationdefaults": {
           "arrowcolor": "#2a3f5f",
           "arrowhead": 0,
           "arrowwidth": 1
          },
          "autotypenumbers": "strict",
          "coloraxis": {
           "colorbar": {
            "outlinewidth": 0,
            "ticks": ""
           }
          },
          "colorscale": {
           "diverging": [
            [
             0,
             "#8e0152"
            ],
            [
             0.1,
             "#c51b7d"
            ],
            [
             0.2,
             "#de77ae"
            ],
            [
             0.3,
             "#f1b6da"
            ],
            [
             0.4,
             "#fde0ef"
            ],
            [
             0.5,
             "#f7f7f7"
            ],
            [
             0.6,
             "#e6f5d0"
            ],
            [
             0.7,
             "#b8e186"
            ],
            [
             0.8,
             "#7fbc41"
            ],
            [
             0.9,
             "#4d9221"
            ],
            [
             1,
             "#276419"
            ]
           ],
           "sequential": [
            [
             0,
             "#0d0887"
            ],
            [
             0.1111111111111111,
             "#46039f"
            ],
            [
             0.2222222222222222,
             "#7201a8"
            ],
            [
             0.3333333333333333,
             "#9c179e"
            ],
            [
             0.4444444444444444,
             "#bd3786"
            ],
            [
             0.5555555555555556,
             "#d8576b"
            ],
            [
             0.6666666666666666,
             "#ed7953"
            ],
            [
             0.7777777777777778,
             "#fb9f3a"
            ],
            [
             0.8888888888888888,
             "#fdca26"
            ],
            [
             1,
             "#f0f921"
            ]
           ],
           "sequentialminus": [
            [
             0,
             "#0d0887"
            ],
            [
             0.1111111111111111,
             "#46039f"
            ],
            [
             0.2222222222222222,
             "#7201a8"
            ],
            [
             0.3333333333333333,
             "#9c179e"
            ],
            [
             0.4444444444444444,
             "#bd3786"
            ],
            [
             0.5555555555555556,
             "#d8576b"
            ],
            [
             0.6666666666666666,
             "#ed7953"
            ],
            [
             0.7777777777777778,
             "#fb9f3a"
            ],
            [
             0.8888888888888888,
             "#fdca26"
            ],
            [
             1,
             "#f0f921"
            ]
           ]
          },
          "colorway": [
           "#636efa",
           "#EF553B",
           "#00cc96",
           "#ab63fa",
           "#FFA15A",
           "#19d3f3",
           "#FF6692",
           "#B6E880",
           "#FF97FF",
           "#FECB52"
          ],
          "font": {
           "color": "#2a3f5f"
          },
          "geo": {
           "bgcolor": "white",
           "lakecolor": "white",
           "landcolor": "#E5ECF6",
           "showlakes": true,
           "showland": true,
           "subunitcolor": "white"
          },
          "hoverlabel": {
           "align": "left"
          },
          "hovermode": "closest",
          "mapbox": {
           "style": "light"
          },
          "paper_bgcolor": "white",
          "plot_bgcolor": "#E5ECF6",
          "polar": {
           "angularaxis": {
            "gridcolor": "white",
            "linecolor": "white",
            "ticks": ""
           },
           "bgcolor": "#E5ECF6",
           "radialaxis": {
            "gridcolor": "white",
            "linecolor": "white",
            "ticks": ""
           }
          },
          "scene": {
           "xaxis": {
            "backgroundcolor": "#E5ECF6",
            "gridcolor": "white",
            "gridwidth": 2,
            "linecolor": "white",
            "showbackground": true,
            "ticks": "",
            "zerolinecolor": "white"
           },
           "yaxis": {
            "backgroundcolor": "#E5ECF6",
            "gridcolor": "white",
            "gridwidth": 2,
            "linecolor": "white",
            "showbackground": true,
            "ticks": "",
            "zerolinecolor": "white"
           },
           "zaxis": {
            "backgroundcolor": "#E5ECF6",
            "gridcolor": "white",
            "gridwidth": 2,
            "linecolor": "white",
            "showbackground": true,
            "ticks": "",
            "zerolinecolor": "white"
           }
          },
          "shapedefaults": {
           "line": {
            "color": "#2a3f5f"
           }
          },
          "ternary": {
           "aaxis": {
            "gridcolor": "white",
            "linecolor": "white",
            "ticks": ""
           },
           "baxis": {
            "gridcolor": "white",
            "linecolor": "white",
            "ticks": ""
           },
           "bgcolor": "#E5ECF6",
           "caxis": {
            "gridcolor": "white",
            "linecolor": "white",
            "ticks": ""
           }
          },
          "title": {
           "x": 0.05
          },
          "xaxis": {
           "automargin": true,
           "gridcolor": "white",
           "linecolor": "white",
           "ticks": "",
           "title": {
            "standoff": 15
           },
           "zerolinecolor": "white",
           "zerolinewidth": 2
          },
          "yaxis": {
           "automargin": true,
           "gridcolor": "white",
           "linecolor": "white",
           "ticks": "",
           "title": {
            "standoff": 15
           },
           "zerolinecolor": "white",
           "zerolinewidth": 2
          }
         }
        },
        "xaxis": {
         "anchor": "y",
         "domain": [
          0,
          0.18400000000000002
         ]
        },
        "xaxis10": {
         "anchor": "y10",
         "domain": [
          0.8160000000000001,
          1
         ],
         "matches": "x",
         "showticklabels": false
        },
        "xaxis2": {
         "anchor": "y2",
         "domain": [
          0.20400000000000001,
          0.388
         ],
         "matches": "x"
        },
        "xaxis3": {
         "anchor": "y3",
         "domain": [
          0.40800000000000003,
          0.5920000000000001
         ],
         "matches": "x"
        },
        "xaxis4": {
         "anchor": "y4",
         "domain": [
          0.6120000000000001,
          0.7960000000000002
         ],
         "matches": "x"
        },
        "xaxis5": {
         "anchor": "y5",
         "domain": [
          0.8160000000000001,
          1
         ],
         "matches": "x"
        },
        "xaxis6": {
         "anchor": "y6",
         "domain": [
          0,
          0.18400000000000002
         ],
         "matches": "x",
         "showticklabels": false
        },
        "xaxis7": {
         "anchor": "y7",
         "domain": [
          0.20400000000000001,
          0.388
         ],
         "matches": "x",
         "showticklabels": false
        },
        "xaxis8": {
         "anchor": "y8",
         "domain": [
          0.40800000000000003,
          0.5920000000000001
         ],
         "matches": "x",
         "showticklabels": false
        },
        "xaxis9": {
         "anchor": "y9",
         "domain": [
          0.6120000000000001,
          0.7960000000000002
         ],
         "matches": "x",
         "showticklabels": false
        },
        "yaxis": {
         "anchor": "x",
         "domain": [
          0,
          0.46499999999999997
         ]
        },
        "yaxis10": {
         "anchor": "x10",
         "domain": [
          0.5349999999999999,
          0.9999999999999999
         ],
         "matches": "y",
         "showticklabels": false
        },
        "yaxis2": {
         "anchor": "x2",
         "domain": [
          0,
          0.46499999999999997
         ],
         "matches": "y",
         "showticklabels": false
        },
        "yaxis3": {
         "anchor": "x3",
         "domain": [
          0,
          0.46499999999999997
         ],
         "matches": "y",
         "showticklabels": false
        },
        "yaxis4": {
         "anchor": "x4",
         "domain": [
          0,
          0.46499999999999997
         ],
         "matches": "y",
         "showticklabels": false
        },
        "yaxis5": {
         "anchor": "x5",
         "domain": [
          0,
          0.46499999999999997
         ],
         "matches": "y",
         "showticklabels": false
        },
        "yaxis6": {
         "anchor": "x6",
         "domain": [
          0.5349999999999999,
          0.9999999999999999
         ],
         "matches": "y"
        },
        "yaxis7": {
         "anchor": "x7",
         "domain": [
          0.5349999999999999,
          0.9999999999999999
         ],
         "matches": "y",
         "showticklabels": false
        },
        "yaxis8": {
         "anchor": "x8",
         "domain": [
          0.5349999999999999,
          0.9999999999999999
         ],
         "matches": "y",
         "showticklabels": false
        },
        "yaxis9": {
         "anchor": "x9",
         "domain": [
          0.5349999999999999,
          0.9999999999999999
         ],
         "matches": "y",
         "showticklabels": false
        }
       }
      },
      "text/html": [
       "<div>                            <div id=\"a99a00a2-194b-4389-be38-a69769c48ee2\" class=\"plotly-graph-div\" style=\"height:525px; width:100%;\"></div>            <script type=\"text/javascript\">                require([\"plotly\"], function(Plotly) {                    window.PLOTLYENV=window.PLOTLYENV || {};                                    if (document.getElementById(\"a99a00a2-194b-4389-be38-a69769c48ee2\")) {                    Plotly.newPlot(                        \"a99a00a2-194b-4389-be38-a69769c48ee2\",                        [{\"name\":\"0\",\"source\":\"data:image\\u002fpng;base64,iVBORw0KGgoAAAANSUhEUgAAABwAAAAcCAAAAABXZoBIAAAB50lEQVR4XgXBW3IcOQwEwCoAbPY8FPaHYy+7R1ZsSLI0PdMkUdhM\\u002fnuZmGZVTplUbRnLCqDK7Cl2gBsFymIFqhKlCpp7sBp9ZuCBQU5mwcFtmpEctlDhWU2cE8tlyTyhUFqUDbdE0SvXUPNjsyhWlE+szaZyJlvT41F+2UKOYDgEjMnznDN+ucbneVm3aJtJcW6iKpbVhG1vebqO6CsEMXpu06q8imn97ng8xxIcpMXksmItzEO73bbz2taZLMgQYTVZM4+\\u002fR157SyWelDUQGcPMFuv4+vxpgObxPHJNp8Fk4e6uPP9+Hqh1vt7fH6+p0QxCOKQlm8+DVnp+fz6\\u002fs8NGH2amTIrneK52Ka0EY7zGSdEqRHgIy\\u002fbr1lv3f86fxxrM9MlQq0UGd7\\u002ff9na18Xr\\u002fCIOHoNgXkWa3b156Q7ut\\u002f6y33T2THqfJje7dDRi29Ym4bXsiqqxZ0FDRzeY5VcfPuNxuCAGMQiJzCvpq9SePjy\\u002fu94urL1lUAZ5SrecRr6FH9sttsyV5hmgUWeIyYp55rX33DBMRnpZp2Paz97fd0O6xXblVRraQs9naC3zrv+\\u002fA5dcVGygCFaxkNl3D43p\\u002fa2frZBCota0QXTED3iswzqFQKdJkk2GzUU3GZTUStehyuVmt+B+4PlypD0S38AAAAABJRU5ErkJggg==\",\"type\":\"image\",\"xaxis\":\"x6\",\"yaxis\":\"y6\",\"hovertemplate\":\"x: %{x}\\u003cbr\\u003ey: %{y}\\u003cextra\\u003e\\u003c\\u002fextra\\u003e\"},{\"name\":\"1\",\"source\":\"data:image\\u002fpng;base64,iVBORw0KGgoAAAANSUhEUgAAABwAAAAcCAAAAABXZoBIAAACH0lEQVR4XgXB3W4cRRAG0Prr7pkdex1wELaRFVDyoDwjFyAuQEFRJFjFmKzXuzPdVfVxDv88VAFOVg+I8mBhSkkBmWSFd4JEJCsRihCnJCQwhAlZLMEhImycTMFJzFXIgrik0waKKAqrPb05aZdgA7FnjfSxWpY2W00fLUORswkZj+G+5dX17X6ZJLd8eTkD0dw4Idyj03L\\u002f\\u002fqHhErydImOFQ43Nc8Ax3X14f\\u002fX18xNUt9O590RhowR5RJabb\\u002fKvX39\\u002ftdsFqw8mNjIQBWNja\\u002f7pt18+2uPN6OeByvtBBoCRZFWPXz4d6PuH+zhig1aHGUS9blRabuf6qA8\\u002flq\\u002fP3QEmgzHCtqAcA8u7x+ntm9NhDY4+6VBjIIjd++lm97bUJb9cwgbn6EKmXYmctrXH9Kax\\u002fHfK2Zk8OdVi2ph88zrvQL4d\\u002f33ZRW5RlJSMu2XmSpcL8Xp5OvR6vXROJ+Yw16GMEMzV+uHPf3bvZlFliCYJU+Gwqq00P37+44BlvyvAXFzYlDhrmbPK1g8fn5Zv79uxo0m2UAsOkZmxt3N\\u002fPrUfPtxu3nMqMjRMggRXi7Q28XRnP92V54EmVZnJWBlSrV3v5nW+0+\\u002fa6\\u002fFFahMgxEbNkilt3s\\u002fT9Mr0vJ2SJw4pAdOgLthkrOAYLpQrKYPDiEy5F6zS4+8xnHSeVF1CSkLdkjlTEolBAlAO0VEyxBUWSqm9kOAKNJq7BHFCk7j8Dy\\u002fCd\\u002f9a2S+oAAAAAElFTkSuQmCC\",\"type\":\"image\",\"xaxis\":\"x7\",\"yaxis\":\"y7\",\"hovertemplate\":\"x: %{x}\\u003cbr\\u003ey: %{y}\\u003cextra\\u003e\\u003c\\u002fextra\\u003e\"},{\"name\":\"2\",\"source\":\"data:image\\u002fpng;base64,iVBORw0KGgoAAAANSUhEUgAAABwAAAAcCAAAAABXZoBIAAACKElEQVR4XgXB2XITORQA0LtJtrrbS0JCsTzAE585\\u002fwkUVTwwU5Vhgh077m5Jd5lz8C9WIjfxLgnQyNCBjAKNnVA5HNmZsHeLDk4IpGgcQEYaVtEUI7Nph1C1IIEOIRgBmD0ZQWug0ZDFEDQrh2BwkBNCRG1LVUo5DRtCZ3ABxECiJO06z6siB2+lIFg3EWzMmAJc59+zljLJfthus91AXKSlAON+ff79ysfjEHl4W8iW5D2kJ6XApb48zdO7x6mdGpad3hxNWYgaOLT5YnefPhf993Xdm\\u002fR6A2cUMASsNvfj+y\\u002fTOp\\u002f\\u002fCI6+nlZmDRIiA1TdPnza1+enP7p7k\\u002fvl+jL3DtLAMFBp+vBAl+srvPl4T9fLq3sdXVgFXD0fD7khjePhPp0vlw66U5TGdePmm7L1lkrJhc7LTTESpC4UGwiTBLPaIqXU05U1nMgRhN1Iu3I7wYKHXTr\\u002fcx42zozhIO7A1NXx5jqND+vz1\\u002fVxt01CpCJENQxartF5eNz\\u002f9\\u002f0Hp4ExKacg6wyAyXu3cry7ffv21CHnAjk8JDVg3ka0kGFff33926f7w0DuQi41gaOMVSg9DtefT\\u002fn48f0+uYq1LOQONNYR8\\u002fR287ykd8cPhyQVjBIIAzrhneS7cVeR9pv9hOZKTp3F2QBEh93hnnSlkrIqEaJ0CqEuAa0s+WJ2eulj2yY3RBWMLMpKxOqwvNjaR0YqLpox2Ewk2IPM6wzBwTs2BpBuGcX+B\\u002fPDZ3mo5OOdAAAAAElFTkSuQmCC\",\"type\":\"image\",\"xaxis\":\"x8\",\"yaxis\":\"y8\",\"hovertemplate\":\"x: %{x}\\u003cbr\\u003ey: %{y}\\u003cextra\\u003e\\u003c\\u002fextra\\u003e\"},{\"name\":\"3\",\"source\":\"data:image\\u002fpng;base64,iVBORw0KGgoAAAANSUhEUgAAABwAAAAcCAAAAABXZoBIAAACQUlEQVR4XgXBWW9bRRgA0G+bmbt4SWwqUBFIVKgVDzzxC\\u002fmHCCTEAwpqE1IaS5aX2L5z51s4B38FLW5sBpiVQ4GwDRcJmRkITWZlJyBUAIwUmubBJEBUHE3ZXBNEFwYJEa01UHBIYjR30II8BUmyMl00CMOTqElE11hYOUnXY+NwwEboLi4iAcUiJHcpl1bD+o799hrckMSNITBH6XuYd\\u002fvrerORC0o1yy4JGS21gaD588Pn2\\u002fbH1V26hgMBSMNopKQwx\\u002f7Lw5Me3tDC8NwKhkqQeshUQ3X\\u002febenNb\\u002fZ6DzVzEDiAWjaLtbq5fway28\\u002ffPf1cd5B2QDK6NZyPd3ajBqrcfv+p3d63R\\u002fzFEpSDdwv9WiJRxj57c8fFs\\u002f\\u002fHa7OwSQBWGablGSZt2384Zft4ePLUWNid0ktPLRy99V6GHHxbnvafXq5ABckkzk18mq4fnv\\u002fzYCLdX35958rUd\\u002fNvYnMDHVqi\\u002fX996sxZ9g\\u002ffdwdW58IZheF1ncRxMMwjswvjw\\u002f7s+W07KSJMDUMEYqqLez4+Ndzs77wOgWTVE5TuWMMOzP6429\\u002ft64sSpFs2KSYjbjCkOteL8ff\\u002fzgsh\\u002fUip7AwFwP1vFlM5PPr4dOfT7BZ3ufeLGbLwi4VlrICSrr7coLl3aLPgDQRumiO4NtSSqctpXUaVp3VaNRKmECDqHxaJRluq9Vm6DO6EjlWL5IMJKb+HC3dTjj2wD6zOSUIEDOkucyqRbXRyJ5YDLOGehFnr6lR86tw4KIWAQCqvYrU\\u002fwEz5neYeclsKAAAAABJRU5ErkJggg==\",\"type\":\"image\",\"xaxis\":\"x9\",\"yaxis\":\"y9\",\"hovertemplate\":\"x: %{x}\\u003cbr\\u003ey: %{y}\\u003cextra\\u003e\\u003c\\u002fextra\\u003e\"},{\"name\":\"4\",\"source\":\"data:image\\u002fpng;base64,iVBORw0KGgoAAAANSUhEUgAAABwAAAAcCAAAAABXZoBIAAACO0lEQVR4XgXB227UVhQA0H07PrYnY48zBGhSKRVv\\u002fCPfiYRQX1qoCCHNXG2fy96btfATYoWY2ySuQRViVXZUIACTxlCgYmYgUSSoQA5EqAZRLLdQK1uDqwARAmooWBgIXCxqaYg5Yh+JvLiaKVNmRBCyKiRyczONHdO6pNN5peRBkRZR9oLNzfZ+mJo5lbT6\\u002fHTUNkSgIGyNaTtMQ3h9en5JfUvnw\\u002ffU3w2juTg6tZDSf8dvX57W4f1fO5nPFx8hhyqG5gg+z18\\u002f\\u002f1juYmi3vK0pWSOC4rUptaT1+9d\\u002f8P3j4\\u002f3D8BqEArkCCUn1ivPx5\\u002f\\u002ftnx8fp2EP69nHjghIhSqKFV3qOHz8cLvtmsOPpQ3bVsBQgH1u5ZjDu8eHvUA9fnu1KQ4CpCxZZGOr8u30Rz9z4tPzMkjPTTRyIWRlxZtxv9Nc8DKfYNyRsqGBtGtRdb97u5cll8vLMY\\u002fbjVQ19SKZjUymt\\u002fe3OVzOl2UR63ai5aDsggSaZbh9aNZZS0rkG+k7na8LoaCbhdwPfZ9jXpSbELdjW89RrkEMlBYywKYLgUOkZv\\u002fuTg6h1j6LY2NI5+MBhZWC8\\u002fRmCnW+Zi4sZLRytn99hcNcuY\\u002fjrpzn55RdqyhlVroul78xl8qbEMqhXE7ZIKCws7W+vPw8kcVhiPp6Rc9uWrpFqIIhbsuvrKkPjSsECoDsbEFWhla57LqpQAyRjZSUNDVcUGKBRCBdG0EjCOSNr50xGcciEMiNiGDMXAUlKjXmSApmvwEPe16gLMOXIwAAAABJRU5ErkJggg==\",\"type\":\"image\",\"xaxis\":\"x10\",\"yaxis\":\"y10\",\"hovertemplate\":\"x: %{x}\\u003cbr\\u003ey: %{y}\\u003cextra\\u003e\\u003c\\u002fextra\\u003e\"},{\"name\":\"5\",\"source\":\"data:image\\u002fpng;base64,iVBORw0KGgoAAAANSUhEUgAAABwAAAAcCAAAAABXZoBIAAACG0lEQVR4XgXBSXLTQBQA0D+2JDs2wQlQFFmxobgmF2UThhCGeJLU3X\\u002fgPfyyaDIaBwQDACW6SRfEyEIwYUYi1iQO0h4NC5fgIGjkHIAW6wTex7TM4pLkgUthcutkDOKRdu2zUY4uMIJMgcLIAFDcol\\u002f9Useb7U64mLkTiUHxaSVkoHJejnk\\u002fwShUkymcKAFMCwyqaGuzLPsBm0B0AGKDMnAoqGBiBChL1I7GSeQlIJVJMGS30YzcjNlezmCSIoAJki6qha5\\u002fAKcdr797jFxJOjBoDogaaq1FmabNGdehqZCINExJnhTp+bpo2R+SsdqEngIVvHQuN\\u002ftaY0Hc30+gJksdHMSYCTro7WE946bfPtzenShrgeIu7IkafXN4e3l5+LPdvT2MdRoHFzeQ1My5b7HsylqfnwQzARmTY1elVJ\\u002fcLsvpGGm05stpW89GGj6zzDQ1W\\u002fDn3uvp8cdT\\u002fvomx8tKIJpdimPA7MPXn3x8+vaIhw+lnYhGMmFpslig\\u002f\\u002fNX\\u002ffr04\\u002fvwctxdXEeQTiiMpaxj9Nno+Pvx+ZYIBqUBQgkksXNoce+x\\u002fr3C68PdtnZHNHYWzAglgA7M47s3nz+9u1l8sQbkIqFI4Jvo2OHhnj6+31BfyAibNtEVgRRYxMd94zu95HE2igQACZg6NkWKunQb26+Jzi2aEDYR9nmIwbOplaAxTj3TlgLUEMRKODZKdoGJIHFO7uyUwPkfvClktE51NzQAAAAASUVORK5CYII=\",\"type\":\"image\",\"xaxis\":\"x\",\"yaxis\":\"y\",\"hovertemplate\":\"x: %{x}\\u003cbr\\u003ey: %{y}\\u003cextra\\u003e\\u003c\\u002fextra\\u003e\"},{\"name\":\"6\",\"source\":\"data:image\\u002fpng;base64,iVBORw0KGgoAAAANSUhEUgAAABwAAAAcCAAAAABXZoBIAAACM0lEQVR4XgXB2VJTQRAA0N5m7iQ3JAhBC9DS0h\\u002f1U31AxVRCNu4yS3d7Dv6sobFLYWxsKFhDbYyMJQLRnBq5GjcEgKpWCxE1bAy5SN\\u002fIKJpxxSu1WtmrBHRsHGdRIABFb6VNVtQ32IkCUijUCUATA2h1zEPVbrO9XyG+TzM4ghiKUvXpcimjL9P66dMdD6c9TsFAtCtgOp3Pp9lTWG8wdSFBK7E5CBfEWto4Vkq3j+ueR78xplTRWUCwBp8ZUto+f1wbnksOauiGKqLOYiJr\\u002fPD0dUPjrDvukjlKJalMzhBW2D9+ve+yjsd32vQdamERR\\u002fOZAoX+tu91vOz216UTz+qeBStHNeObPoY8nP68HOt2U3IDMBUUbdokkvgJD\\u002f9+7eCh91ykIooYmlNqUIYC47\\u002fdn\\u002fDt0wasNurYxI0ZCa0e8\\u002fV4eCs\\u002fHr+Ht332FCgIktebAHk+HqfDfljdf34eX8eBEhAQtQSwXnYwXK6T8f3j51SHtyk7eRW0AsuV6YF8NglPX27y68s5LhTYhEPtOAF8uHvPZbn98Qz73\\u002ftCMepMUima03YmXvw98pfv6+Flp7zsonUksQGVYfvx9u75dWcPD3V\\u002fqCluO4+oUkWxvL+Fzfru6TCTX\\u002fYlrtJywUZRMAcYSfXalwblWqa65EUnFDOreDclPU+nhedWGrpYgMLELZqLt1ARcjmbuvZBJEBFYsQCJECA6EomJCaCiBWkadcAQbgwEwADNWOeuYCiC07RdfEfsSVqWDO3JwYAAAAASUVORK5CYII=\",\"type\":\"image\",\"xaxis\":\"x2\",\"yaxis\":\"y2\",\"hovertemplate\":\"x: %{x}\\u003cbr\\u003ey: %{y}\\u003cextra\\u003e\\u003c\\u002fextra\\u003e\"},{\"name\":\"7\",\"source\":\"data:image\\u002fpng;base64,iVBORw0KGgoAAAANSUhEUgAAABwAAAAcCAAAAABXZoBIAAACNklEQVR4XgXBXW8TRxQA0Ps1O5O1N8aJcSAVCF4rVUi88tf4n32JKlUUQzBpQrze3Zm5cy\\u002fn4OeuYQNqYCzSKhKAMpJhwyY+CwVFAXM1IjRsBEoAjEUYwYy5okspOEesgshGUDEIGbh4Y8fqmnPWWBKRISKAOCGCxgZGyszn+ohxFROCgIljRUoWECfV6p5Hnh2JxRkEuApCF8GWUoT6Noc+aHLSYNI8mnRDxHkZ6npoDzvZYDH3sJCIUdel9dAswG43jLBaX+PT44QIKMDKnBKXU6aYfDq27Vb0nDlHl8rBvOTy88fCqPnucPWuQ3TPHblEaHhO43w4zjz2D\\u002f+c1oGnuVYyJTEPtZvw8XjM\\u002fdy+H1eXQz3eT0LQFRFrrAuO40nVTg\\u002fL21f+39dfJkEyiTdj68ZlLqWcnvPL99fT4csSh06jSwZiL9YweJ749uPHF4fDA0UwKijiFbV5G9p5Crs\\u002fP715+v9+7okDuhFjQiJPDGrp9sNfq\\u002fsvvxqG5MU7ci\\u002fqAEJlmtL+j\\u002fj97n6S7YqU2amCMAohgHrc8Le\\u002f757i5dCJsFdJ1Q2sIbKn9cX049\\u002fHi\\u002f1+QxALkVQ08YwWhr28Weuz7lbX2yijo7M0Rmhp5ni1uXp9059vet8EP4s6NklLV9ipgz7c3mxzumhmTcHJWpASLJh5vAz7Fz3WxhioMJXgBkJKFakLsQ9UfXILikAKRgxiBAEctRiOgvlZqDZuLAYqIoVQU4EFz+zkhSAwmimG1n4DTSFioK6Fn+YAAAAASUVORK5CYII=\",\"type\":\"image\",\"xaxis\":\"x3\",\"yaxis\":\"y3\",\"hovertemplate\":\"x: %{x}\\u003cbr\\u003ey: %{y}\\u003cextra\\u003e\\u003c\\u002fextra\\u003e\"},{\"name\":\"8\",\"source\":\"data:image\\u002fpng;base64,iVBORw0KGgoAAAANSUhEUgAAABwAAAAcCAAAAABXZoBIAAACaUlEQVR4XgXBS29TRxQA4DPnnHnce23HDjFNIEqpwoZFuqjYVP1x\\u002fDV2CFbdtKpUpYoUEjkxdgBzHzNzzky\\u002fz7xD8apNb7jCxHY0ltRFMFBYEIVzxkgGUIMV22CE6BmcMjFkJ4iRK0moJmgupJKaBF6Aq81BBxIiu2gt0m5\\u002fqGAVlJOyVjuSN2U+m18slyRPj5u0jQXR1MBhknZAIL+8+GntBlO71S7cDqUIAU9Asai34Wj9nO\\u002fvD2FWPfidlAaI2U2Q2mnWLsPw34fr6eLVC3VC0UlXWQczYN8Rl+0\\u002fHz7eneZ1Mj0wSaOZtbJRnXL\\u002f+fHT+890tj5ZpSrgMlBlIOER0ze6+fvPjfv57R9X9a6WIs4Bc5N8bHo1X26uD2evr37\\u002fbfUwDBPMJyrKsQJkCYf99Xbx5u2bX8+G\\u002fWZP1bScHaomMl0dH\\u002fbmxdXlxVHe\\u002fLubqoMUTeFW3GSFY18XZ8\\u002fWHLd\\u002f3R4O7cwVLoXFDOjtNwnHs\\u002fNT0rvNXb\\u002f3tjZmqIYF5z\\u002fUdKmszi9fNqX\\u002fOgpb8FkAKxPs5k3NfDS\\u002f\\u002fOVlv\\u002f+ux+3CsBJhRS42NNRh5NPX5x6+uJMkUSbBpozEJoX0bOlrWD9flEIYmoGSOsm2ZC41d42dudnKl1GHTHWYRCElSYVdrFraLrRYv\\u002fb3DztJqrFFAEFmRFuevCUdh\\u002f3D7e1TYuauzI0UBR4pUdpM3VEZH+9vvk9lFmYaiSaPhQFQUz9ZUw\\u002f7bZ8w+LYxpgpoapnsj0YppZKMPVmqePSOtDKhj2xSl1MQW12kTsbjKhhiVycySJhMzC5B0eIWllZqFiGDyNyg1\\u002f8BadZ5MgwjjSMAAAAASUVORK5CYII=\",\"type\":\"image\",\"xaxis\":\"x4\",\"yaxis\":\"y4\",\"hovertemplate\":\"x: %{x}\\u003cbr\\u003ey: %{y}\\u003cextra\\u003e\\u003c\\u002fextra\\u003e\"},{\"name\":\"9\",\"source\":\"data:image\\u002fpng;base64,iVBORw0KGgoAAAANSUhEUgAAABwAAAAcCAAAAABXZoBIAAACAElEQVR4XgXB2W4TSRQA0Lt2tbtjbNZkpHkCib\\u002fkhwkg48RxVd2Nc\\u002fAHUoQEA0eyg2AA2RIEbCyEzmxUmMUAAsZU7JgFkIJSQJoILlZiAgQoGFjiKOU0ECkJbCQkraVQJZmDUDBzSZoyx3zNmdLWrS1JQIElU9mkaM7bHAYafYx93TiRKaRBUJbF6D35vOXreEtgZKYBMjmRBnXzkvPjZvzrfn35fD4EUooCgHO3CXo6v1PcZFyHskiyShYiJsHS9OHUxJcDDN9PzuQkDOWU+OC6amtZZTU1UcvQ5a7FQc32g7Ca27AOSOzbUJcGwJSxtk0LOszrpfNxYZjQQYDByHXZdva+jLxZ031FWDqTRCAmJKluKZbZPuxj3xEcXIUx0UvAkbKqx\\u002fHd7FY8a+GSpGDNuAfP\\u002fP36UufjvLyyHxYAEMo2J4H1G4+fL\\u002fa0bTaDpVwwJZISZ9kEuz1fjp8WmpEBVZAgCxjmNBvWL8\\u002f3h3MLC5TQQGKywhpp\\u002fX7983yp9x8OSapM2AhRIKsozMfb36s\\u002f\\u002fv90jGUFQDQmk6Tig2mP8OXj92+PzU9gEcWEIgxMvkOFnU5fvj4di7SlZEhQCRaGFmFCO\\u002fz3RXtGpjhyMbpUCiRBs5RV3n7f4NY92QqqSpCcNRrj6k3j5QJkhpmSBCVVCk64aJAzdJkJiKFJHu0ftYtqDFebEOkAAAAASUVORK5CYII=\",\"type\":\"image\",\"xaxis\":\"x5\",\"yaxis\":\"y5\",\"hovertemplate\":\"x: %{x}\\u003cbr\\u003ey: %{y}\\u003cextra\\u003e\\u003c\\u002fextra\\u003e\"}],                        {\"template\":{\"data\":{\"histogram2dcontour\":[{\"type\":\"histogram2dcontour\",\"colorbar\":{\"outlinewidth\":0,\"ticks\":\"\"},\"colorscale\":[[0.0,\"#0d0887\"],[0.1111111111111111,\"#46039f\"],[0.2222222222222222,\"#7201a8\"],[0.3333333333333333,\"#9c179e\"],[0.4444444444444444,\"#bd3786\"],[0.5555555555555556,\"#d8576b\"],[0.6666666666666666,\"#ed7953\"],[0.7777777777777778,\"#fb9f3a\"],[0.8888888888888888,\"#fdca26\"],[1.0,\"#f0f921\"]]}],\"choropleth\":[{\"type\":\"choropleth\",\"colorbar\":{\"outlinewidth\":0,\"ticks\":\"\"}}],\"histogram2d\":[{\"type\":\"histogram2d\",\"colorbar\":{\"outlinewidth\":0,\"ticks\":\"\"},\"colorscale\":[[0.0,\"#0d0887\"],[0.1111111111111111,\"#46039f\"],[0.2222222222222222,\"#7201a8\"],[0.3333333333333333,\"#9c179e\"],[0.4444444444444444,\"#bd3786\"],[0.5555555555555556,\"#d8576b\"],[0.6666666666666666,\"#ed7953\"],[0.7777777777777778,\"#fb9f3a\"],[0.8888888888888888,\"#fdca26\"],[1.0,\"#f0f921\"]]}],\"heatmap\":[{\"type\":\"heatmap\",\"colorbar\":{\"outlinewidth\":0,\"ticks\":\"\"},\"colorscale\":[[0.0,\"#0d0887\"],[0.1111111111111111,\"#46039f\"],[0.2222222222222222,\"#7201a8\"],[0.3333333333333333,\"#9c179e\"],[0.4444444444444444,\"#bd3786\"],[0.5555555555555556,\"#d8576b\"],[0.6666666666666666,\"#ed7953\"],[0.7777777777777778,\"#fb9f3a\"],[0.8888888888888888,\"#fdca26\"],[1.0,\"#f0f921\"]]}],\"heatmapgl\":[{\"type\":\"heatmapgl\",\"colorbar\":{\"outlinewidth\":0,\"ticks\":\"\"},\"colorscale\":[[0.0,\"#0d0887\"],[0.1111111111111111,\"#46039f\"],[0.2222222222222222,\"#7201a8\"],[0.3333333333333333,\"#9c179e\"],[0.4444444444444444,\"#bd3786\"],[0.5555555555555556,\"#d8576b\"],[0.6666666666666666,\"#ed7953\"],[0.7777777777777778,\"#fb9f3a\"],[0.8888888888888888,\"#fdca26\"],[1.0,\"#f0f921\"]]}],\"contourcarpet\":[{\"type\":\"contourcarpet\",\"colorbar\":{\"outlinewidth\":0,\"ticks\":\"\"}}],\"contour\":[{\"type\":\"contour\",\"colorbar\":{\"outlinewidth\":0,\"ticks\":\"\"},\"colorscale\":[[0.0,\"#0d0887\"],[0.1111111111111111,\"#46039f\"],[0.2222222222222222,\"#7201a8\"],[0.3333333333333333,\"#9c179e\"],[0.4444444444444444,\"#bd3786\"],[0.5555555555555556,\"#d8576b\"],[0.6666666666666666,\"#ed7953\"],[0.7777777777777778,\"#fb9f3a\"],[0.8888888888888888,\"#fdca26\"],[1.0,\"#f0f921\"]]}],\"surface\":[{\"type\":\"surface\",\"colorbar\":{\"outlinewidth\":0,\"ticks\":\"\"},\"colorscale\":[[0.0,\"#0d0887\"],[0.1111111111111111,\"#46039f\"],[0.2222222222222222,\"#7201a8\"],[0.3333333333333333,\"#9c179e\"],[0.4444444444444444,\"#bd3786\"],[0.5555555555555556,\"#d8576b\"],[0.6666666666666666,\"#ed7953\"],[0.7777777777777778,\"#fb9f3a\"],[0.8888888888888888,\"#fdca26\"],[1.0,\"#f0f921\"]]}],\"mesh3d\":[{\"type\":\"mesh3d\",\"colorbar\":{\"outlinewidth\":0,\"ticks\":\"\"}}],\"scatter\":[{\"fillpattern\":{\"fillmode\":\"overlay\",\"size\":10,\"solidity\":0.2},\"type\":\"scatter\"}],\"parcoords\":[{\"type\":\"parcoords\",\"line\":{\"colorbar\":{\"outlinewidth\":0,\"ticks\":\"\"}}}],\"scatterpolargl\":[{\"type\":\"scatterpolargl\",\"marker\":{\"colorbar\":{\"outlinewidth\":0,\"ticks\":\"\"}}}],\"bar\":[{\"error_x\":{\"color\":\"#2a3f5f\"},\"error_y\":{\"color\":\"#2a3f5f\"},\"marker\":{\"line\":{\"color\":\"#E5ECF6\",\"width\":0.5},\"pattern\":{\"fillmode\":\"overlay\",\"size\":10,\"solidity\":0.2}},\"type\":\"bar\"}],\"scattergeo\":[{\"type\":\"scattergeo\",\"marker\":{\"colorbar\":{\"outlinewidth\":0,\"ticks\":\"\"}}}],\"scatterpolar\":[{\"type\":\"scatterpolar\",\"marker\":{\"colorbar\":{\"outlinewidth\":0,\"ticks\":\"\"}}}],\"histogram\":[{\"marker\":{\"pattern\":{\"fillmode\":\"overlay\",\"size\":10,\"solidity\":0.2}},\"type\":\"histogram\"}],\"scattergl\":[{\"type\":\"scattergl\",\"marker\":{\"colorbar\":{\"outlinewidth\":0,\"ticks\":\"\"}}}],\"scatter3d\":[{\"type\":\"scatter3d\",\"line\":{\"colorbar\":{\"outlinewidth\":0,\"ticks\":\"\"}},\"marker\":{\"colorbar\":{\"outlinewidth\":0,\"ticks\":\"\"}}}],\"scattermapbox\":[{\"type\":\"scattermapbox\",\"marker\":{\"colorbar\":{\"outlinewidth\":0,\"ticks\":\"\"}}}],\"scatterternary\":[{\"type\":\"scatterternary\",\"marker\":{\"colorbar\":{\"outlinewidth\":0,\"ticks\":\"\"}}}],\"scattercarpet\":[{\"type\":\"scattercarpet\",\"marker\":{\"colorbar\":{\"outlinewidth\":0,\"ticks\":\"\"}}}],\"carpet\":[{\"aaxis\":{\"endlinecolor\":\"#2a3f5f\",\"gridcolor\":\"white\",\"linecolor\":\"white\",\"minorgridcolor\":\"white\",\"startlinecolor\":\"#2a3f5f\"},\"baxis\":{\"endlinecolor\":\"#2a3f5f\",\"gridcolor\":\"white\",\"linecolor\":\"white\",\"minorgridcolor\":\"white\",\"startlinecolor\":\"#2a3f5f\"},\"type\":\"carpet\"}],\"table\":[{\"cells\":{\"fill\":{\"color\":\"#EBF0F8\"},\"line\":{\"color\":\"white\"}},\"header\":{\"fill\":{\"color\":\"#C8D4E3\"},\"line\":{\"color\":\"white\"}},\"type\":\"table\"}],\"barpolar\":[{\"marker\":{\"line\":{\"color\":\"#E5ECF6\",\"width\":0.5},\"pattern\":{\"fillmode\":\"overlay\",\"size\":10,\"solidity\":0.2}},\"type\":\"barpolar\"}],\"pie\":[{\"automargin\":true,\"type\":\"pie\"}]},\"layout\":{\"autotypenumbers\":\"strict\",\"colorway\":[\"#636efa\",\"#EF553B\",\"#00cc96\",\"#ab63fa\",\"#FFA15A\",\"#19d3f3\",\"#FF6692\",\"#B6E880\",\"#FF97FF\",\"#FECB52\"],\"font\":{\"color\":\"#2a3f5f\"},\"hovermode\":\"closest\",\"hoverlabel\":{\"align\":\"left\"},\"paper_bgcolor\":\"white\",\"plot_bgcolor\":\"#E5ECF6\",\"polar\":{\"bgcolor\":\"#E5ECF6\",\"angularaxis\":{\"gridcolor\":\"white\",\"linecolor\":\"white\",\"ticks\":\"\"},\"radialaxis\":{\"gridcolor\":\"white\",\"linecolor\":\"white\",\"ticks\":\"\"}},\"ternary\":{\"bgcolor\":\"#E5ECF6\",\"aaxis\":{\"gridcolor\":\"white\",\"linecolor\":\"white\",\"ticks\":\"\"},\"baxis\":{\"gridcolor\":\"white\",\"linecolor\":\"white\",\"ticks\":\"\"},\"caxis\":{\"gridcolor\":\"white\",\"linecolor\":\"white\",\"ticks\":\"\"}},\"coloraxis\":{\"colorbar\":{\"outlinewidth\":0,\"ticks\":\"\"}},\"colorscale\":{\"sequential\":[[0.0,\"#0d0887\"],[0.1111111111111111,\"#46039f\"],[0.2222222222222222,\"#7201a8\"],[0.3333333333333333,\"#9c179e\"],[0.4444444444444444,\"#bd3786\"],[0.5555555555555556,\"#d8576b\"],[0.6666666666666666,\"#ed7953\"],[0.7777777777777778,\"#fb9f3a\"],[0.8888888888888888,\"#fdca26\"],[1.0,\"#f0f921\"]],\"sequentialminus\":[[0.0,\"#0d0887\"],[0.1111111111111111,\"#46039f\"],[0.2222222222222222,\"#7201a8\"],[0.3333333333333333,\"#9c179e\"],[0.4444444444444444,\"#bd3786\"],[0.5555555555555556,\"#d8576b\"],[0.6666666666666666,\"#ed7953\"],[0.7777777777777778,\"#fb9f3a\"],[0.8888888888888888,\"#fdca26\"],[1.0,\"#f0f921\"]],\"diverging\":[[0,\"#8e0152\"],[0.1,\"#c51b7d\"],[0.2,\"#de77ae\"],[0.3,\"#f1b6da\"],[0.4,\"#fde0ef\"],[0.5,\"#f7f7f7\"],[0.6,\"#e6f5d0\"],[0.7,\"#b8e186\"],[0.8,\"#7fbc41\"],[0.9,\"#4d9221\"],[1,\"#276419\"]]},\"xaxis\":{\"gridcolor\":\"white\",\"linecolor\":\"white\",\"ticks\":\"\",\"title\":{\"standoff\":15},\"zerolinecolor\":\"white\",\"automargin\":true,\"zerolinewidth\":2},\"yaxis\":{\"gridcolor\":\"white\",\"linecolor\":\"white\",\"ticks\":\"\",\"title\":{\"standoff\":15},\"zerolinecolor\":\"white\",\"automargin\":true,\"zerolinewidth\":2},\"scene\":{\"xaxis\":{\"backgroundcolor\":\"#E5ECF6\",\"gridcolor\":\"white\",\"linecolor\":\"white\",\"showbackground\":true,\"ticks\":\"\",\"zerolinecolor\":\"white\",\"gridwidth\":2},\"yaxis\":{\"backgroundcolor\":\"#E5ECF6\",\"gridcolor\":\"white\",\"linecolor\":\"white\",\"showbackground\":true,\"ticks\":\"\",\"zerolinecolor\":\"white\",\"gridwidth\":2},\"zaxis\":{\"backgroundcolor\":\"#E5ECF6\",\"gridcolor\":\"white\",\"linecolor\":\"white\",\"showbackground\":true,\"ticks\":\"\",\"zerolinecolor\":\"white\",\"gridwidth\":2}},\"shapedefaults\":{\"line\":{\"color\":\"#2a3f5f\"}},\"annotationdefaults\":{\"arrowcolor\":\"#2a3f5f\",\"arrowhead\":0,\"arrowwidth\":1},\"geo\":{\"bgcolor\":\"white\",\"landcolor\":\"#E5ECF6\",\"subunitcolor\":\"white\",\"showland\":true,\"showlakes\":true,\"lakecolor\":\"white\"},\"title\":{\"x\":0.05},\"mapbox\":{\"style\":\"light\"}}},\"xaxis\":{\"anchor\":\"y\",\"domain\":[0.0,0.18400000000000002]},\"yaxis\":{\"anchor\":\"x\",\"domain\":[0.0,0.46499999999999997]},\"xaxis2\":{\"anchor\":\"y2\",\"domain\":[0.20400000000000001,0.388],\"matches\":\"x\"},\"yaxis2\":{\"anchor\":\"x2\",\"domain\":[0.0,0.46499999999999997],\"matches\":\"y\",\"showticklabels\":false},\"xaxis3\":{\"anchor\":\"y3\",\"domain\":[0.40800000000000003,0.5920000000000001],\"matches\":\"x\"},\"yaxis3\":{\"anchor\":\"x3\",\"domain\":[0.0,0.46499999999999997],\"matches\":\"y\",\"showticklabels\":false},\"xaxis4\":{\"anchor\":\"y4\",\"domain\":[0.6120000000000001,0.7960000000000002],\"matches\":\"x\"},\"yaxis4\":{\"anchor\":\"x4\",\"domain\":[0.0,0.46499999999999997],\"matches\":\"y\",\"showticklabels\":false},\"xaxis5\":{\"anchor\":\"y5\",\"domain\":[0.8160000000000001,1.0],\"matches\":\"x\"},\"yaxis5\":{\"anchor\":\"x5\",\"domain\":[0.0,0.46499999999999997],\"matches\":\"y\",\"showticklabels\":false},\"xaxis6\":{\"anchor\":\"y6\",\"domain\":[0.0,0.18400000000000002],\"matches\":\"x\",\"showticklabels\":false},\"yaxis6\":{\"anchor\":\"x6\",\"domain\":[0.5349999999999999,0.9999999999999999],\"matches\":\"y\"},\"xaxis7\":{\"anchor\":\"y7\",\"domain\":[0.20400000000000001,0.388],\"matches\":\"x\",\"showticklabels\":false},\"yaxis7\":{\"anchor\":\"x7\",\"domain\":[0.5349999999999999,0.9999999999999999],\"matches\":\"y\",\"showticklabels\":false},\"xaxis8\":{\"anchor\":\"y8\",\"domain\":[0.40800000000000003,0.5920000000000001],\"matches\":\"x\",\"showticklabels\":false},\"yaxis8\":{\"anchor\":\"x8\",\"domain\":[0.5349999999999999,0.9999999999999999],\"matches\":\"y\",\"showticklabels\":false},\"xaxis9\":{\"anchor\":\"y9\",\"domain\":[0.6120000000000001,0.7960000000000002],\"matches\":\"x\",\"showticklabels\":false},\"yaxis9\":{\"anchor\":\"x9\",\"domain\":[0.5349999999999999,0.9999999999999999],\"matches\":\"y\",\"showticklabels\":false},\"xaxis10\":{\"anchor\":\"y10\",\"domain\":[0.8160000000000001,1.0],\"matches\":\"x\",\"showticklabels\":false},\"yaxis10\":{\"anchor\":\"x10\",\"domain\":[0.5349999999999999,0.9999999999999999],\"matches\":\"y\",\"showticklabels\":false},\"annotations\":[{\"font\":{},\"showarrow\":false,\"text\":\"facet_col=5\",\"x\":0.09200000000000001,\"xanchor\":\"center\",\"xref\":\"paper\",\"y\":0.46499999999999997,\"yanchor\":\"bottom\",\"yref\":\"paper\"},{\"font\":{},\"showarrow\":false,\"text\":\"facet_col=6\",\"x\":0.29600000000000004,\"xanchor\":\"center\",\"xref\":\"paper\",\"y\":0.46499999999999997,\"yanchor\":\"bottom\",\"yref\":\"paper\"},{\"font\":{},\"showarrow\":false,\"text\":\"facet_col=7\",\"x\":0.5,\"xanchor\":\"center\",\"xref\":\"paper\",\"y\":0.46499999999999997,\"yanchor\":\"bottom\",\"yref\":\"paper\"},{\"font\":{},\"showarrow\":false,\"text\":\"facet_col=8\",\"x\":0.7040000000000002,\"xanchor\":\"center\",\"xref\":\"paper\",\"y\":0.46499999999999997,\"yanchor\":\"bottom\",\"yref\":\"paper\"},{\"font\":{},\"showarrow\":false,\"text\":\"facet_col=9\",\"x\":0.908,\"xanchor\":\"center\",\"xref\":\"paper\",\"y\":0.46499999999999997,\"yanchor\":\"bottom\",\"yref\":\"paper\"},{\"font\":{},\"showarrow\":false,\"text\":\"facet_col=0\",\"x\":0.09200000000000001,\"xanchor\":\"center\",\"xref\":\"paper\",\"y\":0.9999999999999999,\"yanchor\":\"bottom\",\"yref\":\"paper\"},{\"font\":{},\"showarrow\":false,\"text\":\"facet_col=1\",\"x\":0.29600000000000004,\"xanchor\":\"center\",\"xref\":\"paper\",\"y\":0.9999999999999999,\"yanchor\":\"bottom\",\"yref\":\"paper\"},{\"font\":{},\"showarrow\":false,\"text\":\"facet_col=2\",\"x\":0.5,\"xanchor\":\"center\",\"xref\":\"paper\",\"y\":0.9999999999999999,\"yanchor\":\"bottom\",\"yref\":\"paper\"},{\"font\":{},\"showarrow\":false,\"text\":\"facet_col=3\",\"x\":0.7040000000000002,\"xanchor\":\"center\",\"xref\":\"paper\",\"y\":0.9999999999999999,\"yanchor\":\"bottom\",\"yref\":\"paper\"},{\"font\":{},\"showarrow\":false,\"text\":\"facet_col=4\",\"x\":0.908,\"xanchor\":\"center\",\"xref\":\"paper\",\"y\":0.9999999999999999,\"yanchor\":\"bottom\",\"yref\":\"paper\"}],\"margin\":{\"t\":60}},                        {\"responsive\": true}                    ).then(function(){\n",
       "                            \n",
       "var gd = document.getElementById('a99a00a2-194b-4389-be38-a69769c48ee2');\n",
       "var x = new MutationObserver(function (mutations, observer) {{\n",
       "        var display = window.getComputedStyle(gd).display;\n",
       "        if (!display || display === 'none') {{\n",
       "            console.log([gd, 'removed!']);\n",
       "            Plotly.purge(gd);\n",
       "            observer.disconnect();\n",
       "        }}\n",
       "}});\n",
       "\n",
       "// Listen for the removal of the full notebook cells\n",
       "var notebookContainer = gd.closest('#notebook-container');\n",
       "if (notebookContainer) {{\n",
       "    x.observe(notebookContainer, {childList: true});\n",
       "}}\n",
       "\n",
       "// Listen for the clearing of the current output cell\n",
       "var outputEl = gd.closest('.output');\n",
       "if (outputEl) {{\n",
       "    x.observe(outputEl, {childList: true});\n",
       "}}\n",
       "\n",
       "                        })                };                });            </script>        </div>"
      ]
     },
     "metadata": {},
     "output_type": "display_data"
    }
   ],
   "source": [
    "fig = px.imshow(pca.inverse_transform(X_pca_train[0:10]).reshape(10, 28, 28), binary_string=True, facet_col=0, facet_col_wrap=5)\n",
    "fig.show()\n"
   ]
  },
  {
   "cell_type": "markdown",
   "id": "4345d299",
   "metadata": {},
   "source": [
    "### We notice that the noise has been significantly reduced"
   ]
  },
  {
   "cell_type": "markdown",
   "id": "e448a7ef",
   "metadata": {},
   "source": [
    "### Let's train a SVM model to see the effects of PCA "
   ]
  },
  {
   "cell_type": "code",
   "execution_count": 26,
   "id": "196bd741",
   "metadata": {},
   "outputs": [
    {
     "name": "stdout",
     "output_type": "stream",
     "text": [
      "[LibSVM]"
     ]
    },
    {
     "data": {
      "text/plain": [
       "0.8999047619047619"
      ]
     },
     "execution_count": 26,
     "metadata": {},
     "output_type": "execute_result"
    }
   ],
   "source": [
    "svc.fit(X_pca_train, y_train)\n",
    "svc.score(X_pca_test, y_test)\n"
   ]
  },
  {
   "cell_type": "markdown",
   "id": "cd46e276",
   "metadata": {},
   "source": [
    "### We notice that the accuracy improved and the training took wayyy less time! So the PCA was effective !!"
   ]
  },
  {
   "cell_type": "code",
   "execution_count": null,
   "id": "cfcaff48",
   "metadata": {},
   "outputs": [],
   "source": []
  }
 ],
 "metadata": {
  "kernelspec": {
   "display_name": "Python 3 (ipykernel)",
   "language": "python",
   "name": "python3"
  },
  "language_info": {
   "codemirror_mode": {
    "name": "ipython",
    "version": 3
   },
   "file_extension": ".py",
   "mimetype": "text/x-python",
   "name": "python",
   "nbconvert_exporter": "python",
   "pygments_lexer": "ipython3",
   "version": "3.9.13"
  }
 },
 "nbformat": 4,
 "nbformat_minor": 5
}
